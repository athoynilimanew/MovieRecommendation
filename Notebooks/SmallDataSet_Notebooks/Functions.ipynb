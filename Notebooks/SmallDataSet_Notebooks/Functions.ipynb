{
 "cells": [
  {
   "cell_type": "markdown",
   "id": "7170ec2e",
   "metadata": {},
   "source": [
    "# Input Functions"
   ]
  },
  {
   "cell_type": "code",
   "execution_count": 8,
   "id": "8806e40d",
   "metadata": {},
   "outputs": [],
   "source": [
    "def AskForUserInput(df):\n",
    "    fav_movie=input(\"Enter your Favorite Movie: \").lower()\n",
    "    n=0\n",
    "    \n",
    "    movies=df[df['title'].str.lower().str.contains(fav_movie)].drop(['userId','rating','genres'],axis=1).drop_duplicates()\n",
    "    \n",
    "    #upper case dependency removed\n",
    "    #year removed\n",
    "    \n",
    "    if movies.shape[0]==1:\n",
    "        print(\"We have your favourite movie in our database!\")\n",
    "        return fav_movie\n",
    "    elif movies.shape[0]>1:\n",
    "        print(\"\\nWe have multiple movies with the same name/Part of it, but with different release years:\")\n",
    "        print(movies.to_string(index=False))\n",
    "        \n",
    "        fav_movie_id=int(input(\"Which one do you have in your mind? (Enter the movieId)\"))\n",
    "        ids=movies[\"movieId\"].unique()\n",
    "        if fav_movie_id not in ids :\n",
    "            print(\"Wrong id! Taking the first one\")\n",
    "            fav_movie=movies.iloc[0]['title']\n",
    "            #print(fav_movie)\n",
    "        else:\n",
    "            fav_movie=movies[movies['movieId']==fav_movie_id].iloc[0]['title']\n",
    "       \n",
    "    else:\n",
    "        print(\"Unfortunately, We do not have your favourite movie in our list.\")\n",
    "        fav_movie=\"None\"\n",
    "    \n",
    "    print(\"Your favourite movie:\",fav_movie)\n",
    "    return fav_movie"
   ]
  },
  {
   "cell_type": "markdown",
   "id": "5e2a7da9",
   "metadata": {},
   "source": [
    "# Avg rating"
   ]
  },
  {
   "cell_type": "code",
   "execution_count": 2,
   "id": "d7655d41",
   "metadata": {},
   "outputs": [],
   "source": [
    "def Process_Avg_Rating(inp_df):\n",
    "    df_out_0=inp_df.drop([\"userId\"],axis=1).groupby(['movieId','title',\"year\",\"genres\"])\n",
    "    df_out=df_out_0.mean()\n",
    "    df_out['average rating']=df_out['rating'].round(2)\n",
    "    df_out=df_out.drop(['rating'],axis=1)\n",
    "    df_out['number of ratings']= df_out_0['title'].count()\n",
    "    return df_out "
   ]
  },
  {
   "cell_type": "markdown",
   "id": "c775a4fa",
   "metadata": {},
   "source": []
  },
  {
   "cell_type": "code",
   "execution_count": null,
   "id": "2ad22b2a",
   "metadata": {},
   "outputs": [],
   "source": []
  },
  {
   "cell_type": "markdown",
   "id": "8c03e950",
   "metadata": {},
   "source": [
    "# KNN with Means class, and other functions"
   ]
  },
  {
   "cell_type": "markdown",
   "id": "ddc0cfe7",
   "metadata": {},
   "source": [
    "### Recommender System Class\n",
    "(Inspired from https://www.kaggle.com/code/rangarajansaranathan/collaborative-filtering-based-recommender-system)\n",
    "In [1]:"
   ]
  },
  {
   "cell_type": "code",
   "execution_count": 3,
   "id": "eb525aa7",
   "metadata": {},
   "outputs": [],
   "source": [
    "from collections import defaultdict\n",
    "\n",
    "def get_top_n(predictions,df, n=10):\n",
    "    # First map the predictions to each user.\n",
    "    top_n = defaultdict(list)\n",
    "    for uid, iid, true_r, est, _ in predictions:\n",
    "        #cross-relate other information from the fulldf\n",
    "        movieName=df[df['movieId']==iid]['title'].unique()[0]\n",
    "        movieYear=df[df['movieId']==iid]['year'].unique()[0]\n",
    "        genres=df[df['movieId']==iid]['genres'].unique()[0]\n",
    "        avgRat=df[df['movieId']==iid]['rating'].mean().round(2)\n",
    "        ratedBy=len(df[df['movieId']==iid]['rating'])\n",
    "        \n",
    "        top_n[uid].append((iid, movieName, movieYear, genres, avgRat, ratedBy))\n",
    "\n",
    "    # Then sort the predictions for each user and retrieve the k highest ones.\n",
    "    for uid, user_ratings in top_n.items():\n",
    "        user_ratings.sort(key=lambda x: x[1], reverse=True)\n",
    "        top_n[uid] = user_ratings[:n]\n",
    "\n",
    "    return top_n\n",
    "\n",
    "def rated_already(uid,df):\n",
    "    df_out=df[df['userId']==uid]\n",
    "    return df_out.title.unique()\n",
    "    \n",
    "class collab_filtering_Kmeans_Model():\n",
    "    def __init__(self, model,trainset, testset):\n",
    "        self.model = model\n",
    "        self.trainset = trainset\n",
    "        self.testset = testset\n",
    "\n",
    "    def fit_and_predict(self,df):        \n",
    "        print('**Fitting the train data...**')\n",
    "        self.model.fit(self.trainset)       \n",
    "\n",
    "        print('**Predicting the test data...**')\n",
    "        pred_test = self.model.test(self.testset)        \n",
    "        rmse = round(accuracy.rmse(pred_test), 3)\n",
    "        print('**RMSE for the predicted result is ' + str(rmse) + '**')   \n",
    "        \n",
    "        #display(self.pred_test)\n",
    "        top_n = get_top_n(pred_test,df)\n",
    "      \n",
    "        recommenddf = pd.DataFrame(columns=['userId', 'movieId', 'title', 'year', 'genres', 'average rating','number of ratings'])\n",
    "        \n",
    "        for item in top_n:\n",
    "            subdf = pd.DataFrame(top_n[item], columns=['movieId','title',  'year', 'genres', 'average rating','number of ratings'])\n",
    "            subdf['userId'] = item\n",
    "            \n",
    "            cols = subdf.columns.tolist()\n",
    "            cols = cols[-1:] + cols[:-1]\n",
    "            subdf = subdf[cols]        \n",
    "            recommenddf = pd.concat([recommenddf, subdf], axis = 0)        \n",
    "        return rmse, recommenddf\n",
    "        \n",
    "    def cross_validate(self,data):\n",
    "        print('**Cross Validating the data...**')\n",
    "        cv_result = cross_validate(self.model, data, n_jobs=-1,cv=5,verbose = True)\n",
    "        \n",
    "        return cv_result"
   ]
  },
  {
   "cell_type": "code",
   "execution_count": 4,
   "id": "8611319f",
   "metadata": {},
   "outputs": [],
   "source": [
    "from surprise import accuracy\n",
    "from surprise.dataset import Dataset\n",
    "from surprise.reader import Reader\n",
    "from surprise.model_selection import train_test_split,cross_validate,RandomizedSearchCV\n",
    "from surprise import KNNWithMeans\n",
    "from surprise import KNNBasic\n",
    "\n",
    "def recommend_similar_items(movie_title, df, model, n=5):\n",
    "        # Take the first occurrance of the movie \n",
    "        movieId=df[df['title']==movie_title]['movieId'].unique()[0]\n",
    "        inner_movieId=model.trainset.to_inner_iid(movieId)\n",
    "        \n",
    "        movie_neighbours=model.get_neighbors(inner_movieId,n)\n",
    "        \n",
    "        df_out=df[df.movieId.isin([model.trainset.to_raw_iid(inner_id)\n",
    "                       for inner_id in movie_neighbours])]\n",
    "        \n",
    "        df_out=Process_Avg_Rating(df_out)\n",
    "        \n",
    "        return df_out "
   ]
  },
  {
   "cell_type": "code",
   "execution_count": null,
   "id": "7e84c00d",
   "metadata": {},
   "outputs": [],
   "source": []
  },
  {
   "cell_type": "code",
   "execution_count": null,
   "id": "68abea32",
   "metadata": {},
   "outputs": [],
   "source": []
  },
  {
   "cell_type": "code",
   "execution_count": null,
   "id": "08555b2f",
   "metadata": {},
   "outputs": [],
   "source": []
  },
  {
   "cell_type": "code",
   "execution_count": null,
   "id": "6e297834",
   "metadata": {},
   "outputs": [],
   "source": []
  },
  {
   "cell_type": "code",
   "execution_count": null,
   "id": "8c47461b",
   "metadata": {},
   "outputs": [],
   "source": []
  },
  {
   "cell_type": "code",
   "execution_count": null,
   "id": "9c9d457b",
   "metadata": {},
   "outputs": [],
   "source": []
  },
  {
   "cell_type": "code",
   "execution_count": null,
   "id": "a60c3996",
   "metadata": {},
   "outputs": [],
   "source": []
  },
  {
   "cell_type": "code",
   "execution_count": null,
   "id": "ade946e3",
   "metadata": {},
   "outputs": [],
   "source": []
  },
  {
   "cell_type": "code",
   "execution_count": null,
   "id": "af6d8122",
   "metadata": {},
   "outputs": [],
   "source": []
  },
  {
   "cell_type": "code",
   "execution_count": null,
   "id": "2fc779fe",
   "metadata": {},
   "outputs": [],
   "source": []
  },
  {
   "cell_type": "code",
   "execution_count": null,
   "id": "0d9a82be",
   "metadata": {},
   "outputs": [],
   "source": []
  },
  {
   "cell_type": "code",
   "execution_count": null,
   "id": "571d1ebb",
   "metadata": {},
   "outputs": [],
   "source": []
  },
  {
   "cell_type": "code",
   "execution_count": null,
   "id": "422e3205",
   "metadata": {},
   "outputs": [],
   "source": []
  },
  {
   "cell_type": "code",
   "execution_count": null,
   "id": "69ddd1f6",
   "metadata": {},
   "outputs": [],
   "source": []
  },
  {
   "cell_type": "code",
   "execution_count": null,
   "id": "32ab5b0e",
   "metadata": {},
   "outputs": [],
   "source": []
  },
  {
   "cell_type": "code",
   "execution_count": null,
   "id": "bcc93d46",
   "metadata": {},
   "outputs": [],
   "source": []
  },
  {
   "cell_type": "code",
   "execution_count": null,
   "id": "54d6b255",
   "metadata": {},
   "outputs": [],
   "source": []
  },
  {
   "cell_type": "code",
   "execution_count": null,
   "id": "0a639ffe",
   "metadata": {},
   "outputs": [],
   "source": []
  },
  {
   "cell_type": "code",
   "execution_count": null,
   "id": "05a21bad",
   "metadata": {},
   "outputs": [],
   "source": []
  },
  {
   "cell_type": "code",
   "execution_count": null,
   "id": "9ac6a2ce",
   "metadata": {},
   "outputs": [],
   "source": []
  },
  {
   "cell_type": "code",
   "execution_count": null,
   "id": "8d614006",
   "metadata": {},
   "outputs": [],
   "source": []
  },
  {
   "cell_type": "code",
   "execution_count": null,
   "id": "d6f386b6",
   "metadata": {},
   "outputs": [],
   "source": []
  },
  {
   "cell_type": "code",
   "execution_count": null,
   "id": "832ffbb5",
   "metadata": {},
   "outputs": [],
   "source": []
  },
  {
   "cell_type": "code",
   "execution_count": null,
   "id": "ccd04568",
   "metadata": {},
   "outputs": [],
   "source": []
  },
  {
   "cell_type": "code",
   "execution_count": null,
   "id": "ca3f6341",
   "metadata": {},
   "outputs": [],
   "source": []
  }
 ],
 "metadata": {
  "kernelspec": {
   "display_name": "Python 3 (ipykernel)",
   "language": "python",
   "name": "python3"
  },
  "language_info": {
   "codemirror_mode": {
    "name": "ipython",
    "version": 3
   },
   "file_extension": ".py",
   "mimetype": "text/x-python",
   "name": "python",
   "nbconvert_exporter": "python",
   "pygments_lexer": "ipython3",
   "version": "3.9.13"
  }
 },
 "nbformat": 4,
 "nbformat_minor": 5
}
