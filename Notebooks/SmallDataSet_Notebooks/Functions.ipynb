{
 "cells": [
  {
   "cell_type": "markdown",
   "id": "7170ec2e",
   "metadata": {},
   "source": [
    "# Input Functions"
   ]
  },
  {
   "cell_type": "code",
   "execution_count": 2,
   "id": "8806e40d",
   "metadata": {},
   "outputs": [],
   "source": [
    "def AskForUserInput(df):\n",
    "    fav_movie=input(\"Enter your Favorite Movie: \").lower()\n",
    "    n=0\n",
    "    movies=df[\"title\"].unique()\n",
    "    while fav_movie not in movies and n<5:\n",
    "        print(\"The Movie \", fav_movie,\" does not exist in our database.\")\n",
    "        fav_movie = input(\"Please enter another favourite Movie: \").lower()\n",
    "        n+=1\n",
    "    return fav_movie"
   ]
  },
  {
   "cell_type": "code",
   "execution_count": null,
   "id": "1e543418",
   "metadata": {},
   "outputs": [],
   "source": []
  },
  {
   "cell_type": "code",
   "execution_count": null,
   "id": "787172c2",
   "metadata": {},
   "outputs": [],
   "source": []
  },
  {
   "cell_type": "code",
   "execution_count": null,
   "id": "46b3af9d",
   "metadata": {},
   "outputs": [],
   "source": []
  },
  {
   "cell_type": "code",
   "execution_count": null,
   "id": "7edda43f",
   "metadata": {},
   "outputs": [],
   "source": []
  },
  {
   "cell_type": "markdown",
   "id": "8c03e950",
   "metadata": {},
   "source": [
    "# KNN with Means class, and other functions"
   ]
  },
  {
   "cell_type": "markdown",
   "id": "ddc0cfe7",
   "metadata": {},
   "source": [
    "### Recommender System Class\n",
    "(Inspired from https://www.kaggle.com/code/rangarajansaranathan/collaborative-filtering-based-recommender-system)\n",
    "In [1]:"
   ]
  },
  {
   "cell_type": "code",
   "execution_count": 1,
   "id": "eb525aa7",
   "metadata": {},
   "outputs": [],
   "source": [
    "from collections import defaultdict\n",
    "\n",
    "def get_top_n(predictions,df, n=10):\n",
    "    # First map the predictions to each user.\n",
    "    top_n = defaultdict(list)\n",
    "    for uid, iid, true_r, est, _ in predictions:\n",
    "        #cross-relate other information from the fulldf\n",
    "        movieName=df[df['movieId']==iid]['title'].unique()[0]\n",
    "        movieYear=df[df['movieId']==iid]['year'].unique()[0]\n",
    "        genres=df[df['movieId']==iid]['genres'].unique()[0]\n",
    "        avgRat=df[df['movieId']==iid]['rating'].mean().round(2)\n",
    "        ratedBy=len(df[df['movieId']==iid]['rating'])\n",
    "        \n",
    "        top_n[uid].append((iid, movieName, movieYear, genres, avgRat, ratedBy))\n",
    "\n",
    "    # Then sort the predictions for each user and retrieve the k highest ones.\n",
    "    for uid, user_ratings in top_n.items():\n",
    "        user_ratings.sort(key=lambda x: x[1], reverse=True)\n",
    "        top_n[uid] = user_ratings[:n]\n",
    "\n",
    "    return top_n\n",
    "\n",
    "def rated_already(uid,df):\n",
    "    df_out=df[df['userId']==uid]\n",
    "    return df_out.title.unique()\n",
    "    \n",
    "class collab_filtering_Kmeans_Model():\n",
    "    def __init__(self, model,trainset, testset):\n",
    "        self.model = model\n",
    "        self.trainset = trainset\n",
    "        self.testset = testset\n",
    "\n",
    "    def fit_and_predict(self,df):        \n",
    "        print('**Fitting the train data...**')\n",
    "        self.model.fit(self.trainset)       \n",
    "\n",
    "        print('**Predicting the test data...**')\n",
    "        pred_test = self.model.test(self.testset)        \n",
    "        rmse = round(accuracy.rmse(pred_test), 3)\n",
    "        print('**RMSE for the predicted result is ' + str(rmse) + '**')   \n",
    "        \n",
    "        #display(self.pred_test)\n",
    "        top_n = get_top_n(pred_test,df)\n",
    "      \n",
    "        recommenddf = pd.DataFrame(columns=['userId', 'movieId', 'title', 'year', 'genres', 'average rating','number of ratings'])\n",
    "        \n",
    "        for item in top_n:\n",
    "            subdf = pd.DataFrame(top_n[item], columns=['movieId','title',  'year', 'genres', 'average rating','number of ratings'])\n",
    "            subdf['userId'] = item\n",
    "            \n",
    "            cols = subdf.columns.tolist()\n",
    "            cols = cols[-1:] + cols[:-1]\n",
    "            subdf = subdf[cols]        \n",
    "            recommenddf = pd.concat([recommenddf, subdf], axis = 0)        \n",
    "        return rmse, recommenddf\n",
    "        \n",
    "    def cross_validate(self,data):\n",
    "        print('**Cross Validating the data...**')\n",
    "        cv_result = cross_validate(self.model, data, n_jobs=-1,cv=5,verbose = True)\n",
    "        \n",
    "        return cv_result"
   ]
  },
  {
   "cell_type": "code",
   "execution_count": null,
   "id": "8611319f",
   "metadata": {},
   "outputs": [],
   "source": []
  },
  {
   "cell_type": "code",
   "execution_count": null,
   "id": "7e84c00d",
   "metadata": {},
   "outputs": [],
   "source": []
  },
  {
   "cell_type": "code",
   "execution_count": null,
   "id": "68abea32",
   "metadata": {},
   "outputs": [],
   "source": []
  },
  {
   "cell_type": "code",
   "execution_count": null,
   "id": "08555b2f",
   "metadata": {},
   "outputs": [],
   "source": []
  },
  {
   "cell_type": "code",
   "execution_count": null,
   "id": "6e297834",
   "metadata": {},
   "outputs": [],
   "source": []
  },
  {
   "cell_type": "code",
   "execution_count": null,
   "id": "8c47461b",
   "metadata": {},
   "outputs": [],
   "source": []
  },
  {
   "cell_type": "code",
   "execution_count": null,
   "id": "9c9d457b",
   "metadata": {},
   "outputs": [],
   "source": []
  },
  {
   "cell_type": "code",
   "execution_count": null,
   "id": "a60c3996",
   "metadata": {},
   "outputs": [],
   "source": []
  },
  {
   "cell_type": "code",
   "execution_count": null,
   "id": "ade946e3",
   "metadata": {},
   "outputs": [],
   "source": []
  },
  {
   "cell_type": "code",
   "execution_count": null,
   "id": "af6d8122",
   "metadata": {},
   "outputs": [],
   "source": []
  },
  {
   "cell_type": "code",
   "execution_count": null,
   "id": "2fc779fe",
   "metadata": {},
   "outputs": [],
   "source": []
  },
  {
   "cell_type": "code",
   "execution_count": null,
   "id": "0d9a82be",
   "metadata": {},
   "outputs": [],
   "source": []
  },
  {
   "cell_type": "code",
   "execution_count": null,
   "id": "571d1ebb",
   "metadata": {},
   "outputs": [],
   "source": []
  },
  {
   "cell_type": "code",
   "execution_count": null,
   "id": "422e3205",
   "metadata": {},
   "outputs": [],
   "source": []
  },
  {
   "cell_type": "code",
   "execution_count": null,
   "id": "69ddd1f6",
   "metadata": {},
   "outputs": [],
   "source": []
  },
  {
   "cell_type": "code",
   "execution_count": null,
   "id": "32ab5b0e",
   "metadata": {},
   "outputs": [],
   "source": []
  },
  {
   "cell_type": "code",
   "execution_count": null,
   "id": "bcc93d46",
   "metadata": {},
   "outputs": [],
   "source": []
  },
  {
   "cell_type": "code",
   "execution_count": null,
   "id": "54d6b255",
   "metadata": {},
   "outputs": [],
   "source": []
  },
  {
   "cell_type": "code",
   "execution_count": null,
   "id": "0a639ffe",
   "metadata": {},
   "outputs": [],
   "source": []
  },
  {
   "cell_type": "code",
   "execution_count": null,
   "id": "05a21bad",
   "metadata": {},
   "outputs": [],
   "source": []
  },
  {
   "cell_type": "code",
   "execution_count": null,
   "id": "9ac6a2ce",
   "metadata": {},
   "outputs": [],
   "source": []
  },
  {
   "cell_type": "code",
   "execution_count": null,
   "id": "8d614006",
   "metadata": {},
   "outputs": [],
   "source": []
  },
  {
   "cell_type": "code",
   "execution_count": null,
   "id": "d6f386b6",
   "metadata": {},
   "outputs": [],
   "source": []
  },
  {
   "cell_type": "code",
   "execution_count": null,
   "id": "832ffbb5",
   "metadata": {},
   "outputs": [],
   "source": []
  },
  {
   "cell_type": "code",
   "execution_count": null,
   "id": "ccd04568",
   "metadata": {},
   "outputs": [],
   "source": []
  },
  {
   "cell_type": "code",
   "execution_count": null,
   "id": "ca3f6341",
   "metadata": {},
   "outputs": [],
   "source": []
  }
 ],
 "metadata": {
  "kernelspec": {
   "display_name": "Python 3 (ipykernel)",
   "language": "python",
   "name": "python3"
  },
  "language_info": {
   "codemirror_mode": {
    "name": "ipython",
    "version": 3
   },
   "file_extension": ".py",
   "mimetype": "text/x-python",
   "name": "python",
   "nbconvert_exporter": "python",
   "pygments_lexer": "ipython3",
   "version": "3.9.13"
  }
 },
 "nbformat": 4,
 "nbformat_minor": 5
}
