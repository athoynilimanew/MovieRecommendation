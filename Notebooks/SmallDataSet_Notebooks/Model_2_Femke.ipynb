{
 "cells": [
  {
   "cell_type": "code",
   "execution_count": 6,
   "id": "215191f1",
   "metadata": {},
   "outputs": [],
   "source": [
    "#First we load the data and packages.\n",
    "import pandas as pd\n",
    "import numpy as np\n",
    "from copy import deepcopy\n",
    "from scipy.spatial.distance import pdist, squareform\n",
    "import matplotlib.pyplot as plt\n",
    "from sklearn import preprocessing\n",
    "from sklearn.model_selection import train_test_split\n",
    "# the command below only needs to be run once\n",
    "#import sys\n",
    "#!{sys.executable} -m pip install xgboost\n",
    "import xgboost as xgb\n",
    "#from xgboost.xgbclassifier import XGBClassifier as xgb"
   ]
  },
  {
   "cell_type": "code",
   "execution_count": 7,
   "id": "96c99ec0",
   "metadata": {},
   "outputs": [],
   "source": [
    "# load train and test data, make dummies from genres and combine it with df.\n",
    "df1 = pd.read_csv(\"../../Data/ml-latest-small/PreprocessedData_ml_latest_year_small.csv\",index_col=0)\n",
    "genres = df1.genres.str.get_dummies(sep = \"|\")\n",
    "\n",
    "df = pd.concat([df1, genres], axis=1)\n",
    "df = df.drop(['genres'], axis = 1)"
   ]
  },
  {
   "cell_type": "code",
   "execution_count": 22,
   "id": "9d23a504",
   "metadata": {},
   "outputs": [],
   "source": [
    "#create features and target data\n",
    "data = df.drop(['rating', 'title'], axis= 1)\n",
    "target = df[['rating']]"
   ]
  },
  {
   "cell_type": "code",
   "execution_count": 13,
   "id": "c72ac985",
   "metadata": {},
   "outputs": [],
   "source": [
    "#split df in training and test data\n",
    "X_train, X_test, y_train, y_test = train_test_split(data, target, test_size=0.2, random_state= 101)"
   ]
  },
  {
   "cell_type": "code",
   "execution_count": 23,
   "id": "f54cb650",
   "metadata": {},
   "outputs": [
    {
     "name": "stdout",
     "output_type": "stream",
     "text": [
      "content-based rmse = 1.1594521885467903\n"
     ]
    }
   ],
   "source": [
    "#build a content-based model with XGBoost\n",
    "model1 = xgb.XGBRegressor(objective='reg:squarederror')\n",
    "model1.fit(X_train, y_train) \n",
    "\n",
    "pred1 = model1.predict(X_test)\n",
    "rmse = np.sqrt(np.mean((pred1 - y_test.to_numpy())**2))\n",
    "print(f'content-based rmse = {rmse}')\n",
    "\n"
   ]
  },
  {
   "cell_type": "code",
   "execution_count": null,
   "id": "458d1cab",
   "metadata": {},
   "outputs": [],
   "source": []
  },
  {
   "cell_type": "code",
   "execution_count": null,
   "id": "a593e2dd",
   "metadata": {},
   "outputs": [],
   "source": []
  },
  {
   "cell_type": "code",
   "execution_count": null,
   "id": "4cb1105f",
   "metadata": {},
   "outputs": [],
   "source": []
  },
  {
   "cell_type": "code",
   "execution_count": null,
   "id": "bc80f633",
   "metadata": {},
   "outputs": [],
   "source": []
  }
 ],
 "metadata": {
  "kernelspec": {
   "display_name": "Python 3 (ipykernel)",
   "language": "python",
   "name": "python3"
  },
  "language_info": {
   "codemirror_mode": {
    "name": "ipython",
    "version": 3
   },
   "file_extension": ".py",
   "mimetype": "text/x-python",
   "name": "python",
   "nbconvert_exporter": "python",
   "pygments_lexer": "ipython3",
   "version": "3.9.13"
  }
 },
 "nbformat": 4,
 "nbformat_minor": 5
}
