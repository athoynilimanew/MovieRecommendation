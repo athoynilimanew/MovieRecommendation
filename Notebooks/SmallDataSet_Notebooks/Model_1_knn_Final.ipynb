{
 "cells": [
  {
   "cell_type": "markdown",
   "id": "5c55f7fb",
   "metadata": {},
   "source": [
    "# Read the preprocessed Data"
   ]
  },
  {
   "cell_type": "code",
   "execution_count": 1,
   "id": "2f803645",
   "metadata": {
    "scrolled": false
   },
   "outputs": [
    {
     "data": {
      "text/html": [
       "<div>\n",
       "<style scoped>\n",
       "    .dataframe tbody tr th:only-of-type {\n",
       "        vertical-align: middle;\n",
       "    }\n",
       "\n",
       "    .dataframe tbody tr th {\n",
       "        vertical-align: top;\n",
       "    }\n",
       "\n",
       "    .dataframe thead th {\n",
       "        text-align: right;\n",
       "    }\n",
       "</style>\n",
       "<table border=\"1\" class=\"dataframe\">\n",
       "  <thead>\n",
       "    <tr style=\"text-align: right;\">\n",
       "      <th></th>\n",
       "      <th>userId</th>\n",
       "      <th>movieId</th>\n",
       "      <th>rating</th>\n",
       "      <th>title</th>\n",
       "      <th>genres</th>\n",
       "      <th>year</th>\n",
       "    </tr>\n",
       "  </thead>\n",
       "  <tbody>\n",
       "    <tr>\n",
       "      <th>0</th>\n",
       "      <td>1</td>\n",
       "      <td>1</td>\n",
       "      <td>4.0</td>\n",
       "      <td>Toy Story (1995)</td>\n",
       "      <td>Adventure|Animation|Children|Comedy|Fantasy</td>\n",
       "      <td>1995</td>\n",
       "    </tr>\n",
       "    <tr>\n",
       "      <th>1</th>\n",
       "      <td>5</td>\n",
       "      <td>1</td>\n",
       "      <td>4.0</td>\n",
       "      <td>Toy Story (1995)</td>\n",
       "      <td>Adventure|Animation|Children|Comedy|Fantasy</td>\n",
       "      <td>1995</td>\n",
       "    </tr>\n",
       "    <tr>\n",
       "      <th>2</th>\n",
       "      <td>7</td>\n",
       "      <td>1</td>\n",
       "      <td>4.5</td>\n",
       "      <td>Toy Story (1995)</td>\n",
       "      <td>Adventure|Animation|Children|Comedy|Fantasy</td>\n",
       "      <td>1995</td>\n",
       "    </tr>\n",
       "    <tr>\n",
       "      <th>3</th>\n",
       "      <td>15</td>\n",
       "      <td>1</td>\n",
       "      <td>2.5</td>\n",
       "      <td>Toy Story (1995)</td>\n",
       "      <td>Adventure|Animation|Children|Comedy|Fantasy</td>\n",
       "      <td>1995</td>\n",
       "    </tr>\n",
       "    <tr>\n",
       "      <th>4</th>\n",
       "      <td>17</td>\n",
       "      <td>1</td>\n",
       "      <td>4.5</td>\n",
       "      <td>Toy Story (1995)</td>\n",
       "      <td>Adventure|Animation|Children|Comedy|Fantasy</td>\n",
       "      <td>1995</td>\n",
       "    </tr>\n",
       "  </tbody>\n",
       "</table>\n",
       "</div>"
      ],
      "text/plain": [
       "   userId  movieId  rating             title  \\\n",
       "0       1        1     4.0  Toy Story (1995)   \n",
       "1       5        1     4.0  Toy Story (1995)   \n",
       "2       7        1     4.5  Toy Story (1995)   \n",
       "3      15        1     2.5  Toy Story (1995)   \n",
       "4      17        1     4.5  Toy Story (1995)   \n",
       "\n",
       "                                        genres  year  \n",
       "0  Adventure|Animation|Children|Comedy|Fantasy  1995  \n",
       "1  Adventure|Animation|Children|Comedy|Fantasy  1995  \n",
       "2  Adventure|Animation|Children|Comedy|Fantasy  1995  \n",
       "3  Adventure|Animation|Children|Comedy|Fantasy  1995  \n",
       "4  Adventure|Animation|Children|Comedy|Fantasy  1995  "
      ]
     },
     "execution_count": 1,
     "metadata": {},
     "output_type": "execute_result"
    }
   ],
   "source": [
    "import numpy as np\n",
    "import pandas as pd\n",
    "%matplotlib inline\n",
    "import matplotlib.pyplot as plt\n",
    "df=pd.read_csv(\"../../Data/ml-latest-small/PreprocessedData_ml_latest_year_small.csv\")\n",
    "df.head()"
   ]
  },
  {
   "cell_type": "markdown",
   "id": "f80d50a4",
   "metadata": {},
   "source": [
    "# Load Recommender System Class and other important Functions"
   ]
  },
  {
   "cell_type": "code",
   "execution_count": 23,
   "id": "80688d4f",
   "metadata": {},
   "outputs": [],
   "source": [
    "%run Functions.ipynb "
   ]
  },
  {
   "cell_type": "markdown",
   "id": "57a2ecc9",
   "metadata": {},
   "source": [
    "# Further Processing the Data "
   ]
  },
  {
   "cell_type": "code",
   "execution_count": 3,
   "id": "cb2c1cf3",
   "metadata": {},
   "outputs": [],
   "source": [
    "#making all titles lower case\n",
    "#df[\"title\"] = df[\"title\"].str.lower()"
   ]
  },
  {
   "cell_type": "code",
   "execution_count": 4,
   "id": "91642eb7",
   "metadata": {},
   "outputs": [],
   "source": [
    "#df.head()"
   ]
  },
  {
   "cell_type": "code",
   "execution_count": 5,
   "id": "64f99fc7",
   "metadata": {},
   "outputs": [],
   "source": [
    "#df.shape"
   ]
  },
  {
   "cell_type": "code",
   "execution_count": 6,
   "id": "ecc88f10",
   "metadata": {},
   "outputs": [],
   "source": [
    "#len(df.movieId.unique())"
   ]
  },
  {
   "cell_type": "code",
   "execution_count": 7,
   "id": "c8c1d3b4",
   "metadata": {},
   "outputs": [],
   "source": [
    "#len(df.userId.unique())"
   ]
  },
  {
   "cell_type": "markdown",
   "id": "bf708de4",
   "metadata": {},
   "source": [
    "# Collaborative Filtering (CF)\n",
    "\n",
    "The Collaborative Filtering Recommender is entirely based on the past behavior and not on the context."
   ]
  },
  {
   "cell_type": "markdown",
   "id": "5ec233e9",
   "metadata": {},
   "source": [
    "## Model 1: Collaborative Filtering, item-item, K-means\n",
    "\n",
    "In this approach, CF models are developed using **machine learning algorithms** to predict user’s rating of unrated items. \n",
    "\n",
    "> We will use **Surprise**\n",
    ">> Surprise is a Python scikit for building and analyzing recommender systems that deal with explicit rating data.\n",
    "\n"
   ]
  },
  {
   "cell_type": "markdown",
   "id": "e0c61751",
   "metadata": {},
   "source": [
    "### 1. Load Surprise Data from DataFrame, Train-Test Split"
   ]
  },
  {
   "cell_type": "code",
   "execution_count": 8,
   "id": "fbcb736f",
   "metadata": {},
   "outputs": [],
   "source": [
    "from surprise import accuracy\n",
    "from surprise.dataset import Dataset\n",
    "from surprise.reader import Reader\n",
    "from surprise.model_selection import train_test_split,cross_validate,RandomizedSearchCV\n",
    "from surprise import KNNWithMeans\n",
    "from surprise import KNNBasic\n",
    "reader = Reader()\n",
    "\n",
    "df_imp=df.drop(['title','year','genres'],axis=1)\n",
    "\n",
    "surprise_data = Dataset.load_from_df(df_imp, reader)\n",
    "trainset, testset = train_test_split(surprise_data, test_size=.25,random_state=10)"
   ]
  },
  {
   "cell_type": "code",
   "execution_count": 9,
   "id": "8ec4c732",
   "metadata": {},
   "outputs": [],
   "source": [
    "def find_best_model(model, parameters,data):\n",
    "    clf = RandomizedSearchCV(model, parameters, n_jobs=-1, measures=['rmse'])\n",
    "    clf.fit(data)             \n",
    "    print(clf.best_score)\n",
    "    print(clf.best_params)\n",
    "    print(clf.best_estimator)\n",
    "    return clf"
   ]
  },
  {
   "cell_type": "markdown",
   "id": "0c6fa04a",
   "metadata": {},
   "source": [
    "### 2. Find Optimal k using RandomizedSearchCV"
   ]
  },
  {
   "cell_type": "code",
   "execution_count": 10,
   "id": "b3d822b2",
   "metadata": {},
   "outputs": [
    {
     "name": "stdout",
     "output_type": "stream",
     "text": [
      "{'rmse': 0.8812475819936596}\n",
      "{'rmse': {'k': 23, 'sim_options': {'name': 'pearson_baseline', 'user_based': False}}}\n",
      "{'rmse': <surprise.prediction_algorithms.knns.KNNWithMeans object at 0x7fceb1df80a0>}\n"
     ]
    }
   ],
   "source": [
    "sim_options = {\n",
    "    \"name\": [\"cosine\", \"pearson\", \"pearson_baseline\"],\"user_based\": [False]\n",
    "}\n",
    "params = { 'k': range(2,25,1),'sim_options': sim_options}\n",
    "clf = find_best_model(KNNWithMeans, params, surprise_data)"
   ]
  },
  {
   "cell_type": "markdown",
   "id": "e11e5ef4",
   "metadata": {},
   "source": [
    "### 3. Build Model using best parameters"
   ]
  },
  {
   "cell_type": "code",
   "execution_count": 11,
   "id": "23273eb2",
   "metadata": {},
   "outputs": [],
   "source": [
    "knnwithmeans = clf.best_estimator['rmse']"
   ]
  },
  {
   "cell_type": "markdown",
   "id": "a3df210f",
   "metadata": {},
   "source": [
    "### Recommendation Functions, only for this notebook"
   ]
  },
  {
   "cell_type": "markdown",
   "id": "ed4b7495",
   "metadata": {},
   "source": [
    "> Users and items have a raw id and an inner id. Some methods will use/return a raw id (e.g. the predict() method), while some other will use/return an inner id.\n",
    "\n",
    "> Raw ids are ids as defined in a rating file or in a pandas dataframe. They can be strings or numbers. Note though that if the ratings were read from a file which is the standard scenario, they are represented as strings. This is important to know if you’re using e.g. predict() or other methods that accept raw ids as parameters.\n",
    "\n",
    "> On trainset creation, each raw id is mapped to a unique integer called inner id, which is a lot more suitable for Surprise to manipulate. Conversions between raw and inner ids can be done using the to_inner_uid(), to_inner_iid(), to_raw_uid(), and to_raw_iid() methods of the trainset.\n"
   ]
  },
  {
   "cell_type": "code",
   "execution_count": 12,
   "id": "e60b9d13",
   "metadata": {},
   "outputs": [],
   "source": [
    "def recommend_similar_items(movie_title, df, model, n=5):\n",
    "        movieId=df[df['title']==movie_title]['movieId'].unique()[0]\n",
    "        inner_movieId=model.trainset.to_inner_iid(movieId)\n",
    "        \n",
    "        movie_neighbours=model.get_neighbors(inner_movieId,n)\n",
    "        \n",
    "        df_out=df[df.movieId.isin([model.trainset.to_raw_iid(inner_id)\n",
    "                       for inner_id in movie_neighbours])]\n",
    "        \n",
    "        df_out=Process_Avg_Rating(df_out)\n",
    "        \n",
    "        return df_out "
   ]
  },
  {
   "cell_type": "code",
   "execution_count": 13,
   "id": "05762247",
   "metadata": {},
   "outputs": [],
   "source": [
    "CF_knnwithmeans = collab_filtering_Kmeans_Model(knnwithmeans,trainset,testset)"
   ]
  },
  {
   "cell_type": "markdown",
   "id": "6cdce48a",
   "metadata": {},
   "source": [
    "### 5. Fit, predict and cross-validate"
   ]
  },
  {
   "cell_type": "code",
   "execution_count": 15,
   "id": "4c3975b6",
   "metadata": {
    "scrolled": true
   },
   "outputs": [
    {
     "name": "stdout",
     "output_type": "stream",
     "text": [
      "**Fitting the train data...**\n",
      "Estimating biases using als...\n",
      "Computing the pearson_baseline similarity matrix...\n",
      "Done computing similarity matrix.\n",
      "**Predicting the test data...**\n",
      "RMSE: 0.8923\n",
      "**RMSE for the predicted result is 0.892**\n"
     ]
    }
   ],
   "source": [
    "knnwithmeans_rmse,knnwithmeans_recommenddf =CF_knnwithmeans.fit_and_predict(df)"
   ]
  },
  {
   "cell_type": "code",
   "execution_count": 16,
   "id": "dbd9d25d",
   "metadata": {},
   "outputs": [
    {
     "name": "stdout",
     "output_type": "stream",
     "text": [
      "**Cross Validating the data...**\n",
      "Evaluating RMSE, MAE of algorithm KNNWithMeans on 5 split(s).\n",
      "\n",
      "                  Fold 1  Fold 2  Fold 3  Fold 4  Fold 5  Mean    Std     \n",
      "RMSE (testset)    0.8840  0.8906  0.8896  0.8789  0.8771  0.8840  0.0054  \n",
      "MAE (testset)     0.6704  0.6772  0.6750  0.6674  0.6697  0.6719  0.0036  \n",
      "Fit time          15.08   15.60   15.82   15.90   15.47   15.58   0.29    \n",
      "Test time         9.09    9.02    9.37    9.21    8.97    9.13    0.15    \n",
      "**Mean CV RMSE is 0.884**\n"
     ]
    }
   ],
   "source": [
    "knnwithmeans_cv_rmse_cv = CF_knnwithmeans.cross_validate(surprise_data)\n",
    "mean_cv_RMSE_result = round(knnwithmeans_cv_rmse_cv['test_rmse'].mean(),3)\n",
    "print('**Mean CV RMSE is ' + str(mean_cv_RMSE_result)  + '**')"
   ]
  },
  {
   "cell_type": "markdown",
   "id": "f52e3d63",
   "metadata": {},
   "source": [
    "### Model Errors Plot"
   ]
  },
  {
   "cell_type": "code",
   "execution_count": 17,
   "id": "8c930716",
   "metadata": {
    "scrolled": false
   },
   "outputs": [
    {
     "data": {
      "image/png": "[encoded data removed]",
      "text/plain": [
       "<Figure size 1000x500 with 1 Axes>"
      ]
     },
     "metadata": {},
     "output_type": "display_data"
    }
   ],
   "source": [
    "# Get data\n",
    "rmse = knnwithmeans_cv_rmse_cv['test_rmse']\n",
    "mae = knnwithmeans_cv_rmse_cv['test_mae']\n",
    "x = np.arange(len(rmse))\n",
    "\n",
    "# Set up the matplotlib figure\n",
    "fig, ax = plt.subplots(figsize = (10, 5))\n",
    "plt.xticks(np.arange(min(x), max(x) + 1, 1.0))\n",
    "plt.ylim(0.5, 1.3)\n",
    "ax.plot(x, rmse, marker='o', label=\"rmse\")\n",
    "ax.plot(x, mae, marker='o', label=\"mae\")\n",
    "\n",
    "# Chart setup\n",
    "plt.title(\"Model Errors\", fontsize = 12)\n",
    "plt.xlabel(\"CV\", fontsize = 10)\n",
    "plt.ylabel(\"Error\", fontsize = 10)\n",
    "plt.legend()\n",
    "plt.show()\n"
   ]
  },
  {
   "cell_type": "markdown",
   "id": "96f2b351",
   "metadata": {},
   "source": [
    "### 7. Recommend (Item Based)"
   ]
  },
  {
   "cell_type": "code",
   "execution_count": 24,
   "id": "aaae091d",
   "metadata": {},
   "outputs": [
    {
     "name": "stdout",
     "output_type": "stream",
     "text": [
      "Enter your Favorite Movie: Jumanji\n",
      "\n",
      "We have multiple movies with the same name/Part of it, but with different release years:\n",
      " movieId                                 title  year\n",
      "       2                        Jumanji (1995)  1995\n",
      "  179401 Jumanji: Welcome to the Jungle (2017)  2017\n",
      "Which one do you have in your mind? (Enter the movieId)2\n",
      "Your favourite movie: Jumanji (1995)\n"
     ]
    }
   ],
   "source": [
    "inp_movie=AskForUserInput(df)"
   ]
  },
  {
   "cell_type": "code",
   "execution_count": 25,
   "id": "94be42b7",
   "metadata": {
    "scrolled": false
   },
   "outputs": [
    {
     "name": "stdout",
     "output_type": "stream",
     "text": [
      "Because You like the movie Jumanji (1995) we'd recommend you to watch:\n"
     ]
    },
    {
     "data": {
      "text/html": [
       "<div>\n",
       "<style scoped>\n",
       "    .dataframe tbody tr th:only-of-type {\n",
       "        vertical-align: middle;\n",
       "    }\n",
       "\n",
       "    .dataframe tbody tr th {\n",
       "        vertical-align: top;\n",
       "    }\n",
       "\n",
       "    .dataframe thead th {\n",
       "        text-align: right;\n",
       "    }\n",
       "</style>\n",
       "<table border=\"1\" class=\"dataframe\">\n",
       "  <thead>\n",
       "    <tr style=\"text-align: right;\">\n",
       "      <th></th>\n",
       "      <th></th>\n",
       "      <th></th>\n",
       "      <th></th>\n",
       "      <th>average rating</th>\n",
       "      <th>number of ratings</th>\n",
       "    </tr>\n",
       "    <tr>\n",
       "      <th>movieId</th>\n",
       "      <th>title</th>\n",
       "      <th>year</th>\n",
       "      <th>genres</th>\n",
       "      <th></th>\n",
       "      <th></th>\n",
       "    </tr>\n",
       "  </thead>\n",
       "  <tbody>\n",
       "    <tr>\n",
       "      <th>95</th>\n",
       "      <th>Broken Arrow (1996)</th>\n",
       "      <th>1996</th>\n",
       "      <th>Action|Adventure|Thriller</th>\n",
       "      <td>3.02</td>\n",
       "      <td>84</td>\n",
       "    </tr>\n",
       "    <tr>\n",
       "      <th>317</th>\n",
       "      <th>Santa Clause, The (1994)</th>\n",
       "      <th>1994</th>\n",
       "      <th>Comedy|Drama|Fantasy</th>\n",
       "      <td>3.20</td>\n",
       "      <td>81</td>\n",
       "    </tr>\n",
       "    <tr>\n",
       "      <th>364</th>\n",
       "      <th>Lion King, The (1994)</th>\n",
       "      <th>1994</th>\n",
       "      <th>Adventure|Animation|Children|Drama|Musical|IMAX</th>\n",
       "      <td>3.94</td>\n",
       "      <td>172</td>\n",
       "    </tr>\n",
       "    <tr>\n",
       "      <th>377</th>\n",
       "      <th>Speed (1994)</th>\n",
       "      <th>1994</th>\n",
       "      <th>Action|Romance|Thriller</th>\n",
       "      <td>3.53</td>\n",
       "      <td>171</td>\n",
       "    </tr>\n",
       "    <tr>\n",
       "      <th>380</th>\n",
       "      <th>True Lies (1994)</th>\n",
       "      <th>1994</th>\n",
       "      <th>Action|Adventure|Comedy|Romance|Thriller</th>\n",
       "      <td>3.50</td>\n",
       "      <td>178</td>\n",
       "    </tr>\n",
       "    <tr>\n",
       "      <th>435</th>\n",
       "      <th>Coneheads (1993)</th>\n",
       "      <th>1993</th>\n",
       "      <th>Comedy|Sci-Fi</th>\n",
       "      <td>2.42</td>\n",
       "      <td>63</td>\n",
       "    </tr>\n",
       "    <tr>\n",
       "      <th>442</th>\n",
       "      <th>Demolition Man (1993)</th>\n",
       "      <th>1993</th>\n",
       "      <th>Action|Adventure|Sci-Fi</th>\n",
       "      <td>3.09</td>\n",
       "      <td>81</td>\n",
       "    </tr>\n",
       "    <tr>\n",
       "      <th>1270</th>\n",
       "      <th>Back to the Future (1985)</th>\n",
       "      <th>1985</th>\n",
       "      <th>Adventure|Comedy|Sci-Fi</th>\n",
       "      <td>4.04</td>\n",
       "      <td>171</td>\n",
       "    </tr>\n",
       "    <tr>\n",
       "      <th>1573</th>\n",
       "      <th>Face/Off (1997)</th>\n",
       "      <th>1997</th>\n",
       "      <th>Action|Crime|Drama|Thriller</th>\n",
       "      <td>3.37</td>\n",
       "      <td>77</td>\n",
       "    </tr>\n",
       "    <tr>\n",
       "      <th>2706</th>\n",
       "      <th>American Pie (1999)</th>\n",
       "      <th>1999</th>\n",
       "      <th>Comedy|Romance</th>\n",
       "      <td>3.38</td>\n",
       "      <td>103</td>\n",
       "    </tr>\n",
       "  </tbody>\n",
       "</table>\n",
       "</div>"
      ],
      "text/plain": [
       "                                                                                        average rating  \\\n",
       "movieId title                     year genres                                                            \n",
       "95      Broken Arrow (1996)       1996 Action|Adventure|Thriller                                  3.02   \n",
       "317     Santa Clause, The (1994)  1994 Comedy|Drama|Fantasy                                       3.20   \n",
       "364     Lion King, The (1994)     1994 Adventure|Animation|Children|Drama|Musical|IMAX            3.94   \n",
       "377     Speed (1994)              1994 Action|Romance|Thriller                                    3.53   \n",
       "380     True Lies (1994)          1994 Action|Adventure|Comedy|Romance|Thriller                   3.50   \n",
       "435     Coneheads (1993)          1993 Comedy|Sci-Fi                                              2.42   \n",
       "442     Demolition Man (1993)     1993 Action|Adventure|Sci-Fi                                    3.09   \n",
       "1270    Back to the Future (1985) 1985 Adventure|Comedy|Sci-Fi                                    4.04   \n",
       "1573    Face/Off (1997)           1997 Action|Crime|Drama|Thriller                                3.37   \n",
       "2706    American Pie (1999)       1999 Comedy|Romance                                             3.38   \n",
       "\n",
       "                                                                                        number of ratings  \n",
       "movieId title                     year genres                                                              \n",
       "95      Broken Arrow (1996)       1996 Action|Adventure|Thriller                                       84  \n",
       "317     Santa Clause, The (1994)  1994 Comedy|Drama|Fantasy                                            81  \n",
       "364     Lion King, The (1994)     1994 Adventure|Animation|Children|Drama|Musical|IMAX                172  \n",
       "377     Speed (1994)              1994 Action|Romance|Thriller                                        171  \n",
       "380     True Lies (1994)          1994 Action|Adventure|Comedy|Romance|Thriller                       178  \n",
       "435     Coneheads (1993)          1993 Comedy|Sci-Fi                                                   63  \n",
       "442     Demolition Man (1993)     1993 Action|Adventure|Sci-Fi                                         81  \n",
       "1270    Back to the Future (1985) 1985 Adventure|Comedy|Sci-Fi                                        171  \n",
       "1573    Face/Off (1997)           1997 Action|Crime|Drama|Thriller                                     77  \n",
       "2706    American Pie (1999)       1999 Comedy|Romance                                                 103  "
      ]
     },
     "metadata": {},
     "output_type": "display_data"
    }
   ],
   "source": [
    "df_out=recommend_similar_items(inp_movie,df,CF_knnwithmeans.model, n=10)\n",
    "print(\"Because You like the movie\",inp_movie,\"we'd recommend you to watch:\")\n",
    "display(df_out.head(10))"
   ]
  },
  {
   "cell_type": "markdown",
   "id": "72d8a6dd",
   "metadata": {},
   "source": [
    "### 7. Save Your Model (Not working anymore)"
   ]
  },
  {
   "cell_type": "code",
   "execution_count": 27,
   "id": "e712f840",
   "metadata": {},
   "outputs": [],
   "source": [
    "#import pickle\n",
    "#filename = 'Model_2_KNN_Means_ratingbased.sav'\n",
    "#pickle.dump(CF_knnwithmeans, open(filename, 'wb'))"
   ]
  },
  {
   "cell_type": "code",
   "execution_count": null,
   "id": "b7c770b0",
   "metadata": {},
   "outputs": [],
   "source": []
  },
  {
   "cell_type": "code",
   "execution_count": null,
   "id": "f3cccbf4",
   "metadata": {},
   "outputs": [],
   "source": []
  },
  {
   "cell_type": "code",
   "execution_count": null,
   "id": "6b47f774",
   "metadata": {},
   "outputs": [],
   "source": []
  }
 ],
 "metadata": {
  "kernelspec": {
   "display_name": "Python 3 (ipykernel)",
   "language": "python",
   "name": "python3"
  },
  "language_info": {
   "codemirror_mode": {
    "name": "ipython",
    "version": 3
   },
   "file_extension": ".py",
   "mimetype": "text/x-python",
   "name": "python",
   "nbconvert_exporter": "python",
   "pygments_lexer": "ipython3",
   "version": "3.9.13"
  }
 },
 "nbformat": 4,
 "nbformat_minor": 5
}
