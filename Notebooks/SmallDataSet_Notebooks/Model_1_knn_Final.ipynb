{
 "cells": [
  {
   "cell_type": "markdown",
   "id": "5c55f7fb",
   "metadata": {},
   "source": [
    "# Read the preprocessed Data"
   ]
  },
  {
   "cell_type": "code",
   "execution_count": 1,
   "id": "2f803645",
   "metadata": {
    "scrolled": false
   },
   "outputs": [
    {
     "data": {
      "text/html": [
       "<div>\n",
       "<style scoped>\n",
       "    .dataframe tbody tr th:only-of-type {\n",
       "        vertical-align: middle;\n",
       "    }\n",
       "\n",
       "    .dataframe tbody tr th {\n",
       "        vertical-align: top;\n",
       "    }\n",
       "\n",
       "    .dataframe thead th {\n",
       "        text-align: right;\n",
       "    }\n",
       "</style>\n",
       "<table border=\"1\" class=\"dataframe\">\n",
       "  <thead>\n",
       "    <tr style=\"text-align: right;\">\n",
       "      <th></th>\n",
       "      <th>userId</th>\n",
       "      <th>movieId</th>\n",
       "      <th>rating</th>\n",
       "      <th>title</th>\n",
       "      <th>genres</th>\n",
       "      <th>year</th>\n",
       "    </tr>\n",
       "  </thead>\n",
       "  <tbody>\n",
       "    <tr>\n",
       "      <th>0</th>\n",
       "      <td>1</td>\n",
       "      <td>1</td>\n",
       "      <td>4.0</td>\n",
       "      <td>Toy Story</td>\n",
       "      <td>Adventure|Animation|Children|Comedy|Fantasy</td>\n",
       "      <td>1995</td>\n",
       "    </tr>\n",
       "    <tr>\n",
       "      <th>1</th>\n",
       "      <td>5</td>\n",
       "      <td>1</td>\n",
       "      <td>4.0</td>\n",
       "      <td>Toy Story</td>\n",
       "      <td>Adventure|Animation|Children|Comedy|Fantasy</td>\n",
       "      <td>1995</td>\n",
       "    </tr>\n",
       "    <tr>\n",
       "      <th>2</th>\n",
       "      <td>7</td>\n",
       "      <td>1</td>\n",
       "      <td>4.5</td>\n",
       "      <td>Toy Story</td>\n",
       "      <td>Adventure|Animation|Children|Comedy|Fantasy</td>\n",
       "      <td>1995</td>\n",
       "    </tr>\n",
       "    <tr>\n",
       "      <th>3</th>\n",
       "      <td>15</td>\n",
       "      <td>1</td>\n",
       "      <td>2.5</td>\n",
       "      <td>Toy Story</td>\n",
       "      <td>Adventure|Animation|Children|Comedy|Fantasy</td>\n",
       "      <td>1995</td>\n",
       "    </tr>\n",
       "    <tr>\n",
       "      <th>4</th>\n",
       "      <td>17</td>\n",
       "      <td>1</td>\n",
       "      <td>4.5</td>\n",
       "      <td>Toy Story</td>\n",
       "      <td>Adventure|Animation|Children|Comedy|Fantasy</td>\n",
       "      <td>1995</td>\n",
       "    </tr>\n",
       "  </tbody>\n",
       "</table>\n",
       "</div>"
      ],
      "text/plain": [
       "   userId  movieId  rating      title  \\\n",
       "0       1        1     4.0  Toy Story   \n",
       "1       5        1     4.0  Toy Story   \n",
       "2       7        1     4.5  Toy Story   \n",
       "3      15        1     2.5  Toy Story   \n",
       "4      17        1     4.5  Toy Story   \n",
       "\n",
       "                                        genres  year  \n",
       "0  Adventure|Animation|Children|Comedy|Fantasy  1995  \n",
       "1  Adventure|Animation|Children|Comedy|Fantasy  1995  \n",
       "2  Adventure|Animation|Children|Comedy|Fantasy  1995  \n",
       "3  Adventure|Animation|Children|Comedy|Fantasy  1995  \n",
       "4  Adventure|Animation|Children|Comedy|Fantasy  1995  "
      ]
     },
     "execution_count": 1,
     "metadata": {},
     "output_type": "execute_result"
    }
   ],
   "source": [
    "import numpy as np\n",
    "import pandas as pd\n",
    "\n",
    "df=pd.read_csv(\"../../Data/ml-latest-small/PreprocessedData_ml_latest_year_small.csv\",index_col=0)\n",
    "df.head()"
   ]
  },
  {
   "cell_type": "markdown",
   "id": "57a2ecc9",
   "metadata": {},
   "source": [
    "# Further Processing the Data (optional)"
   ]
  },
  {
   "cell_type": "markdown",
   "id": "19cdbf07",
   "metadata": {},
   "source": [
    "## Genre management"
   ]
  },
  {
   "cell_type": "code",
   "execution_count": 2,
   "id": "5dc8587a",
   "metadata": {},
   "outputs": [],
   "source": [
    "#genres = df_prelim.genres.str.get_dummies(sep = \"|\")\n",
    "\n",
    "#df = pd.concat([df_prelim, genres], axis=1)\n",
    "#df = df.drop(['genres'], axis = 1)\n",
    "#df.head()"
   ]
  },
  {
   "cell_type": "markdown",
   "id": "bf708de4",
   "metadata": {},
   "source": [
    "# Collaborative Filtering (CF)\n",
    "\n",
    "The Collaborative Filtering Recommender is entirely based on the past behavior and not on the context."
   ]
  },
  {
   "cell_type": "markdown",
   "id": "323afbcd",
   "metadata": {},
   "source": [
    "## 0. User Input"
   ]
  },
  {
   "cell_type": "code",
   "execution_count": 3,
   "id": "8f7ed018",
   "metadata": {},
   "outputs": [],
   "source": [
    "def AskForUserInput():\n",
    "    fav_movie = input('Enter your Facourite Movie: ')\n",
    "    n= 0\n",
    "    movies=df['title'].unique()\n",
    "    while fav_movie not in movies and n<5:# maximum 5 prompts\n",
    "        print(\"The Movie \", fav_movie, \"does not exist in our database.\") \n",
    "        fav_movie = input('Please enter another Facourite Movie: ')\n",
    "        n +=1\n",
    "    return fav_movie"
   ]
  },
  {
   "cell_type": "markdown",
   "id": "20700ea1",
   "metadata": {},
   "source": [
    "## 1.  Model 1: Memory Based Approach, Item-Item Collaborative Filtering, N Neighbours"
   ]
  },
  {
   "cell_type": "markdown",
   "id": "6f06834f",
   "metadata": {},
   "source": [
    "**This is NOT a Machine Learning Model**\n",
    "\n",
    "> Memory Based Collaborative Filtering:\n",
    ">\n",
    "> Take a matrix of preferences for items by users using this matrix \n",
    "> to predict missing preferences and recommend items\n",
    "> There are two types of memory based models:\n",
    ">> 1) Item-Item Collaborative Filtering: “Users who liked this item also liked …”\n",
    ">>\n",
    ">> (i.e. starting from a given movie (or set of movies) we find similar movies based on other users’ preferences.)\n",
    ">>\n",
    ">> 2) User-Item Collaborative Filtering: “Users who are similar to you also liked …”\n",
    ">>\n",
    ">> (i.e. find users that have seen/rated similar content, and use their preferences to recommend new items)\n",
    ">\n",
    "> Memory Based Filtering Pros:\n",
    ">> 1) Easy to implement\n",
    ">>\n",
    ">> 2) produce reasonable prediction quality\n",
    ">\n",
    ">Cons:\n",
    ">> 1) It tends to recommend popular items.\n",
    ">> 2) It suffers when new items that don’t have any ratings enter the system."
   ]
  },
  {
   "cell_type": "markdown",
   "id": "61c8a3c1",
   "metadata": {},
   "source": [
    "### 1. Create a Pivot Matrix using only the train data\n",
    "\n",
    "We pivot the dataframe to have userId as rows and movieId as columns. \n",
    "\n",
    "We do not specify a special feature. We consider all features (rating, dummitized genres and year)"
   ]
  },
  {
   "cell_type": "code",
   "execution_count": 4,
   "id": "af3ef479",
   "metadata": {
    "scrolled": false
   },
   "outputs": [
    {
     "data": {
      "text/html": [
       "<div>\n",
       "<style scoped>\n",
       "    .dataframe tbody tr th:only-of-type {\n",
       "        vertical-align: middle;\n",
       "    }\n",
       "\n",
       "    .dataframe tbody tr th {\n",
       "        vertical-align: top;\n",
       "    }\n",
       "\n",
       "    .dataframe thead th {\n",
       "        text-align: right;\n",
       "    }\n",
       "</style>\n",
       "<table border=\"1\" class=\"dataframe\">\n",
       "  <thead>\n",
       "    <tr style=\"text-align: right;\">\n",
       "      <th>userId</th>\n",
       "      <th>1</th>\n",
       "      <th>2</th>\n",
       "      <th>3</th>\n",
       "      <th>4</th>\n",
       "      <th>5</th>\n",
       "      <th>6</th>\n",
       "      <th>7</th>\n",
       "      <th>8</th>\n",
       "      <th>9</th>\n",
       "      <th>10</th>\n",
       "      <th>...</th>\n",
       "      <th>601</th>\n",
       "      <th>602</th>\n",
       "      <th>603</th>\n",
       "      <th>604</th>\n",
       "      <th>605</th>\n",
       "      <th>606</th>\n",
       "      <th>607</th>\n",
       "      <th>608</th>\n",
       "      <th>609</th>\n",
       "      <th>610</th>\n",
       "    </tr>\n",
       "    <tr>\n",
       "      <th>movieId</th>\n",
       "      <th></th>\n",
       "      <th></th>\n",
       "      <th></th>\n",
       "      <th></th>\n",
       "      <th></th>\n",
       "      <th></th>\n",
       "      <th></th>\n",
       "      <th></th>\n",
       "      <th></th>\n",
       "      <th></th>\n",
       "      <th></th>\n",
       "      <th></th>\n",
       "      <th></th>\n",
       "      <th></th>\n",
       "      <th></th>\n",
       "      <th></th>\n",
       "      <th></th>\n",
       "      <th></th>\n",
       "      <th></th>\n",
       "      <th></th>\n",
       "      <th></th>\n",
       "    </tr>\n",
       "  </thead>\n",
       "  <tbody>\n",
       "    <tr>\n",
       "      <th>1</th>\n",
       "      <td>4.0</td>\n",
       "      <td>0.0</td>\n",
       "      <td>0.0</td>\n",
       "      <td>0.0</td>\n",
       "      <td>4.0</td>\n",
       "      <td>0.0</td>\n",
       "      <td>4.5</td>\n",
       "      <td>0.0</td>\n",
       "      <td>0.0</td>\n",
       "      <td>0.0</td>\n",
       "      <td>...</td>\n",
       "      <td>4.0</td>\n",
       "      <td>0.0</td>\n",
       "      <td>4.0</td>\n",
       "      <td>3.0</td>\n",
       "      <td>4.0</td>\n",
       "      <td>2.5</td>\n",
       "      <td>4.0</td>\n",
       "      <td>2.5</td>\n",
       "      <td>3.0</td>\n",
       "      <td>5.0</td>\n",
       "    </tr>\n",
       "    <tr>\n",
       "      <th>2</th>\n",
       "      <td>0.0</td>\n",
       "      <td>0.0</td>\n",
       "      <td>0.0</td>\n",
       "      <td>0.0</td>\n",
       "      <td>0.0</td>\n",
       "      <td>4.0</td>\n",
       "      <td>0.0</td>\n",
       "      <td>4.0</td>\n",
       "      <td>0.0</td>\n",
       "      <td>0.0</td>\n",
       "      <td>...</td>\n",
       "      <td>0.0</td>\n",
       "      <td>4.0</td>\n",
       "      <td>0.0</td>\n",
       "      <td>5.0</td>\n",
       "      <td>3.5</td>\n",
       "      <td>0.0</td>\n",
       "      <td>0.0</td>\n",
       "      <td>2.0</td>\n",
       "      <td>0.0</td>\n",
       "      <td>0.0</td>\n",
       "    </tr>\n",
       "    <tr>\n",
       "      <th>3</th>\n",
       "      <td>4.0</td>\n",
       "      <td>0.0</td>\n",
       "      <td>0.0</td>\n",
       "      <td>0.0</td>\n",
       "      <td>0.0</td>\n",
       "      <td>5.0</td>\n",
       "      <td>0.0</td>\n",
       "      <td>0.0</td>\n",
       "      <td>0.0</td>\n",
       "      <td>0.0</td>\n",
       "      <td>...</td>\n",
       "      <td>0.0</td>\n",
       "      <td>0.0</td>\n",
       "      <td>0.0</td>\n",
       "      <td>0.0</td>\n",
       "      <td>0.0</td>\n",
       "      <td>0.0</td>\n",
       "      <td>0.0</td>\n",
       "      <td>2.0</td>\n",
       "      <td>0.0</td>\n",
       "      <td>0.0</td>\n",
       "    </tr>\n",
       "    <tr>\n",
       "      <th>4</th>\n",
       "      <td>0.0</td>\n",
       "      <td>0.0</td>\n",
       "      <td>0.0</td>\n",
       "      <td>0.0</td>\n",
       "      <td>0.0</td>\n",
       "      <td>3.0</td>\n",
       "      <td>0.0</td>\n",
       "      <td>0.0</td>\n",
       "      <td>0.0</td>\n",
       "      <td>0.0</td>\n",
       "      <td>...</td>\n",
       "      <td>0.0</td>\n",
       "      <td>0.0</td>\n",
       "      <td>0.0</td>\n",
       "      <td>0.0</td>\n",
       "      <td>0.0</td>\n",
       "      <td>0.0</td>\n",
       "      <td>0.0</td>\n",
       "      <td>0.0</td>\n",
       "      <td>0.0</td>\n",
       "      <td>0.0</td>\n",
       "    </tr>\n",
       "    <tr>\n",
       "      <th>5</th>\n",
       "      <td>0.0</td>\n",
       "      <td>0.0</td>\n",
       "      <td>0.0</td>\n",
       "      <td>0.0</td>\n",
       "      <td>0.0</td>\n",
       "      <td>5.0</td>\n",
       "      <td>0.0</td>\n",
       "      <td>0.0</td>\n",
       "      <td>0.0</td>\n",
       "      <td>0.0</td>\n",
       "      <td>...</td>\n",
       "      <td>0.0</td>\n",
       "      <td>0.0</td>\n",
       "      <td>0.0</td>\n",
       "      <td>3.0</td>\n",
       "      <td>0.0</td>\n",
       "      <td>0.0</td>\n",
       "      <td>0.0</td>\n",
       "      <td>0.0</td>\n",
       "      <td>0.0</td>\n",
       "      <td>0.0</td>\n",
       "    </tr>\n",
       "  </tbody>\n",
       "</table>\n",
       "<p>5 rows × 610 columns</p>\n",
       "</div>"
      ],
      "text/plain": [
       "userId   1    2    3    4    5    6    7    8    9    10   ...  601  602  603  \\\n",
       "movieId                                                    ...                  \n",
       "1        4.0  0.0  0.0  0.0  4.0  0.0  4.5  0.0  0.0  0.0  ...  4.0  0.0  4.0   \n",
       "2        0.0  0.0  0.0  0.0  0.0  4.0  0.0  4.0  0.0  0.0  ...  0.0  4.0  0.0   \n",
       "3        4.0  0.0  0.0  0.0  0.0  5.0  0.0  0.0  0.0  0.0  ...  0.0  0.0  0.0   \n",
       "4        0.0  0.0  0.0  0.0  0.0  3.0  0.0  0.0  0.0  0.0  ...  0.0  0.0  0.0   \n",
       "5        0.0  0.0  0.0  0.0  0.0  5.0  0.0  0.0  0.0  0.0  ...  0.0  0.0  0.0   \n",
       "\n",
       "userId   604  605  606  607  608  609  610  \n",
       "movieId                                     \n",
       "1        3.0  4.0  2.5  4.0  2.5  3.0  5.0  \n",
       "2        5.0  3.5  0.0  0.0  2.0  0.0  0.0  \n",
       "3        0.0  0.0  0.0  0.0  2.0  0.0  0.0  \n",
       "4        0.0  0.0  0.0  0.0  0.0  0.0  0.0  \n",
       "5        3.0  0.0  0.0  0.0  0.0  0.0  0.0  \n",
       "\n",
       "[5 rows x 610 columns]"
      ]
     },
     "execution_count": 4,
     "metadata": {},
     "output_type": "execute_result"
    }
   ],
   "source": [
    "df_movie_pivot = df.pivot(\n",
    "    index='movieId',\n",
    "    columns='userId',\n",
    "    values='rating'\n",
    ").fillna(0)\n",
    "df_movie_pivot.head()"
   ]
  },
  {
   "cell_type": "markdown",
   "id": "a34974ff",
   "metadata": {},
   "source": [
    "### 2.  Sparse matrix\n",
    "\n",
    "A lot of values n the above matrix are zero, i.e. the data is extremely sparse.\n",
    "\n",
    "> A sparse matrix is a matrix that is comprised of mostly zero values.\n",
    "\n",
    "> Convert into an Array Matrix by using csr_matrix\n"
   ]
  },
  {
   "cell_type": "code",
   "execution_count": 5,
   "id": "4254ec1e",
   "metadata": {},
   "outputs": [],
   "source": [
    "from scipy.sparse import csr_matrix\n",
    "feature_matrix=csr_matrix(df_movie_pivot.values)"
   ]
  },
  {
   "cell_type": "markdown",
   "id": "e5b90672",
   "metadata": {},
   "source": [
    "### 3. Build the Model"
   ]
  },
  {
   "cell_type": "code",
   "execution_count": 6,
   "id": "a1c4b527",
   "metadata": {},
   "outputs": [
    {
     "data": {
      "text/plain": [
       "NearestNeighbors(metric='cosine', n_neighbors=10)"
      ]
     },
     "execution_count": 6,
     "metadata": {},
     "output_type": "execute_result"
    }
   ],
   "source": [
    "from sklearn.neighbors import NearestNeighbors\n",
    "#We only consider 10 nearest neighbours\n",
    "n_neigh=10\n",
    "model_knn_rating=NearestNeighbors(metric=\"cosine\",n_neighbors=n_neigh)\n",
    "model_knn_rating.fit(feature_matrix)"
   ]
  },
  {
   "cell_type": "markdown",
   "id": "f6a82c73",
   "metadata": {},
   "source": [
    "### 4. Create The Function to recommend movies"
   ]
  },
  {
   "cell_type": "code",
   "execution_count": 7,
   "id": "ee8d3da6",
   "metadata": {},
   "outputs": [],
   "source": [
    "def recommend_movie_by_rating(query_title):\n",
    "    \n",
    "    #Find the movie ID w.r.t the the title\n",
    "    query_index=df[df['title']==query_title]['movieId'].unique()[0]\n",
    "    \n",
    "    distances,indices=model_knn_rating.kneighbors(\n",
    "        df_movie_pivot.iloc[query_index,:].values.reshape(1,-1)\n",
    "    )\n",
    "    \n",
    "    MovieIds=[]\n",
    "    CosDistance=[]\n",
    "    ratedBy=[]\n",
    "    \n",
    "    for i in range(0,len(distances.flatten())):\n",
    "        movieId=df_movie_pivot.index[indices.flatten()[i]]\n",
    "        MovieIds.append(movieId)\n",
    "    \n",
    "        CosDistance.append(distances.flatten()[i])\n",
    "        ratedBy.append(len(df[df['movieId']==movieId]['rating']))\n",
    "        \n",
    "    df_out=df[df.movieId.isin(MovieIds)].drop([\"userId\"],axis=1)\n",
    "    \n",
    "    df_out=df_out.groupby(['movieId','title',\"year\",\"genres\"]).mean()\n",
    "    df_out['rating']=df_out['rating'].round(2)\n",
    "    df_out['number of ratings']=ratedBy\n",
    "    df_out['Cosine Distance, ML Model']=CosDistance\n",
    "    df_out['Cosine Distance, ML Model']=df_out['Cosine Distance, ML Model'].round(2)\n",
    "    print(\"Because You like the movie\",query_title,\"we'd recommend you to watch:\")\n",
    "    display(df_out.head(10))\n",
    "\n",
    "    #Results are automatically sorted as in the pivot table the indices are the movie ids"
   ]
  },
  {
   "cell_type": "code",
   "execution_count": 8,
   "id": "8e2b76b1",
   "metadata": {},
   "outputs": [],
   "source": [
    "#def recommend_movie_by_rating(query_title):\n",
    "    \n",
    "    #Find the movie ID w.r.t the the title\n",
    "#    query_index=df[df['title']==query_title]['movieId'].unique()[0]\n",
    "    \n",
    "#    distances,indices=model_knn.kneighbors(\n",
    "#        df_movie_pivot.iloc[query_index,:].values.reshape(1,-1),n_neighbors=10\n",
    "#    )\n",
    "#    Movies=[]\n",
    "#    CosDistance=[]\n",
    "#    avgRats=[]\n",
    "#    ratedBys=[]\n",
    "    \n",
    "#    for i in range(0,len(distances.flatten())):\n",
    "#        ii=i\n",
    "#        movieId=df_movie_pivot.index[indices.flatten()[i]]\n",
    "#        movieName=df[df['movieId']==movieId]['title'].unique()[0]\n",
    "#        movieYear=df[df['movieId']==movieId]['year'].unique()[0]\n",
    "        #match=(1-distances.flatten()[i]/1.)*100\n",
    "#        avgRat=df[df['movieId']==movieId]['rating'].mean()\n",
    "#        ratedBy=len(df[df['movieId']==movieId]['rating'])\n",
    "        \n",
    "#        if len(movieName)==0: \n",
    "#            ii -=1\n",
    "#            continue\n",
    "#        if i==0: #This is the \n",
    "#           print(\"\\n\",n_neigh,\"Movies similar to the movie\", query_title,\":\\n\")\n",
    "        \n",
    "#        print(\"{0}: {1} ({2}),\\n with cosine distance of {3:.3f}.\".format(ii+1,movieName,movieYear,distances.flatten()[i]))\n",
    "#        print(\"Average Rating: {0:.3f}, Rated by {1} users.\".format(avgRat,ratedBy))"
   ]
  },
  {
   "cell_type": "markdown",
   "id": "20647ab8",
   "metadata": {},
   "source": [
    "### 5. Test "
   ]
  },
  {
   "cell_type": "code",
   "execution_count": 9,
   "id": "b9b43ccb",
   "metadata": {
    "scrolled": true
   },
   "outputs": [
    {
     "name": "stdout",
     "output_type": "stream",
     "text": [
      "Enter your Facourite Movie: Jumanji\n",
      "Because You like the movie Jumanji we'd recommend you to watch:\n"
     ]
    },
    {
     "data": {
      "text/html": [
       "<div>\n",
       "<style scoped>\n",
       "    .dataframe tbody tr th:only-of-type {\n",
       "        vertical-align: middle;\n",
       "    }\n",
       "\n",
       "    .dataframe tbody tr th {\n",
       "        vertical-align: top;\n",
       "    }\n",
       "\n",
       "    .dataframe thead th {\n",
       "        text-align: right;\n",
       "    }\n",
       "</style>\n",
       "<table border=\"1\" class=\"dataframe\">\n",
       "  <thead>\n",
       "    <tr style=\"text-align: right;\">\n",
       "      <th></th>\n",
       "      <th></th>\n",
       "      <th></th>\n",
       "      <th></th>\n",
       "      <th>rating</th>\n",
       "      <th>number of ratings</th>\n",
       "      <th>Cosine Distance, ML Model</th>\n",
       "    </tr>\n",
       "    <tr>\n",
       "      <th>movieId</th>\n",
       "      <th>title</th>\n",
       "      <th>year</th>\n",
       "      <th>genres</th>\n",
       "      <th></th>\n",
       "      <th></th>\n",
       "      <th></th>\n",
       "    </tr>\n",
       "  </thead>\n",
       "  <tbody>\n",
       "    <tr>\n",
       "      <th>3</th>\n",
       "      <th>Grumpier Old Men</th>\n",
       "      <th>1995</th>\n",
       "      <th>Comedy|Romance</th>\n",
       "      <td>3.26</td>\n",
       "      <td>52</td>\n",
       "      <td>0.00</td>\n",
       "    </tr>\n",
       "    <tr>\n",
       "      <th>5</th>\n",
       "      <th>Father of the Bride Part II</th>\n",
       "      <th>1995</th>\n",
       "      <th>Comedy</th>\n",
       "      <td>3.07</td>\n",
       "      <td>29</td>\n",
       "      <td>0.55</td>\n",
       "    </tr>\n",
       "    <tr>\n",
       "      <th>7</th>\n",
       "      <th>Sabrina</th>\n",
       "      <th>1995</th>\n",
       "      <th>Comedy|Romance</th>\n",
       "      <td>3.19</td>\n",
       "      <td>41</td>\n",
       "      <td>0.55</td>\n",
       "    </tr>\n",
       "    <tr>\n",
       "      <th>65</th>\n",
       "      <th>Bio-Dome</th>\n",
       "      <th>1996</th>\n",
       "      <th>Comedy</th>\n",
       "      <td>2.53</td>\n",
       "      <td>82</td>\n",
       "      <td>0.55</td>\n",
       "    </tr>\n",
       "    <tr>\n",
       "      <th>95</th>\n",
       "      <th>Broken Arrow</th>\n",
       "      <th>1996</th>\n",
       "      <th>Action|Adventure|Thriller</th>\n",
       "      <td>3.02</td>\n",
       "      <td>123</td>\n",
       "      <td>0.56</td>\n",
       "    </tr>\n",
       "    <tr>\n",
       "      <th>708</th>\n",
       "      <th>Truth About Cats &amp; Dogs, The</th>\n",
       "      <th>1996</th>\n",
       "      <th>Comedy|Romance</th>\n",
       "      <td>3.39</td>\n",
       "      <td>49</td>\n",
       "      <td>0.58</td>\n",
       "    </tr>\n",
       "    <tr>\n",
       "      <th>736</th>\n",
       "      <th>Twister</th>\n",
       "      <th>1996</th>\n",
       "      <th>Action|Adventure|Romance|Thriller</th>\n",
       "      <td>3.32</td>\n",
       "      <td>84</td>\n",
       "      <td>0.59</td>\n",
       "    </tr>\n",
       "    <tr>\n",
       "      <th>762</th>\n",
       "      <th>Striptease</th>\n",
       "      <th>1996</th>\n",
       "      <th>Comedy|Crime</th>\n",
       "      <td>2.41</td>\n",
       "      <td>31</td>\n",
       "      <td>0.59</td>\n",
       "    </tr>\n",
       "    <tr>\n",
       "      <th>788</th>\n",
       "      <th>Nutty Professor, The</th>\n",
       "      <th>1996</th>\n",
       "      <th>Comedy|Fantasy|Romance|Sci-Fi</th>\n",
       "      <td>2.73</td>\n",
       "      <td>58</td>\n",
       "      <td>0.60</td>\n",
       "    </tr>\n",
       "    <tr>\n",
       "      <th>3450</th>\n",
       "      <th>Grumpy Old Men</th>\n",
       "      <th>1993</th>\n",
       "      <th>Comedy</th>\n",
       "      <td>3.29</td>\n",
       "      <td>54</td>\n",
       "      <td>0.60</td>\n",
       "    </tr>\n",
       "  </tbody>\n",
       "</table>\n",
       "</div>"
      ],
      "text/plain": [
       "                                                                             rating  \\\n",
       "movieId title                        year genres                                      \n",
       "3       Grumpier Old Men             1995 Comedy|Romance                       3.26   \n",
       "5       Father of the Bride Part II  1995 Comedy                               3.07   \n",
       "7       Sabrina                      1995 Comedy|Romance                       3.19   \n",
       "65      Bio-Dome                     1996 Comedy                               2.53   \n",
       "95      Broken Arrow                 1996 Action|Adventure|Thriller            3.02   \n",
       "708     Truth About Cats & Dogs, The 1996 Comedy|Romance                       3.39   \n",
       "736     Twister                      1996 Action|Adventure|Romance|Thriller    3.32   \n",
       "762     Striptease                   1996 Comedy|Crime                         2.41   \n",
       "788     Nutty Professor, The         1996 Comedy|Fantasy|Romance|Sci-Fi        2.73   \n",
       "3450    Grumpy Old Men               1993 Comedy                               3.29   \n",
       "\n",
       "                                                                             number of ratings  \\\n",
       "movieId title                        year genres                                                 \n",
       "3       Grumpier Old Men             1995 Comedy|Romance                                    52   \n",
       "5       Father of the Bride Part II  1995 Comedy                                            29   \n",
       "7       Sabrina                      1995 Comedy|Romance                                    41   \n",
       "65      Bio-Dome                     1996 Comedy                                            82   \n",
       "95      Broken Arrow                 1996 Action|Adventure|Thriller                        123   \n",
       "708     Truth About Cats & Dogs, The 1996 Comedy|Romance                                    49   \n",
       "736     Twister                      1996 Action|Adventure|Romance|Thriller                 84   \n",
       "762     Striptease                   1996 Comedy|Crime                                      31   \n",
       "788     Nutty Professor, The         1996 Comedy|Fantasy|Romance|Sci-Fi                     58   \n",
       "3450    Grumpy Old Men               1993 Comedy                                            54   \n",
       "\n",
       "                                                                             Cosine Distance, ML Model  \n",
       "movieId title                        year genres                                                        \n",
       "3       Grumpier Old Men             1995 Comedy|Romance                                          0.00  \n",
       "5       Father of the Bride Part II  1995 Comedy                                                  0.55  \n",
       "7       Sabrina                      1995 Comedy|Romance                                          0.55  \n",
       "65      Bio-Dome                     1996 Comedy                                                  0.55  \n",
       "95      Broken Arrow                 1996 Action|Adventure|Thriller                               0.56  \n",
       "708     Truth About Cats & Dogs, The 1996 Comedy|Romance                                          0.58  \n",
       "736     Twister                      1996 Action|Adventure|Romance|Thriller                       0.59  \n",
       "762     Striptease                   1996 Comedy|Crime                                            0.59  \n",
       "788     Nutty Professor, The         1996 Comedy|Fantasy|Romance|Sci-Fi                           0.60  \n",
       "3450    Grumpy Old Men               1993 Comedy                                                  0.60  "
      ]
     },
     "metadata": {},
     "output_type": "display_data"
    }
   ],
   "source": [
    "input_movie=AskForUserInput()\n",
    "recommend_movie_by_rating(input_movie)"
   ]
  },
  {
   "cell_type": "markdown",
   "id": "c98a460b",
   "metadata": {},
   "source": [
    "### 6. Save Your Model"
   ]
  },
  {
   "cell_type": "code",
   "execution_count": 10,
   "id": "6fad2e84",
   "metadata": {},
   "outputs": [],
   "source": [
    "import pickle\n",
    "filename = 'Model_1_NearestNeighbours_ratingbased.sav'\n",
    "pickle.dump(model_knn_rating, open(filename, 'wb'))"
   ]
  },
  {
   "cell_type": "markdown",
   "id": "5ec233e9",
   "metadata": {},
   "source": [
    "## 2. Model 2: Model-based Collaborative Filtering, user-based, K-means\n",
    "\n",
    "In this approach, CF models are developed using **machine learning algorithms** to predict user’s rating of unrated items. \n",
    "\n",
    "> We will use **Surprise**\n",
    ">> Surprise is a Python scikit for building and analyzing recommender systems that deal with explicit rating data.\n",
    "\n"
   ]
  },
  {
   "cell_type": "markdown",
   "id": "e0c61751",
   "metadata": {},
   "source": [
    "### 1. Load Surprise Data from DataFrame, Train-Test Split"
   ]
  },
  {
   "cell_type": "code",
   "execution_count": 11,
   "id": "fbcb736f",
   "metadata": {},
   "outputs": [],
   "source": [
    "from surprise import accuracy\n",
    "from surprise.dataset import Dataset\n",
    "from surprise.reader import Reader\n",
    "from surprise.model_selection import train_test_split,cross_validate,RandomizedSearchCV\n",
    "from surprise import KNNWithMeans\n",
    "from surprise import KNNBasic\n",
    "reader = Reader()\n",
    "\n",
    "#delete unnecessary columns away\n",
    "df_imp=df.drop(['title','year','genres'],axis=1)\n",
    "\n",
    "surprise_data = Dataset.load_from_df(df_imp, reader)\n",
    "trainset, testset = train_test_split(surprise_data, test_size=.25,random_state=10)"
   ]
  },
  {
   "cell_type": "code",
   "execution_count": 12,
   "id": "8ec4c732",
   "metadata": {},
   "outputs": [],
   "source": [
    "def find_best_model(model, parameters,data):\n",
    "    clf = RandomizedSearchCV(model, parameters, n_jobs=-1, measures=['rmse'])\n",
    "    clf.fit(data)             \n",
    "    print(clf.best_score)\n",
    "    print(clf.best_params)\n",
    "    print(clf.best_estimator)\n",
    "    return clf"
   ]
  },
  {
   "cell_type": "markdown",
   "id": "0c6fa04a",
   "metadata": {},
   "source": [
    "### 2. Find Optimal k using RandomizedSearchCV"
   ]
  },
  {
   "cell_type": "code",
   "execution_count": 13,
   "id": "b3d822b2",
   "metadata": {},
   "outputs": [
    {
     "name": "stdout",
     "output_type": "stream",
     "text": [
      "{'rmse': 0.8946956137786477}\n",
      "{'rmse': {'k': 23, 'sim_options': {'name': 'pearson_baseline', 'user_based': True}}}\n",
      "{'rmse': <surprise.prediction_algorithms.knns.KNNWithMeans object at 0x7fc52ff66ca0>}\n"
     ]
    }
   ],
   "source": [
    "sim_options = {\n",
    "    \"name\": [\"msd\", \"cosine\", \"pearson\", \"pearson_baseline\"],\"user_based\": [True]\n",
    "}\n",
    "params = { 'k': range(2,25,1),'sim_options': sim_options}\n",
    "clf = find_best_model(KNNWithMeans, params, surprise_data)"
   ]
  },
  {
   "cell_type": "markdown",
   "id": "e11e5ef4",
   "metadata": {},
   "source": [
    "### 3. Build Model using best parameters"
   ]
  },
  {
   "cell_type": "code",
   "execution_count": 14,
   "id": "23273eb2",
   "metadata": {},
   "outputs": [],
   "source": [
    "knnwithmeans = clf.best_estimator['rmse']"
   ]
  },
  {
   "cell_type": "markdown",
   "id": "f80d50a4",
   "metadata": {},
   "source": [
    "### Recommender System Class\n",
    "(Inspired from https://www.kaggle.com/code/rangarajansaranathan/collaborative-filtering-based-recommender-system)\n"
   ]
  },
  {
   "cell_type": "code",
   "execution_count": 15,
   "id": "e60b9d13",
   "metadata": {},
   "outputs": [],
   "source": [
    "from collections import defaultdict\n",
    "\n",
    "def get_top_n(predictions, n=10):\n",
    "    # First map the predictions to each user.\n",
    "    top_n = defaultdict(list)\n",
    "    for uid, iid, true_r, est, _ in predictions:\n",
    "        #cross-relate other information from the fulldf\n",
    "        movieName=df[df['movieId']==iid]['title'].unique()[0]\n",
    "        movieYear=df[df['movieId']==iid]['year'].unique()[0]\n",
    "        genres=df[df['movieId']==iid]['genres'].unique()[0]\n",
    "        avgRat=df[df['movieId']==iid]['rating'].mean()\n",
    "        ratedBy=len(df[df['movieId']==iid]['rating'])\n",
    "        \n",
    "        top_n[uid].append((iid, movieName, movieYear, genres, avgRat, ratedBy))\n",
    "\n",
    "    # Then sort the predictions for each user and retrieve the k highest ones.\n",
    "    for uid, user_ratings in top_n.items():\n",
    "        user_ratings.sort(key=lambda x: x[1], reverse=True)\n",
    "        top_n[uid] = user_ratings[:n]\n",
    "\n",
    "    return top_n\n",
    "\n",
    "def rated_already(uid):\n",
    "    df_out=df[df['userId']==uid]\n",
    "    return df_out.title.unique()\n",
    "    \n",
    "class collab_filtering_Kmeans_Model():\n",
    "    def __init__(self, model, trainset, testset, fulldf, data):\n",
    "        self.model = model\n",
    "        self.trainset = trainset\n",
    "        self.testset = testset\n",
    "        self.data = data\n",
    "        self.pred_test = None\n",
    "        self.recommendations = None\n",
    "        self.top_n = None\n",
    "        self.recommenddf = None\n",
    "\n",
    "    def fit_and_predict(self):        \n",
    "        print('**Fitting the train data...**')\n",
    "        self.model.fit(self.trainset)       \n",
    "\n",
    "        print('**Predicting the test data...**')\n",
    "        self.pred_test = self.model.test(self.testset)        \n",
    "        rmse = round(accuracy.rmse(self.pred_test), 3)\n",
    "        print('**RMSE for the predicted result is ' + str(rmse) + '**')   \n",
    "        \n",
    "        #display(self.pred_test)\n",
    "        self.top_n = get_top_n(self.pred_test)\n",
    "      \n",
    "        self.recommenddf = pd.DataFrame(columns=['userId', 'movieId', 'title', 'year', 'genres', 'average rating','number of ratings'])\n",
    "        \n",
    "        for item in self.top_n:\n",
    "            subdf = pd.DataFrame(self.top_n[item], columns=['movieId','title',  'year', 'genres', 'average rating','number of ratings'])\n",
    "            subdf['userId'] = item\n",
    "            \n",
    "            cols = subdf.columns.tolist()\n",
    "            cols = cols[-1:] + cols[:-1]\n",
    "            subdf = subdf[cols]        \n",
    "            self.recommenddf = pd.concat([self.recommenddf, subdf], axis = 0)        \n",
    "        return rmse\n",
    "        \n",
    "    def cross_validate(self):\n",
    "        print('**Cross Validating the data...**')\n",
    "        cv_result = cross_validate(self.model, self.data, n_jobs=-1)\n",
    "        cv_result = round(cv_result['test_rmse'].mean(),3)\n",
    "        print('**Mean CV RMSE is ' + str(cv_result)  + '**')\n",
    "        return cv_result\n",
    "\n",
    "    def recommend(self, user_id, n=5):\n",
    "        List_already=rated_already(user_id)\n",
    "        print('The User ',user_id,\"has already rated\", len(List_already),\"other movies.\")\n",
    "        #print(List_already)\n",
    "        \n",
    "        print('Recommending top ',n,' movies for userid ',user_id,':')\n",
    "        df = self.recommenddf[self.recommenddf.userId == user_id].head(n)\n",
    "        \n",
    "        #Just to ensure that you are not recommending something already rated by the user\n",
    "        #common=list(set(List_already).intersection(df.title))\n",
    "        #print(\"Common movies:\", common)\n",
    "        #One thing I do not understand how the model knows to recommend  movies not already rated?\n",
    "        return df"
   ]
  },
  {
   "cell_type": "code",
   "execution_count": 16,
   "id": "05762247",
   "metadata": {},
   "outputs": [],
   "source": [
    "CF_knnwithmeans = collab_filtering_Kmeans_Model(knnwithmeans, trainset, testset, df, surprise_data)"
   ]
  },
  {
   "cell_type": "markdown",
   "id": "6cdce48a",
   "metadata": {},
   "source": [
    "### 5. Fit, predict and cross-validate"
   ]
  },
  {
   "cell_type": "code",
   "execution_count": null,
   "id": "4c3975b6",
   "metadata": {
    "scrolled": true
   },
   "outputs": [
    {
     "name": "stdout",
     "output_type": "stream",
     "text": [
      "**Fitting the train data...**\n",
      "Estimating biases using als...\n",
      "Computing the pearson_baseline similarity matrix...\n",
      "Done computing similarity matrix.\n",
      "**Predicting the test data...**\n",
      "RMSE: 0.9004\n",
      "**RMSE for the predicted result is 0.9**\n"
     ]
    }
   ],
   "source": [
    "knnwithmeans_rmse=CF_knnwithmeans.fit_and_predict()"
   ]
  },
  {
   "cell_type": "code",
   "execution_count": null,
   "id": "dbd9d25d",
   "metadata": {},
   "outputs": [],
   "source": [
    "knnwithmeans_cv_rmse_cv = CF_knnwithmeans.cross_validate()"
   ]
  },
  {
   "cell_type": "markdown",
   "id": "8344cfe2",
   "metadata": {},
   "source": [
    "### 6. Recommend (User based)"
   ]
  },
  {
   "cell_type": "code",
   "execution_count": null,
   "id": "664caab1",
   "metadata": {},
   "outputs": [],
   "source": [
    "def AskForUserInput_userId():\n",
    "    inp_id = int(input('Enter your UserId: '))\n",
    "    n= 0\n",
    "    \n",
    "    while inp_id not in df.userId.unique() and n<5:# maximum 5 prompts\n",
    "        print(\"The UserId \", inp_id, \"does not exist in the database.\") \n",
    "        inp_id = input('Please enter UserId: ')\n",
    "        n +=1\n",
    "    return inp_id\n",
    "\n",
    "inp_id=AskForUserInput_userId()\n",
    "result_knn_user1 = (CF_knnwithmeans.recommend(user_id=inp_id, n=10)).drop(['userId'],axis=1)\n",
    "display(result_knn_user1)"
   ]
  },
  {
   "cell_type": "markdown",
   "id": "72d8a6dd",
   "metadata": {},
   "source": [
    "### 7. Save Your Model"
   ]
  },
  {
   "cell_type": "code",
   "execution_count": null,
   "id": "e712f840",
   "metadata": {},
   "outputs": [],
   "source": [
    "import pickle\n",
    "filename = 'Model_2_KNN_Means_ratingbased.sav'\n",
    "pickle.dump(CF_knnwithmeans, open(filename, 'wb'))"
   ]
  },
  {
   "cell_type": "code",
   "execution_count": null,
   "id": "ab122b37",
   "metadata": {},
   "outputs": [],
   "source": []
  }
 ],
 "metadata": {
  "kernelspec": {
   "display_name": "Python 3 (ipykernel)",
   "language": "python",
   "name": "python3"
  },
  "language_info": {
   "codemirror_mode": {
    "name": "ipython",
    "version": 3
   },
   "file_extension": ".py",
   "mimetype": "text/x-python",
   "name": "python",
   "nbconvert_exporter": "python",
   "pygments_lexer": "ipython3",
   "version": "3.9.13"
  }
 },
 "nbformat": 4,
 "nbformat_minor": 5
}
