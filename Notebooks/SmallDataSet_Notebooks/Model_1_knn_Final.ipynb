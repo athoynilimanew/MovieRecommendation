{
 "cells": [
  {
   "cell_type": "markdown",
   "id": "5c55f7fb",
   "metadata": {},
   "source": [
    "# Read the preprocessed Data"
   ]
  },
  {
   "cell_type": "code",
   "execution_count": 1,
   "id": "2f803645",
   "metadata": {
    "scrolled": false
   },
   "outputs": [
    {
     "data": {
      "text/html": [
       "<div>\n",
       "<style scoped>\n",
       "    .dataframe tbody tr th:only-of-type {\n",
       "        vertical-align: middle;\n",
       "    }\n",
       "\n",
       "    .dataframe tbody tr th {\n",
       "        vertical-align: top;\n",
       "    }\n",
       "\n",
       "    .dataframe thead th {\n",
       "        text-align: right;\n",
       "    }\n",
       "</style>\n",
       "<table border=\"1\" class=\"dataframe\">\n",
       "  <thead>\n",
       "    <tr style=\"text-align: right;\">\n",
       "      <th></th>\n",
       "      <th>userId</th>\n",
       "      <th>movieId</th>\n",
       "      <th>rating</th>\n",
       "      <th>title</th>\n",
       "      <th>genres</th>\n",
       "      <th>year</th>\n",
       "    </tr>\n",
       "  </thead>\n",
       "  <tbody>\n",
       "    <tr>\n",
       "      <th>0</th>\n",
       "      <td>1</td>\n",
       "      <td>1</td>\n",
       "      <td>4.0</td>\n",
       "      <td>Toy Story</td>\n",
       "      <td>Adventure|Animation|Children|Comedy|Fantasy</td>\n",
       "      <td>1995</td>\n",
       "    </tr>\n",
       "    <tr>\n",
       "      <th>1</th>\n",
       "      <td>5</td>\n",
       "      <td>1</td>\n",
       "      <td>4.0</td>\n",
       "      <td>Toy Story</td>\n",
       "      <td>Adventure|Animation|Children|Comedy|Fantasy</td>\n",
       "      <td>1995</td>\n",
       "    </tr>\n",
       "    <tr>\n",
       "      <th>2</th>\n",
       "      <td>7</td>\n",
       "      <td>1</td>\n",
       "      <td>4.5</td>\n",
       "      <td>Toy Story</td>\n",
       "      <td>Adventure|Animation|Children|Comedy|Fantasy</td>\n",
       "      <td>1995</td>\n",
       "    </tr>\n",
       "    <tr>\n",
       "      <th>3</th>\n",
       "      <td>15</td>\n",
       "      <td>1</td>\n",
       "      <td>2.5</td>\n",
       "      <td>Toy Story</td>\n",
       "      <td>Adventure|Animation|Children|Comedy|Fantasy</td>\n",
       "      <td>1995</td>\n",
       "    </tr>\n",
       "    <tr>\n",
       "      <th>4</th>\n",
       "      <td>17</td>\n",
       "      <td>1</td>\n",
       "      <td>4.5</td>\n",
       "      <td>Toy Story</td>\n",
       "      <td>Adventure|Animation|Children|Comedy|Fantasy</td>\n",
       "      <td>1995</td>\n",
       "    </tr>\n",
       "  </tbody>\n",
       "</table>\n",
       "</div>"
      ],
      "text/plain": [
       "   userId  movieId  rating      title  \\\n",
       "0       1        1     4.0  Toy Story   \n",
       "1       5        1     4.0  Toy Story   \n",
       "2       7        1     4.5  Toy Story   \n",
       "3      15        1     2.5  Toy Story   \n",
       "4      17        1     4.5  Toy Story   \n",
       "\n",
       "                                        genres  year  \n",
       "0  Adventure|Animation|Children|Comedy|Fantasy  1995  \n",
       "1  Adventure|Animation|Children|Comedy|Fantasy  1995  \n",
       "2  Adventure|Animation|Children|Comedy|Fantasy  1995  \n",
       "3  Adventure|Animation|Children|Comedy|Fantasy  1995  \n",
       "4  Adventure|Animation|Children|Comedy|Fantasy  1995  "
      ]
     },
     "execution_count": 1,
     "metadata": {},
     "output_type": "execute_result"
    }
   ],
   "source": [
    "import numpy as np\n",
    "import pandas as pd\n",
    "%matplotlib inline\n",
    "import matplotlib.pyplot as plt\n",
    "df=pd.read_csv(\"../../Data/ml-latest-small/PreprocessedData_ml_latest_year_small.csv\",index_col=0)\n",
    "df.head()"
   ]
  },
  {
   "cell_type": "markdown",
   "id": "57a2ecc9",
   "metadata": {},
   "source": [
    "# Further Processing the Data (optional)"
   ]
  },
  {
   "cell_type": "markdown",
   "id": "19cdbf07",
   "metadata": {},
   "source": [
    "## Genre management"
   ]
  },
  {
   "cell_type": "code",
   "execution_count": 2,
   "id": "5dc8587a",
   "metadata": {},
   "outputs": [],
   "source": [
    "#genres = df_prelim.genres.str.get_dummies(sep = \"|\")\n",
    "\n",
    "#df = pd.concat([df_prelim, genres], axis=1)\n",
    "#df = df.drop(['genres'], axis = 1)\n",
    "#df.head()"
   ]
  },
  {
   "cell_type": "code",
   "execution_count": 3,
   "id": "cb2c1cf3",
   "metadata": {},
   "outputs": [],
   "source": [
    "#making all titles lower case\n",
    "df[\"title\"] = df[\"title\"].str.lower()"
   ]
  },
  {
   "cell_type": "markdown",
   "id": "bf708de4",
   "metadata": {},
   "source": [
    "# Collaborative Filtering (CF)\n",
    "\n",
    "The Collaborative Filtering Recommender is entirely based on the past behavior and not on the context."
   ]
  },
  {
   "cell_type": "markdown",
   "id": "323afbcd",
   "metadata": {},
   "source": [
    "## 0. User Input"
   ]
  },
  {
   "cell_type": "code",
   "execution_count": 4,
   "id": "8f7ed018",
   "metadata": {},
   "outputs": [],
   "source": [
    "def AskForUserInput_0():\n",
    "    fav_movie=input(\"Enter your Favorite Movie: \").lower()\n",
    "    n=0\n",
    "    movies=df[\"title\"].unique()\n",
    "    while fav_movie not in movies and n<5:\n",
    "        print(\"The Movie \", fav_movie,\" does not exist in our database.\")\n",
    "        fav_movie = input(\"Please enter another favourite Movie: \").lower()\n",
    "        n+=1\n",
    "    return fav_movie"
   ]
  },
  {
   "cell_type": "markdown",
   "id": "20700ea1",
   "metadata": {},
   "source": [
    "## 1.  Model 1: Memory Based Approach, Item-Item Collaborative Filtering, N Neighbours"
   ]
  },
  {
   "cell_type": "markdown",
   "id": "6f06834f",
   "metadata": {},
   "source": [
    "**This is NOT a Machine Learning Model**\n",
    "\n",
    "> Memory Based Collaborative Filtering:\n",
    ">\n",
    "> Take a matrix of preferences for items by users using this matrix \n",
    "> to predict missing preferences and recommend items\n",
    "> There are two types of memory based models:\n",
    ">> 1) Item-Item Collaborative Filtering: “Users who liked this item also liked …”\n",
    ">>\n",
    ">> (i.e. starting from a given movie (or set of movies) we find similar movies based on other users’ preferences.)\n",
    ">>\n",
    ">> 2) User-Item Collaborative Filtering: “Users who are similar to you also liked …”\n",
    ">>\n",
    ">> (i.e. find users that have seen/rated similar content, and use their preferences to recommend new items)\n",
    ">\n",
    "> Memory Based Filtering Pros:\n",
    ">> 1) Easy to implement\n",
    ">>\n",
    ">> 2) produce reasonable prediction quality\n",
    ">\n",
    ">Cons:\n",
    ">> 1) It tends to recommend popular items.\n",
    ">> 2) It suffers when new items that don’t have any ratings enter the system."
   ]
  },
  {
   "cell_type": "markdown",
   "id": "61c8a3c1",
   "metadata": {},
   "source": [
    "### 1. Create a Pivot Matrix \n",
    "\n",
    "We pivot the dataframe to have userId as rows and movieId as columns. "
   ]
  },
  {
   "cell_type": "code",
   "execution_count": 5,
   "id": "af3ef479",
   "metadata": {
    "scrolled": false
   },
   "outputs": [
    {
     "data": {
      "text/html": [
       "<div>\n",
       "<style scoped>\n",
       "    .dataframe tbody tr th:only-of-type {\n",
       "        vertical-align: middle;\n",
       "    }\n",
       "\n",
       "    .dataframe tbody tr th {\n",
       "        vertical-align: top;\n",
       "    }\n",
       "\n",
       "    .dataframe thead th {\n",
       "        text-align: right;\n",
       "    }\n",
       "</style>\n",
       "<table border=\"1\" class=\"dataframe\">\n",
       "  <thead>\n",
       "    <tr style=\"text-align: right;\">\n",
       "      <th>userId</th>\n",
       "      <th>1</th>\n",
       "      <th>2</th>\n",
       "      <th>3</th>\n",
       "      <th>4</th>\n",
       "      <th>5</th>\n",
       "      <th>6</th>\n",
       "      <th>7</th>\n",
       "      <th>8</th>\n",
       "      <th>9</th>\n",
       "      <th>10</th>\n",
       "      <th>...</th>\n",
       "      <th>601</th>\n",
       "      <th>602</th>\n",
       "      <th>603</th>\n",
       "      <th>604</th>\n",
       "      <th>605</th>\n",
       "      <th>606</th>\n",
       "      <th>607</th>\n",
       "      <th>608</th>\n",
       "      <th>609</th>\n",
       "      <th>610</th>\n",
       "    </tr>\n",
       "    <tr>\n",
       "      <th>movieId</th>\n",
       "      <th></th>\n",
       "      <th></th>\n",
       "      <th></th>\n",
       "      <th></th>\n",
       "      <th></th>\n",
       "      <th></th>\n",
       "      <th></th>\n",
       "      <th></th>\n",
       "      <th></th>\n",
       "      <th></th>\n",
       "      <th></th>\n",
       "      <th></th>\n",
       "      <th></th>\n",
       "      <th></th>\n",
       "      <th></th>\n",
       "      <th></th>\n",
       "      <th></th>\n",
       "      <th></th>\n",
       "      <th></th>\n",
       "      <th></th>\n",
       "      <th></th>\n",
       "    </tr>\n",
       "  </thead>\n",
       "  <tbody>\n",
       "    <tr>\n",
       "      <th>1</th>\n",
       "      <td>4.0</td>\n",
       "      <td>0.0</td>\n",
       "      <td>0.0</td>\n",
       "      <td>0.0</td>\n",
       "      <td>4.0</td>\n",
       "      <td>0.0</td>\n",
       "      <td>4.5</td>\n",
       "      <td>0.0</td>\n",
       "      <td>0.0</td>\n",
       "      <td>0.0</td>\n",
       "      <td>...</td>\n",
       "      <td>4.0</td>\n",
       "      <td>0.0</td>\n",
       "      <td>4.0</td>\n",
       "      <td>3.0</td>\n",
       "      <td>4.0</td>\n",
       "      <td>2.5</td>\n",
       "      <td>4.0</td>\n",
       "      <td>2.5</td>\n",
       "      <td>3.0</td>\n",
       "      <td>5.0</td>\n",
       "    </tr>\n",
       "    <tr>\n",
       "      <th>2</th>\n",
       "      <td>0.0</td>\n",
       "      <td>0.0</td>\n",
       "      <td>0.0</td>\n",
       "      <td>0.0</td>\n",
       "      <td>0.0</td>\n",
       "      <td>4.0</td>\n",
       "      <td>0.0</td>\n",
       "      <td>4.0</td>\n",
       "      <td>0.0</td>\n",
       "      <td>0.0</td>\n",
       "      <td>...</td>\n",
       "      <td>0.0</td>\n",
       "      <td>4.0</td>\n",
       "      <td>0.0</td>\n",
       "      <td>5.0</td>\n",
       "      <td>3.5</td>\n",
       "      <td>0.0</td>\n",
       "      <td>0.0</td>\n",
       "      <td>2.0</td>\n",
       "      <td>0.0</td>\n",
       "      <td>0.0</td>\n",
       "    </tr>\n",
       "    <tr>\n",
       "      <th>3</th>\n",
       "      <td>4.0</td>\n",
       "      <td>0.0</td>\n",
       "      <td>0.0</td>\n",
       "      <td>0.0</td>\n",
       "      <td>0.0</td>\n",
       "      <td>5.0</td>\n",
       "      <td>0.0</td>\n",
       "      <td>0.0</td>\n",
       "      <td>0.0</td>\n",
       "      <td>0.0</td>\n",
       "      <td>...</td>\n",
       "      <td>0.0</td>\n",
       "      <td>0.0</td>\n",
       "      <td>0.0</td>\n",
       "      <td>0.0</td>\n",
       "      <td>0.0</td>\n",
       "      <td>0.0</td>\n",
       "      <td>0.0</td>\n",
       "      <td>2.0</td>\n",
       "      <td>0.0</td>\n",
       "      <td>0.0</td>\n",
       "    </tr>\n",
       "    <tr>\n",
       "      <th>4</th>\n",
       "      <td>0.0</td>\n",
       "      <td>0.0</td>\n",
       "      <td>0.0</td>\n",
       "      <td>0.0</td>\n",
       "      <td>0.0</td>\n",
       "      <td>3.0</td>\n",
       "      <td>0.0</td>\n",
       "      <td>0.0</td>\n",
       "      <td>0.0</td>\n",
       "      <td>0.0</td>\n",
       "      <td>...</td>\n",
       "      <td>0.0</td>\n",
       "      <td>0.0</td>\n",
       "      <td>0.0</td>\n",
       "      <td>0.0</td>\n",
       "      <td>0.0</td>\n",
       "      <td>0.0</td>\n",
       "      <td>0.0</td>\n",
       "      <td>0.0</td>\n",
       "      <td>0.0</td>\n",
       "      <td>0.0</td>\n",
       "    </tr>\n",
       "    <tr>\n",
       "      <th>5</th>\n",
       "      <td>0.0</td>\n",
       "      <td>0.0</td>\n",
       "      <td>0.0</td>\n",
       "      <td>0.0</td>\n",
       "      <td>0.0</td>\n",
       "      <td>5.0</td>\n",
       "      <td>0.0</td>\n",
       "      <td>0.0</td>\n",
       "      <td>0.0</td>\n",
       "      <td>0.0</td>\n",
       "      <td>...</td>\n",
       "      <td>0.0</td>\n",
       "      <td>0.0</td>\n",
       "      <td>0.0</td>\n",
       "      <td>3.0</td>\n",
       "      <td>0.0</td>\n",
       "      <td>0.0</td>\n",
       "      <td>0.0</td>\n",
       "      <td>0.0</td>\n",
       "      <td>0.0</td>\n",
       "      <td>0.0</td>\n",
       "    </tr>\n",
       "  </tbody>\n",
       "</table>\n",
       "<p>5 rows × 610 columns</p>\n",
       "</div>"
      ],
      "text/plain": [
       "userId   1    2    3    4    5    6    7    8    9    10   ...  601  602  603  \\\n",
       "movieId                                                    ...                  \n",
       "1        4.0  0.0  0.0  0.0  4.0  0.0  4.5  0.0  0.0  0.0  ...  4.0  0.0  4.0   \n",
       "2        0.0  0.0  0.0  0.0  0.0  4.0  0.0  4.0  0.0  0.0  ...  0.0  4.0  0.0   \n",
       "3        4.0  0.0  0.0  0.0  0.0  5.0  0.0  0.0  0.0  0.0  ...  0.0  0.0  0.0   \n",
       "4        0.0  0.0  0.0  0.0  0.0  3.0  0.0  0.0  0.0  0.0  ...  0.0  0.0  0.0   \n",
       "5        0.0  0.0  0.0  0.0  0.0  5.0  0.0  0.0  0.0  0.0  ...  0.0  0.0  0.0   \n",
       "\n",
       "userId   604  605  606  607  608  609  610  \n",
       "movieId                                     \n",
       "1        3.0  4.0  2.5  4.0  2.5  3.0  5.0  \n",
       "2        5.0  3.5  0.0  0.0  2.0  0.0  0.0  \n",
       "3        0.0  0.0  0.0  0.0  2.0  0.0  0.0  \n",
       "4        0.0  0.0  0.0  0.0  0.0  0.0  0.0  \n",
       "5        3.0  0.0  0.0  0.0  0.0  0.0  0.0  \n",
       "\n",
       "[5 rows x 610 columns]"
      ]
     },
     "execution_count": 5,
     "metadata": {},
     "output_type": "execute_result"
    }
   ],
   "source": [
    "df_movie_pivot = df.pivot(\n",
    "    index='movieId',\n",
    "    columns='userId',\n",
    "    values='rating'\n",
    ").fillna(0)\n",
    "df_movie_pivot.head()"
   ]
  },
  {
   "cell_type": "markdown",
   "id": "a34974ff",
   "metadata": {},
   "source": [
    "### 2.  Sparse matrix\n",
    "\n",
    "A lot of values n the above matrix are zero, i.e. the data is extremely sparse.\n",
    "\n",
    "> A sparse matrix is a matrix that is comprised of mostly zero values.\n",
    "\n",
    "> Convert into an Array Matrix by using csr_matrix\n"
   ]
  },
  {
   "cell_type": "code",
   "execution_count": 6,
   "id": "4254ec1e",
   "metadata": {},
   "outputs": [],
   "source": [
    "from scipy.sparse import csr_matrix\n",
    "feature_matrix=csr_matrix(df_movie_pivot.values)"
   ]
  },
  {
   "cell_type": "markdown",
   "id": "e5b90672",
   "metadata": {},
   "source": [
    "### 3. Build the Model"
   ]
  },
  {
   "cell_type": "code",
   "execution_count": 7,
   "id": "a1c4b527",
   "metadata": {},
   "outputs": [
    {
     "data": {
      "text/plain": [
       "NearestNeighbors(metric='cosine', n_neighbors=10)"
      ]
     },
     "execution_count": 7,
     "metadata": {},
     "output_type": "execute_result"
    }
   ],
   "source": [
    "from sklearn.neighbors import NearestNeighbors\n",
    "#We only consider 10 nearest neighbours\n",
    "n_neigh=10\n",
    "model_knn_rating=NearestNeighbors(metric=\"cosine\",n_neighbors=n_neigh)\n",
    "model_knn_rating.fit(feature_matrix)"
   ]
  },
  {
   "cell_type": "markdown",
   "id": "f6a82c73",
   "metadata": {},
   "source": [
    "### 4. Create The Function to recommend movies"
   ]
  },
  {
   "cell_type": "code",
   "execution_count": 8,
   "id": "ee8d3da6",
   "metadata": {},
   "outputs": [],
   "source": [
    "def recommend_movie_by_rating(query_title):\n",
    "    \n",
    "    #Find the movie ID w.r.t the the title\n",
    "    query_index=df[df['title']==query_title]['movieId'].unique()[0]\n",
    "    \n",
    "    distances,indices=model_knn_rating.kneighbors(\n",
    "        df_movie_pivot.iloc[query_index,:].values.reshape(1,-1)\n",
    "    )\n",
    "    \n",
    "    MovieIds=[]\n",
    "    CosDistance=[]\n",
    "    ratedBy=[]\n",
    "    \n",
    "    for i in range(0,len(distances.flatten())):\n",
    "        movieId=df_movie_pivot.index[indices.flatten()[i]]\n",
    "        MovieIds.append(movieId)\n",
    "    \n",
    "        CosDistance.append(distances.flatten()[i])\n",
    "        ratedBy.append(len(df[df['movieId']==movieId]['rating']))\n",
    "        \n",
    "    df_out=df[df.movieId.isin(MovieIds)].drop([\"userId\"],axis=1)\n",
    "    \n",
    "    df_out=df_out.groupby(['movieId','title',\"year\",\"genres\"]).mean()\n",
    "    df_out['average rating']=df_out['rating'].round(2)\n",
    "    df_out=df_out.drop(['rating'],axis=1)\n",
    "    df_out['number of ratings']=ratedBy\n",
    "    df_out['Cosine Distance, ML Model']=CosDistance\n",
    "    df_out['Cosine Distance, ML Model']=df_out['Cosine Distance, ML Model'].round(2)\n",
    "    print(\"Because You like the movie\",query_title,\"we'd recommend you to watch:\")\n",
    "    display(df_out.head(10))\n",
    "\n",
    "    #Results are automatically sorted as in the pivot table the indices are the movie ids"
   ]
  },
  {
   "cell_type": "markdown",
   "id": "20647ab8",
   "metadata": {},
   "source": [
    "### 5. Test "
   ]
  },
  {
   "cell_type": "code",
   "execution_count": 9,
   "id": "b9b43ccb",
   "metadata": {
    "scrolled": true
   },
   "outputs": [
    {
     "name": "stdout",
     "output_type": "stream",
     "text": [
      "Enter your Favorite Movie: Jumanji\n",
      "Because You like the movie jumanji we'd recommend you to watch:\n"
     ]
    },
    {
     "data": {
      "text/html": [
       "<div>\n",
       "<style scoped>\n",
       "    .dataframe tbody tr th:only-of-type {\n",
       "        vertical-align: middle;\n",
       "    }\n",
       "\n",
       "    .dataframe tbody tr th {\n",
       "        vertical-align: top;\n",
       "    }\n",
       "\n",
       "    .dataframe thead th {\n",
       "        text-align: right;\n",
       "    }\n",
       "</style>\n",
       "<table border=\"1\" class=\"dataframe\">\n",
       "  <thead>\n",
       "    <tr style=\"text-align: right;\">\n",
       "      <th></th>\n",
       "      <th></th>\n",
       "      <th></th>\n",
       "      <th></th>\n",
       "      <th>average rating</th>\n",
       "      <th>number of ratings</th>\n",
       "      <th>Cosine Distance, ML Model</th>\n",
       "    </tr>\n",
       "    <tr>\n",
       "      <th>movieId</th>\n",
       "      <th>title</th>\n",
       "      <th>year</th>\n",
       "      <th>genres</th>\n",
       "      <th></th>\n",
       "      <th></th>\n",
       "      <th></th>\n",
       "    </tr>\n",
       "  </thead>\n",
       "  <tbody>\n",
       "    <tr>\n",
       "      <th>3</th>\n",
       "      <th>grumpier old men</th>\n",
       "      <th>1995</th>\n",
       "      <th>Comedy|Romance</th>\n",
       "      <td>3.26</td>\n",
       "      <td>52</td>\n",
       "      <td>0.00</td>\n",
       "    </tr>\n",
       "    <tr>\n",
       "      <th>5</th>\n",
       "      <th>father of the bride part ii</th>\n",
       "      <th>1995</th>\n",
       "      <th>Comedy</th>\n",
       "      <td>3.07</td>\n",
       "      <td>29</td>\n",
       "      <td>0.55</td>\n",
       "    </tr>\n",
       "    <tr>\n",
       "      <th>7</th>\n",
       "      <th>sabrina</th>\n",
       "      <th>1995</th>\n",
       "      <th>Comedy|Romance</th>\n",
       "      <td>3.19</td>\n",
       "      <td>41</td>\n",
       "      <td>0.55</td>\n",
       "    </tr>\n",
       "    <tr>\n",
       "      <th>65</th>\n",
       "      <th>bio-dome</th>\n",
       "      <th>1996</th>\n",
       "      <th>Comedy</th>\n",
       "      <td>2.53</td>\n",
       "      <td>82</td>\n",
       "      <td>0.55</td>\n",
       "    </tr>\n",
       "    <tr>\n",
       "      <th>95</th>\n",
       "      <th>broken arrow</th>\n",
       "      <th>1996</th>\n",
       "      <th>Action|Adventure|Thriller</th>\n",
       "      <td>3.02</td>\n",
       "      <td>123</td>\n",
       "      <td>0.56</td>\n",
       "    </tr>\n",
       "    <tr>\n",
       "      <th>708</th>\n",
       "      <th>truth about cats &amp; dogs, the</th>\n",
       "      <th>1996</th>\n",
       "      <th>Comedy|Romance</th>\n",
       "      <td>3.39</td>\n",
       "      <td>49</td>\n",
       "      <td>0.58</td>\n",
       "    </tr>\n",
       "    <tr>\n",
       "      <th>736</th>\n",
       "      <th>twister</th>\n",
       "      <th>1996</th>\n",
       "      <th>Action|Adventure|Romance|Thriller</th>\n",
       "      <td>3.32</td>\n",
       "      <td>84</td>\n",
       "      <td>0.59</td>\n",
       "    </tr>\n",
       "    <tr>\n",
       "      <th>762</th>\n",
       "      <th>striptease</th>\n",
       "      <th>1996</th>\n",
       "      <th>Comedy|Crime</th>\n",
       "      <td>2.41</td>\n",
       "      <td>31</td>\n",
       "      <td>0.59</td>\n",
       "    </tr>\n",
       "    <tr>\n",
       "      <th>788</th>\n",
       "      <th>nutty professor, the</th>\n",
       "      <th>1996</th>\n",
       "      <th>Comedy|Fantasy|Romance|Sci-Fi</th>\n",
       "      <td>2.73</td>\n",
       "      <td>58</td>\n",
       "      <td>0.60</td>\n",
       "    </tr>\n",
       "    <tr>\n",
       "      <th>3450</th>\n",
       "      <th>grumpy old men</th>\n",
       "      <th>1993</th>\n",
       "      <th>Comedy</th>\n",
       "      <td>3.29</td>\n",
       "      <td>54</td>\n",
       "      <td>0.60</td>\n",
       "    </tr>\n",
       "  </tbody>\n",
       "</table>\n",
       "</div>"
      ],
      "text/plain": [
       "                                                                             average rating  \\\n",
       "movieId title                        year genres                                              \n",
       "3       grumpier old men             1995 Comedy|Romance                               3.26   \n",
       "5       father of the bride part ii  1995 Comedy                                       3.07   \n",
       "7       sabrina                      1995 Comedy|Romance                               3.19   \n",
       "65      bio-dome                     1996 Comedy                                       2.53   \n",
       "95      broken arrow                 1996 Action|Adventure|Thriller                    3.02   \n",
       "708     truth about cats & dogs, the 1996 Comedy|Romance                               3.39   \n",
       "736     twister                      1996 Action|Adventure|Romance|Thriller            3.32   \n",
       "762     striptease                   1996 Comedy|Crime                                 2.41   \n",
       "788     nutty professor, the         1996 Comedy|Fantasy|Romance|Sci-Fi                2.73   \n",
       "3450    grumpy old men               1993 Comedy                                       3.29   \n",
       "\n",
       "                                                                             number of ratings  \\\n",
       "movieId title                        year genres                                                 \n",
       "3       grumpier old men             1995 Comedy|Romance                                    52   \n",
       "5       father of the bride part ii  1995 Comedy                                            29   \n",
       "7       sabrina                      1995 Comedy|Romance                                    41   \n",
       "65      bio-dome                     1996 Comedy                                            82   \n",
       "95      broken arrow                 1996 Action|Adventure|Thriller                        123   \n",
       "708     truth about cats & dogs, the 1996 Comedy|Romance                                    49   \n",
       "736     twister                      1996 Action|Adventure|Romance|Thriller                 84   \n",
       "762     striptease                   1996 Comedy|Crime                                      31   \n",
       "788     nutty professor, the         1996 Comedy|Fantasy|Romance|Sci-Fi                     58   \n",
       "3450    grumpy old men               1993 Comedy                                            54   \n",
       "\n",
       "                                                                             Cosine Distance, ML Model  \n",
       "movieId title                        year genres                                                        \n",
       "3       grumpier old men             1995 Comedy|Romance                                          0.00  \n",
       "5       father of the bride part ii  1995 Comedy                                                  0.55  \n",
       "7       sabrina                      1995 Comedy|Romance                                          0.55  \n",
       "65      bio-dome                     1996 Comedy                                                  0.55  \n",
       "95      broken arrow                 1996 Action|Adventure|Thriller                               0.56  \n",
       "708     truth about cats & dogs, the 1996 Comedy|Romance                                          0.58  \n",
       "736     twister                      1996 Action|Adventure|Romance|Thriller                       0.59  \n",
       "762     striptease                   1996 Comedy|Crime                                            0.59  \n",
       "788     nutty professor, the         1996 Comedy|Fantasy|Romance|Sci-Fi                           0.60  \n",
       "3450    grumpy old men               1993 Comedy                                                  0.60  "
      ]
     },
     "metadata": {},
     "output_type": "display_data"
    }
   ],
   "source": [
    "input_movie=AskForUserInput_0()\n",
    "recommend_movie_by_rating(input_movie)"
   ]
  },
  {
   "cell_type": "markdown",
   "id": "c98a460b",
   "metadata": {},
   "source": [
    "### 6. Save Your Model"
   ]
  },
  {
   "cell_type": "code",
   "execution_count": 10,
   "id": "6fad2e84",
   "metadata": {},
   "outputs": [],
   "source": [
    "import pickle\n",
    "filename = 'Model_1_NearestNeighbours_ratingbased.sav'\n",
    "pickle.dump(model_knn_rating, open(filename, 'wb'))"
   ]
  },
  {
   "cell_type": "markdown",
   "id": "5ec233e9",
   "metadata": {},
   "source": [
    "## 2. Model 2: Collaborative Filtering, item-item, K-means\n",
    "\n",
    "In this approach, CF models are developed using **machine learning algorithms** to predict user’s rating of unrated items. \n",
    "\n",
    "> We will use **Surprise**\n",
    ">> Surprise is a Python scikit for building and analyzing recommender systems that deal with explicit rating data.\n",
    "\n"
   ]
  },
  {
   "cell_type": "markdown",
   "id": "e0c61751",
   "metadata": {},
   "source": [
    "### 1. Load Surprise Data from DataFrame, Train-Test Split"
   ]
  },
  {
   "cell_type": "code",
   "execution_count": 11,
   "id": "fbcb736f",
   "metadata": {},
   "outputs": [],
   "source": [
    "from surprise import accuracy\n",
    "from surprise.dataset import Dataset\n",
    "from surprise.reader import Reader\n",
    "from surprise.model_selection import train_test_split,cross_validate,RandomizedSearchCV\n",
    "from surprise import KNNWithMeans\n",
    "from surprise import KNNBasic\n",
    "reader = Reader()\n",
    "\n",
    "#delete unnecessary columns away\n",
    "df_imp=df.drop(['title','year','genres'],axis=1)\n",
    "\n",
    "surprise_data = Dataset.load_from_df(df_imp, reader)\n",
    "trainset, testset = train_test_split(surprise_data, test_size=.25,random_state=10)"
   ]
  },
  {
   "cell_type": "code",
   "execution_count": 12,
   "id": "8ec4c732",
   "metadata": {},
   "outputs": [],
   "source": [
    "def find_best_model(model, parameters,data):\n",
    "    clf = RandomizedSearchCV(model, parameters, n_jobs=-1, measures=['rmse'])\n",
    "    clf.fit(data)             \n",
    "    print(clf.best_score)\n",
    "    print(clf.best_params)\n",
    "    print(clf.best_estimator)\n",
    "    return clf"
   ]
  },
  {
   "cell_type": "markdown",
   "id": "0c6fa04a",
   "metadata": {},
   "source": [
    "### 2. Find Optimal k using RandomizedSearchCV"
   ]
  },
  {
   "cell_type": "code",
   "execution_count": 13,
   "id": "b3d822b2",
   "metadata": {},
   "outputs": [
    {
     "name": "stdout",
     "output_type": "stream",
     "text": [
      "{'rmse': 0.8831066659534901}\n",
      "{'rmse': {'k': 23, 'sim_options': {'name': 'pearson_baseline', 'user_based': False}}}\n",
      "{'rmse': <surprise.prediction_algorithms.knns.KNNWithMeans object at 0x7ff781113fa0>}\n"
     ]
    }
   ],
   "source": [
    "sim_options = {\n",
    "    \"name\": [\"cosine\", \"pearson\", \"pearson_baseline\"],\"user_based\": [False]\n",
    "}\n",
    "params = { 'k': range(2,25,1),'sim_options': sim_options}\n",
    "clf = find_best_model(KNNWithMeans, params, surprise_data)"
   ]
  },
  {
   "cell_type": "markdown",
   "id": "e11e5ef4",
   "metadata": {},
   "source": [
    "### 3. Build Model using best parameters"
   ]
  },
  {
   "cell_type": "code",
   "execution_count": 14,
   "id": "23273eb2",
   "metadata": {},
   "outputs": [],
   "source": [
    "knnwithmeans = clf.best_estimator['rmse']"
   ]
  },
  {
   "cell_type": "markdown",
   "id": "f80d50a4",
   "metadata": {},
   "source": [
    "### Load Recommender System Class and other important Functions"
   ]
  },
  {
   "cell_type": "code",
   "execution_count": 15,
   "id": "80688d4f",
   "metadata": {},
   "outputs": [],
   "source": [
    "%run Functions.ipynb "
   ]
  },
  {
   "cell_type": "markdown",
   "id": "a3df210f",
   "metadata": {},
   "source": [
    "### Recommendation Functions, only for this notebook"
   ]
  },
  {
   "cell_type": "markdown",
   "id": "ed4b7495",
   "metadata": {},
   "source": [
    "> Users and items have a raw id and an inner id. Some methods will use/return a raw id (e.g. the predict() method), while some other will use/return an inner id.\n",
    "\n",
    "> Raw ids are ids as defined in a rating file or in a pandas dataframe. They can be strings or numbers. Note though that if the ratings were read from a file which is the standard scenario, they are represented as strings. This is important to know if you’re using e.g. predict() or other methods that accept raw ids as parameters.\n",
    "\n",
    "> On trainset creation, each raw id is mapped to a unique integer called inner id, which is a lot more suitable for Surprise to manipulate. Conversions between raw and inner ids can be done using the to_inner_uid(), to_inner_iid(), to_raw_uid(), and to_raw_iid() methods of the trainset.\n"
   ]
  },
  {
   "cell_type": "code",
   "execution_count": 24,
   "id": "e60b9d13",
   "metadata": {},
   "outputs": [
    {
     "ename": "SyntaxError",
     "evalue": "unmatched ']' (1920057006.py, line 8)",
     "output_type": "error",
     "traceback": [
      "\u001b[0;36m  File \u001b[0;32m\"/var/folders/x0/y7r22n7s1_5fk498dctvq4000000gn/T/ipykernel_10599/1920057006.py\"\u001b[0;36m, line \u001b[0;32m8\u001b[0m\n\u001b[0;31m    for inner_id in movie_neighbours])].drop([\"userId\"],axis=1).drop_duplicates()]\u001b[0m\n\u001b[0m                                                                                 ^\u001b[0m\n\u001b[0;31mSyntaxError\u001b[0m\u001b[0;31m:\u001b[0m unmatched ']'\n"
     ]
    }
   ],
   "source": [
    "def recommend_similar_items(movie_title, df, model, n=5):\n",
    "        movieId=df[df['title']==movie_title]['movieId'].unique()[0]\n",
    "        inner_movieId=model.trainset.to_inner_iid(movieId)\n",
    "        \n",
    "        movie_neighbours=model.get_neighbors(inner_movieId,n)\n",
    "        \n",
    "        df_out=df[df.movieId.isin([model.trainset.to_raw_iid(inner_id)\n",
    "                       for inner_id in movie_neighbours])].drop([\"userId\"],axis=1).drop_duplicates()]\n",
    "        \n",
    "        df_out=df_out.groupby(['movieId','title',\"year\",\"genres\"]).mean()\n",
    "        df_out['average rating']=df_out['rating'].round(2)\n",
    "        df_out=df_out.drop(['rating'],axis=1)\n",
    "        df_out['number of ratings']=len(df[df.movieId.isin(movie_neighbours)]['rating'])\n",
    "        \n",
    "        return df_out "
   ]
  },
  {
   "cell_type": "code",
   "execution_count": 17,
   "id": "05762247",
   "metadata": {},
   "outputs": [],
   "source": [
    "CF_knnwithmeans = collab_filtering_Kmeans_Model(knnwithmeans,trainset,testset)"
   ]
  },
  {
   "cell_type": "markdown",
   "id": "6cdce48a",
   "metadata": {},
   "source": [
    "### 5. Fit, predict and cross-validate"
   ]
  },
  {
   "cell_type": "code",
   "execution_count": 18,
   "id": "4c3975b6",
   "metadata": {
    "scrolled": true
   },
   "outputs": [
    {
     "name": "stdout",
     "output_type": "stream",
     "text": [
      "**Fitting the train data...**\n",
      "Estimating biases using als...\n",
      "Computing the pearson_baseline similarity matrix...\n",
      "Done computing similarity matrix.\n",
      "**Predicting the test data...**\n",
      "RMSE: 0.8901\n",
      "**RMSE for the predicted result is 0.89**\n"
     ]
    }
   ],
   "source": [
    "knnwithmeans_rmse,knnwithmeans_recommenddf =CF_knnwithmeans.fit_and_predict(df)"
   ]
  },
  {
   "cell_type": "code",
   "execution_count": 19,
   "id": "dbd9d25d",
   "metadata": {},
   "outputs": [
    {
     "name": "stdout",
     "output_type": "stream",
     "text": [
      "**Cross Validating the data...**\n",
      "Evaluating RMSE, MAE of algorithm KNNWithMeans on 5 split(s).\n",
      "\n",
      "                  Fold 1  Fold 2  Fold 3  Fold 4  Fold 5  Mean    Std     \n",
      "RMSE (testset)    0.8848  0.8764  0.8766  0.8895  0.8877  0.8830  0.0055  \n",
      "MAE (testset)     0.6732  0.6631  0.6651  0.6751  0.6753  0.6704  0.0052  \n",
      "Fit time          9.78    10.01   10.14   10.19   9.97    10.02   0.14    \n",
      "Test time         7.73    7.16    7.38    7.45    7.90    7.52    0.26    \n",
      "**Mean CV RMSE is 0.883**\n"
     ]
    }
   ],
   "source": [
    "knnwithmeans_cv_rmse_cv = CF_knnwithmeans.cross_validate(surprise_data)\n",
    "mean_cv_RMSE_result = round(knnwithmeans_cv_rmse_cv['test_rmse'].mean(),3)\n",
    "print('**Mean CV RMSE is ' + str(mean_cv_RMSE_result)  + '**')"
   ]
  },
  {
   "cell_type": "markdown",
   "id": "f52e3d63",
   "metadata": {},
   "source": [
    "### Model Errors Plot"
   ]
  },
  {
   "cell_type": "code",
   "execution_count": 20,
   "id": "8c930716",
   "metadata": {},
   "outputs": [
    {
     "data": {
      "image/png": "[encoded data removed]",
      "text/plain": [
       "<Figure size 1000x500 with 1 Axes>"
      ]
     },
     "metadata": {},
     "output_type": "display_data"
    }
   ],
   "source": [
    "# Get data\n",
    "rmse = knnwithmeans_cv_rmse_cv['test_rmse']\n",
    "mae = knnwithmeans_cv_rmse_cv['test_mae']\n",
    "x = np.arange(len(rmse))\n",
    "\n",
    "# Set up the matplotlib figure\n",
    "fig, ax = plt.subplots(figsize = (10, 5))\n",
    "plt.xticks(np.arange(min(x), max(x) + 1, 1.0))\n",
    "plt.ylim(0.5, 1.3)\n",
    "ax.plot(x, rmse, marker='o', label=\"rmse\")\n",
    "ax.plot(x, mae, marker='o', label=\"mae\")\n",
    "\n",
    "# Chart setup\n",
    "plt.title(\"Model Errors\", fontsize = 12)\n",
    "plt.xlabel(\"CV\", fontsize = 10)\n",
    "plt.ylabel(\"Error\", fontsize = 10)\n",
    "plt.legend()\n",
    "plt.show()\n"
   ]
  },
  {
   "cell_type": "markdown",
   "id": "96f2b351",
   "metadata": {},
   "source": [
    "### 7. Recommend (Item Based)"
   ]
  },
  {
   "cell_type": "code",
   "execution_count": 21,
   "id": "94be42b7",
   "metadata": {
    "scrolled": false
   },
   "outputs": [
    {
     "name": "stdout",
     "output_type": "stream",
     "text": [
      "Enter your Favorite Movie: Toy Story\n"
     ]
    },
    {
     "ename": "AttributeError",
     "evalue": "'list' object has no attribute 'drop_duplicates'",
     "output_type": "error",
     "traceback": [
      "\u001b[0;31m---------------------------------------------------------------------------\u001b[0m",
      "\u001b[0;31mAttributeError\u001b[0m                            Traceback (most recent call last)",
      "\u001b[0;32m/var/folders/x0/y7r22n7s1_5fk498dctvq4000000gn/T/ipykernel_10599/2141007552.py\u001b[0m in \u001b[0;36m<module>\u001b[0;34m\u001b[0m\n\u001b[1;32m      1\u001b[0m \u001b[0minp_movie\u001b[0m\u001b[0;34m=\u001b[0m\u001b[0mAskForUserInput\u001b[0m\u001b[0;34m(\u001b[0m\u001b[0mdf\u001b[0m\u001b[0;34m)\u001b[0m\u001b[0;34m\u001b[0m\u001b[0;34m\u001b[0m\u001b[0m\n\u001b[0;32m----> 2\u001b[0;31m \u001b[0mdf_out\u001b[0m\u001b[0;34m=\u001b[0m\u001b[0mrecommend_similar_items\u001b[0m\u001b[0;34m(\u001b[0m\u001b[0minp_movie\u001b[0m\u001b[0;34m,\u001b[0m\u001b[0mdf\u001b[0m\u001b[0;34m,\u001b[0m\u001b[0mCF_knnwithmeans\u001b[0m\u001b[0;34m.\u001b[0m\u001b[0mmodel\u001b[0m\u001b[0;34m,\u001b[0m \u001b[0mn\u001b[0m\u001b[0;34m=\u001b[0m\u001b[0;36m10\u001b[0m\u001b[0;34m)\u001b[0m\u001b[0;34m\u001b[0m\u001b[0;34m\u001b[0m\u001b[0m\n\u001b[0m\u001b[1;32m      3\u001b[0m \u001b[0mprint\u001b[0m\u001b[0;34m(\u001b[0m\u001b[0;34m\"Because You like the movie\"\u001b[0m\u001b[0;34m,\u001b[0m\u001b[0minp_movie\u001b[0m\u001b[0;34m,\u001b[0m\u001b[0;34m\"we'd recommend you to watch:\"\u001b[0m\u001b[0;34m)\u001b[0m\u001b[0;34m\u001b[0m\u001b[0;34m\u001b[0m\u001b[0m\n\u001b[1;32m      4\u001b[0m \u001b[0mdisplay\u001b[0m\u001b[0;34m(\u001b[0m\u001b[0mdf_out\u001b[0m\u001b[0;34m.\u001b[0m\u001b[0mhead\u001b[0m\u001b[0;34m(\u001b[0m\u001b[0;36m10\u001b[0m\u001b[0;34m)\u001b[0m\u001b[0;34m)\u001b[0m\u001b[0;34m\u001b[0m\u001b[0;34m\u001b[0m\u001b[0m\n",
      "\u001b[0;32m/var/folders/x0/y7r22n7s1_5fk498dctvq4000000gn/T/ipykernel_10599/4001288431.py\u001b[0m in \u001b[0;36mrecommend_similar_items\u001b[0;34m(movie_title, df, model, n)\u001b[0m\n\u001b[1;32m      6\u001b[0m \u001b[0;34m\u001b[0m\u001b[0m\n\u001b[1;32m      7\u001b[0m         df_out=df[df.movieId.isin([model.trainset.to_raw_iid(inner_id)\n\u001b[0;32m----> 8\u001b[0;31m                        for inner_id in movie_neighbours])].drop([\"userId\"].drop_duplicates(),axis=1)\n\u001b[0m\u001b[1;32m      9\u001b[0m \u001b[0;34m\u001b[0m\u001b[0m\n\u001b[1;32m     10\u001b[0m         \u001b[0mdf_out\u001b[0m\u001b[0;34m=\u001b[0m\u001b[0mdf_out\u001b[0m\u001b[0;34m.\u001b[0m\u001b[0mgroupby\u001b[0m\u001b[0;34m(\u001b[0m\u001b[0;34m[\u001b[0m\u001b[0;34m'movieId'\u001b[0m\u001b[0;34m,\u001b[0m\u001b[0;34m'title'\u001b[0m\u001b[0;34m,\u001b[0m\u001b[0;34m\"year\"\u001b[0m\u001b[0;34m,\u001b[0m\u001b[0;34m\"genres\"\u001b[0m\u001b[0;34m]\u001b[0m\u001b[0;34m)\u001b[0m\u001b[0;34m.\u001b[0m\u001b[0mmean\u001b[0m\u001b[0;34m(\u001b[0m\u001b[0;34m)\u001b[0m\u001b[0;34m\u001b[0m\u001b[0;34m\u001b[0m\u001b[0m\n",
      "\u001b[0;31mAttributeError\u001b[0m: 'list' object has no attribute 'drop_duplicates'"
     ]
    }
   ],
   "source": [
    "inp_movie=AskForUserInput(df)\n",
    "df_out=recommend_similar_items(inp_movie,df,CF_knnwithmeans.model, n=10)\n",
    "print(\"Because You like the movie\",inp_movie,\"we'd recommend you to watch:\")\n",
    "display(df_out.head(10))"
   ]
  },
  {
   "cell_type": "markdown",
   "id": "72d8a6dd",
   "metadata": {},
   "source": [
    "### 7. Save Your Model"
   ]
  },
  {
   "cell_type": "code",
   "execution_count": null,
   "id": "e712f840",
   "metadata": {},
   "outputs": [],
   "source": [
    "import pickle\n",
    "filename = 'Model_2_KNN_Means_ratingbased.sav'\n",
    "pickle.dump(CF_knnwithmeans, open(filename, 'wb'))"
   ]
  },
  {
   "cell_type": "code",
   "execution_count": null,
   "id": "b7c770b0",
   "metadata": {},
   "outputs": [],
   "source": []
  },
  {
   "cell_type": "code",
   "execution_count": null,
   "id": "f3cccbf4",
   "metadata": {},
   "outputs": [],
   "source": []
  }
 ],
 "metadata": {
  "kernelspec": {
   "display_name": "Python 3 (ipykernel)",
   "language": "python",
   "name": "python3"
  },
  "language_info": {
   "codemirror_mode": {
    "name": "ipython",
    "version": 3
   },
   "file_extension": ".py",
   "mimetype": "text/x-python",
   "name": "python",
   "nbconvert_exporter": "python",
   "pygments_lexer": "ipython3",
   "version": "3.9.13"
  }
 },
 "nbformat": 4,
 "nbformat_minor": 5
}
