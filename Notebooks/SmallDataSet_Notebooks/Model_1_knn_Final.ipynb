{
 "cells": [
  {
   "cell_type": "markdown",
   "id": "5c55f7fb",
   "metadata": {},
   "source": [
    "# Read the preprocessed Data"
   ]
  },
  {
   "cell_type": "code",
   "execution_count": 1,
   "id": "2f803645",
   "metadata": {
    "scrolled": false
   },
   "outputs": [
    {
     "data": {
      "text/html": [
       "<div>\n",
       "<style scoped>\n",
       "    .dataframe tbody tr th:only-of-type {\n",
       "        vertical-align: middle;\n",
       "    }\n",
       "\n",
       "    .dataframe tbody tr th {\n",
       "        vertical-align: top;\n",
       "    }\n",
       "\n",
       "    .dataframe thead th {\n",
       "        text-align: right;\n",
       "    }\n",
       "</style>\n",
       "<table border=\"1\" class=\"dataframe\">\n",
       "  <thead>\n",
       "    <tr style=\"text-align: right;\">\n",
       "      <th></th>\n",
       "      <th>userId</th>\n",
       "      <th>movieId</th>\n",
       "      <th>rating</th>\n",
       "      <th>title</th>\n",
       "      <th>genres</th>\n",
       "      <th>year</th>\n",
       "    </tr>\n",
       "  </thead>\n",
       "  <tbody>\n",
       "    <tr>\n",
       "      <th>0</th>\n",
       "      <td>1</td>\n",
       "      <td>1</td>\n",
       "      <td>4.0</td>\n",
       "      <td>Toy Story</td>\n",
       "      <td>Adventure|Animation|Children|Comedy|Fantasy</td>\n",
       "      <td>1995</td>\n",
       "    </tr>\n",
       "    <tr>\n",
       "      <th>1</th>\n",
       "      <td>5</td>\n",
       "      <td>1</td>\n",
       "      <td>4.0</td>\n",
       "      <td>Toy Story</td>\n",
       "      <td>Adventure|Animation|Children|Comedy|Fantasy</td>\n",
       "      <td>1995</td>\n",
       "    </tr>\n",
       "    <tr>\n",
       "      <th>2</th>\n",
       "      <td>7</td>\n",
       "      <td>1</td>\n",
       "      <td>4.5</td>\n",
       "      <td>Toy Story</td>\n",
       "      <td>Adventure|Animation|Children|Comedy|Fantasy</td>\n",
       "      <td>1995</td>\n",
       "    </tr>\n",
       "    <tr>\n",
       "      <th>3</th>\n",
       "      <td>15</td>\n",
       "      <td>1</td>\n",
       "      <td>2.5</td>\n",
       "      <td>Toy Story</td>\n",
       "      <td>Adventure|Animation|Children|Comedy|Fantasy</td>\n",
       "      <td>1995</td>\n",
       "    </tr>\n",
       "    <tr>\n",
       "      <th>4</th>\n",
       "      <td>17</td>\n",
       "      <td>1</td>\n",
       "      <td>4.5</td>\n",
       "      <td>Toy Story</td>\n",
       "      <td>Adventure|Animation|Children|Comedy|Fantasy</td>\n",
       "      <td>1995</td>\n",
       "    </tr>\n",
       "  </tbody>\n",
       "</table>\n",
       "</div>"
      ],
      "text/plain": [
       "   userId  movieId  rating      title  \\\n",
       "0       1        1     4.0  Toy Story   \n",
       "1       5        1     4.0  Toy Story   \n",
       "2       7        1     4.5  Toy Story   \n",
       "3      15        1     2.5  Toy Story   \n",
       "4      17        1     4.5  Toy Story   \n",
       "\n",
       "                                        genres  year  \n",
       "0  Adventure|Animation|Children|Comedy|Fantasy  1995  \n",
       "1  Adventure|Animation|Children|Comedy|Fantasy  1995  \n",
       "2  Adventure|Animation|Children|Comedy|Fantasy  1995  \n",
       "3  Adventure|Animation|Children|Comedy|Fantasy  1995  \n",
       "4  Adventure|Animation|Children|Comedy|Fantasy  1995  "
      ]
     },
     "execution_count": 1,
     "metadata": {},
     "output_type": "execute_result"
    }
   ],
   "source": [
    "import numpy as np\n",
    "import pandas as pd\n",
    "%matplotlib inline\n",
    "import matplotlib.pyplot as plt\n",
    "df=pd.read_csv(\"../../Data/ml-latest-small/PreprocessedData_ml_latest_year_small.csv\",index_col=0)\n",
    "df.head()"
   ]
  },
  {
   "cell_type": "markdown",
   "id": "57a2ecc9",
   "metadata": {},
   "source": [
    "# Further Processing the Data (optional)"
   ]
  },
  {
   "cell_type": "markdown",
   "id": "19cdbf07",
   "metadata": {},
   "source": [
    "## Genre management"
   ]
  },
  {
   "cell_type": "code",
   "execution_count": 2,
   "id": "5dc8587a",
   "metadata": {},
   "outputs": [],
   "source": [
    "#genres = df_prelim.genres.str.get_dummies(sep = \"|\")\n",
    "\n",
    "#df = pd.concat([df_prelim, genres], axis=1)\n",
    "#df = df.drop(['genres'], axis = 1)\n",
    "#df.head()"
   ]
  },
  {
   "cell_type": "code",
   "execution_count": 3,
   "id": "cb2c1cf3",
   "metadata": {},
   "outputs": [],
   "source": [
    "#making all titles lower case\n",
    "df[\"title\"] = df[\"title\"].str.lower()"
   ]
  },
  {
   "cell_type": "markdown",
   "id": "bf708de4",
   "metadata": {},
   "source": [
    "# Collaborative Filtering (CF)\n",
    "\n",
    "The Collaborative Filtering Recommender is entirely based on the past behavior and not on the context."
   ]
  },
  {
   "cell_type": "markdown",
   "id": "323afbcd",
   "metadata": {},
   "source": [
    "## 0. User Input"
   ]
  },
  {
   "cell_type": "code",
   "execution_count": 4,
   "id": "8f7ed018",
   "metadata": {},
   "outputs": [],
   "source": [
    "def AskForUserInput_0():\n",
    "    fav_movie=input(\"Enter your Favorite Movie: \").lower()\n",
    "    n=0\n",
    "    movies=df[\"title\"].unique()\n",
    "    while fav_movie not in movies and n<5:\n",
    "        print(\"The Movie \", fav_movie,\" does not exist in our database.\")\n",
    "        fav_movie = input(\"Please enter another favourite Movie: \").lower()\n",
    "        n+=1\n",
    "    return fav_movie"
   ]
  },
  {
   "cell_type": "markdown",
   "id": "20700ea1",
   "metadata": {},
   "source": [
    "## 1.  Model 1: Memory Based Approach, Item-Item Collaborative Filtering, N Neighbours"
   ]
  },
  {
   "cell_type": "markdown",
   "id": "6f06834f",
   "metadata": {},
   "source": [
    "**This is NOT a Machine Learning Model**\n",
    "\n",
    "> Memory Based Collaborative Filtering:\n",
    ">\n",
    "> Take a matrix of preferences for items by users using this matrix \n",
    "> to predict missing preferences and recommend items\n",
    "> There are two types of memory based models:\n",
    ">> 1) Item-Item Collaborative Filtering: “Users who liked this item also liked …”\n",
    ">>\n",
    ">> (i.e. starting from a given movie (or set of movies) we find similar movies based on other users’ preferences.)\n",
    ">>\n",
    ">> 2) User-Item Collaborative Filtering: “Users who are similar to you also liked …”\n",
    ">>\n",
    ">> (i.e. find users that have seen/rated similar content, and use their preferences to recommend new items)\n",
    ">\n",
    "> Memory Based Filtering Pros:\n",
    ">> 1) Easy to implement\n",
    ">>\n",
    ">> 2) produce reasonable prediction quality\n",
    ">\n",
    ">Cons:\n",
    ">> 1) It tends to recommend popular items.\n",
    ">> 2) It suffers when new items that don’t have any ratings enter the system."
   ]
  },
  {
   "cell_type": "markdown",
   "id": "61c8a3c1",
   "metadata": {},
   "source": [
    "### 1. Create a Pivot Matrix \n",
    "\n",
    "We pivot the dataframe to have userId as rows and movieId as columns. "
   ]
  },
  {
   "cell_type": "code",
   "execution_count": 5,
   "id": "af3ef479",
   "metadata": {
    "scrolled": false
   },
   "outputs": [
    {
     "data": {
      "text/html": [
       "<div>\n",
       "<style scoped>\n",
       "    .dataframe tbody tr th:only-of-type {\n",
       "        vertical-align: middle;\n",
       "    }\n",
       "\n",
       "    .dataframe tbody tr th {\n",
       "        vertical-align: top;\n",
       "    }\n",
       "\n",
       "    .dataframe thead th {\n",
       "        text-align: right;\n",
       "    }\n",
       "</style>\n",
       "<table border=\"1\" class=\"dataframe\">\n",
       "  <thead>\n",
       "    <tr style=\"text-align: right;\">\n",
       "      <th>userId</th>\n",
       "      <th>1</th>\n",
       "      <th>2</th>\n",
       "      <th>3</th>\n",
       "      <th>4</th>\n",
       "      <th>5</th>\n",
       "      <th>6</th>\n",
       "      <th>7</th>\n",
       "      <th>8</th>\n",
       "      <th>9</th>\n",
       "      <th>10</th>\n",
       "      <th>...</th>\n",
       "      <th>601</th>\n",
       "      <th>602</th>\n",
       "      <th>603</th>\n",
       "      <th>604</th>\n",
       "      <th>605</th>\n",
       "      <th>606</th>\n",
       "      <th>607</th>\n",
       "      <th>608</th>\n",
       "      <th>609</th>\n",
       "      <th>610</th>\n",
       "    </tr>\n",
       "    <tr>\n",
       "      <th>movieId</th>\n",
       "      <th></th>\n",
       "      <th></th>\n",
       "      <th></th>\n",
       "      <th></th>\n",
       "      <th></th>\n",
       "      <th></th>\n",
       "      <th></th>\n",
       "      <th></th>\n",
       "      <th></th>\n",
       "      <th></th>\n",
       "      <th></th>\n",
       "      <th></th>\n",
       "      <th></th>\n",
       "      <th></th>\n",
       "      <th></th>\n",
       "      <th></th>\n",
       "      <th></th>\n",
       "      <th></th>\n",
       "      <th></th>\n",
       "      <th></th>\n",
       "      <th></th>\n",
       "    </tr>\n",
       "  </thead>\n",
       "  <tbody>\n",
       "    <tr>\n",
       "      <th>1</th>\n",
       "      <td>4.0</td>\n",
       "      <td>0.0</td>\n",
       "      <td>0.0</td>\n",
       "      <td>0.0</td>\n",
       "      <td>4.0</td>\n",
       "      <td>0.0</td>\n",
       "      <td>4.5</td>\n",
       "      <td>0.0</td>\n",
       "      <td>0.0</td>\n",
       "      <td>0.0</td>\n",
       "      <td>...</td>\n",
       "      <td>4.0</td>\n",
       "      <td>0.0</td>\n",
       "      <td>4.0</td>\n",
       "      <td>3.0</td>\n",
       "      <td>4.0</td>\n",
       "      <td>2.5</td>\n",
       "      <td>4.0</td>\n",
       "      <td>2.5</td>\n",
       "      <td>3.0</td>\n",
       "      <td>5.0</td>\n",
       "    </tr>\n",
       "    <tr>\n",
       "      <th>2</th>\n",
       "      <td>0.0</td>\n",
       "      <td>0.0</td>\n",
       "      <td>0.0</td>\n",
       "      <td>0.0</td>\n",
       "      <td>0.0</td>\n",
       "      <td>4.0</td>\n",
       "      <td>0.0</td>\n",
       "      <td>4.0</td>\n",
       "      <td>0.0</td>\n",
       "      <td>0.0</td>\n",
       "      <td>...</td>\n",
       "      <td>0.0</td>\n",
       "      <td>4.0</td>\n",
       "      <td>0.0</td>\n",
       "      <td>5.0</td>\n",
       "      <td>3.5</td>\n",
       "      <td>0.0</td>\n",
       "      <td>0.0</td>\n",
       "      <td>2.0</td>\n",
       "      <td>0.0</td>\n",
       "      <td>0.0</td>\n",
       "    </tr>\n",
       "    <tr>\n",
       "      <th>3</th>\n",
       "      <td>4.0</td>\n",
       "      <td>0.0</td>\n",
       "      <td>0.0</td>\n",
       "      <td>0.0</td>\n",
       "      <td>0.0</td>\n",
       "      <td>5.0</td>\n",
       "      <td>0.0</td>\n",
       "      <td>0.0</td>\n",
       "      <td>0.0</td>\n",
       "      <td>0.0</td>\n",
       "      <td>...</td>\n",
       "      <td>0.0</td>\n",
       "      <td>0.0</td>\n",
       "      <td>0.0</td>\n",
       "      <td>0.0</td>\n",
       "      <td>0.0</td>\n",
       "      <td>0.0</td>\n",
       "      <td>0.0</td>\n",
       "      <td>2.0</td>\n",
       "      <td>0.0</td>\n",
       "      <td>0.0</td>\n",
       "    </tr>\n",
       "    <tr>\n",
       "      <th>4</th>\n",
       "      <td>0.0</td>\n",
       "      <td>0.0</td>\n",
       "      <td>0.0</td>\n",
       "      <td>0.0</td>\n",
       "      <td>0.0</td>\n",
       "      <td>3.0</td>\n",
       "      <td>0.0</td>\n",
       "      <td>0.0</td>\n",
       "      <td>0.0</td>\n",
       "      <td>0.0</td>\n",
       "      <td>...</td>\n",
       "      <td>0.0</td>\n",
       "      <td>0.0</td>\n",
       "      <td>0.0</td>\n",
       "      <td>0.0</td>\n",
       "      <td>0.0</td>\n",
       "      <td>0.0</td>\n",
       "      <td>0.0</td>\n",
       "      <td>0.0</td>\n",
       "      <td>0.0</td>\n",
       "      <td>0.0</td>\n",
       "    </tr>\n",
       "    <tr>\n",
       "      <th>5</th>\n",
       "      <td>0.0</td>\n",
       "      <td>0.0</td>\n",
       "      <td>0.0</td>\n",
       "      <td>0.0</td>\n",
       "      <td>0.0</td>\n",
       "      <td>5.0</td>\n",
       "      <td>0.0</td>\n",
       "      <td>0.0</td>\n",
       "      <td>0.0</td>\n",
       "      <td>0.0</td>\n",
       "      <td>...</td>\n",
       "      <td>0.0</td>\n",
       "      <td>0.0</td>\n",
       "      <td>0.0</td>\n",
       "      <td>3.0</td>\n",
       "      <td>0.0</td>\n",
       "      <td>0.0</td>\n",
       "      <td>0.0</td>\n",
       "      <td>0.0</td>\n",
       "      <td>0.0</td>\n",
       "      <td>0.0</td>\n",
       "    </tr>\n",
       "  </tbody>\n",
       "</table>\n",
       "<p>5 rows × 610 columns</p>\n",
       "</div>"
      ],
      "text/plain": [
       "userId   1    2    3    4    5    6    7    8    9    10   ...  601  602  603  \\\n",
       "movieId                                                    ...                  \n",
       "1        4.0  0.0  0.0  0.0  4.0  0.0  4.5  0.0  0.0  0.0  ...  4.0  0.0  4.0   \n",
       "2        0.0  0.0  0.0  0.0  0.0  4.0  0.0  4.0  0.0  0.0  ...  0.0  4.0  0.0   \n",
       "3        4.0  0.0  0.0  0.0  0.0  5.0  0.0  0.0  0.0  0.0  ...  0.0  0.0  0.0   \n",
       "4        0.0  0.0  0.0  0.0  0.0  3.0  0.0  0.0  0.0  0.0  ...  0.0  0.0  0.0   \n",
       "5        0.0  0.0  0.0  0.0  0.0  5.0  0.0  0.0  0.0  0.0  ...  0.0  0.0  0.0   \n",
       "\n",
       "userId   604  605  606  607  608  609  610  \n",
       "movieId                                     \n",
       "1        3.0  4.0  2.5  4.0  2.5  3.0  5.0  \n",
       "2        5.0  3.5  0.0  0.0  2.0  0.0  0.0  \n",
       "3        0.0  0.0  0.0  0.0  2.0  0.0  0.0  \n",
       "4        0.0  0.0  0.0  0.0  0.0  0.0  0.0  \n",
       "5        3.0  0.0  0.0  0.0  0.0  0.0  0.0  \n",
       "\n",
       "[5 rows x 610 columns]"
      ]
     },
     "execution_count": 5,
     "metadata": {},
     "output_type": "execute_result"
    }
   ],
   "source": [
    "df_movie_pivot = df.pivot(\n",
    "    index='movieId',\n",
    "    columns='userId',\n",
    "    values='rating'\n",
    ").fillna(0)\n",
    "df_movie_pivot.head()"
   ]
  },
  {
   "cell_type": "markdown",
   "id": "a34974ff",
   "metadata": {},
   "source": [
    "### 2.  Sparse matrix\n",
    "\n",
    "A lot of values n the above matrix are zero, i.e. the data is extremely sparse.\n",
    "\n",
    "> A sparse matrix is a matrix that is comprised of mostly zero values.\n",
    "\n",
    "> Convert into an Array Matrix by using csr_matrix\n"
   ]
  },
  {
   "cell_type": "code",
   "execution_count": 6,
   "id": "4254ec1e",
   "metadata": {},
   "outputs": [],
   "source": [
    "from scipy.sparse import csr_matrix\n",
    "feature_matrix=csr_matrix(df_movie_pivot.values)"
   ]
  },
  {
   "cell_type": "markdown",
   "id": "e5b90672",
   "metadata": {},
   "source": [
    "### 3. Build the Model"
   ]
  },
  {
   "cell_type": "code",
   "execution_count": 7,
   "id": "a1c4b527",
   "metadata": {},
   "outputs": [
    {
     "data": {
      "text/plain": [
       "NearestNeighbors(metric='cosine', n_neighbors=10)"
      ]
     },
     "execution_count": 7,
     "metadata": {},
     "output_type": "execute_result"
    }
   ],
   "source": [
    "from sklearn.neighbors import NearestNeighbors\n",
    "#We only consider 10 nearest neighbours\n",
    "n_neigh=10\n",
    "model_knn_rating=NearestNeighbors(metric=\"cosine\",n_neighbors=n_neigh)\n",
    "model_knn_rating.fit(feature_matrix)"
   ]
  },
  {
   "cell_type": "markdown",
   "id": "f6a82c73",
   "metadata": {},
   "source": [
    "### 4. Create The Function to recommend movies"
   ]
  },
  {
   "cell_type": "code",
   "execution_count": 8,
   "id": "ee8d3da6",
   "metadata": {},
   "outputs": [],
   "source": [
    "def recommend_movie_by_rating(query_title):\n",
    "    \n",
    "    #Find the movie ID w.r.t the the title\n",
    "    query_index=df[df['title']==query_title]['movieId'].unique()[0]\n",
    "    \n",
    "    distances,indices=model_knn_rating.kneighbors(\n",
    "        df_movie_pivot.iloc[query_index,:].values.reshape(1,-1)\n",
    "    )\n",
    "    \n",
    "    MovieIds=[]\n",
    "    CosDistance=[]\n",
    "    ratedBy=[]\n",
    "    \n",
    "    for i in range(0,len(distances.flatten())):\n",
    "        movieId=df_movie_pivot.index[indices.flatten()[i]]\n",
    "        MovieIds.append(movieId)\n",
    "    \n",
    "        CosDistance.append(distances.flatten()[i])\n",
    "        ratedBy.append(len(df[df['movieId']==movieId]['rating']))\n",
    "        \n",
    "    df_out=df[df.movieId.isin(MovieIds)].drop([\"userId\"],axis=1)\n",
    "    \n",
    "    df_out=df_out.groupby(['movieId','title',\"year\",\"genres\"]).mean()\n",
    "    df_out['average rating']=df_out['rating'].round(2)\n",
    "    df_out=df_out.drop(['rating'],axis=1)\n",
    "    df_out['number of ratings']=ratedBy\n",
    "    df_out['Cosine Distance, ML Model']=CosDistance\n",
    "    df_out['Cosine Distance, ML Model']=df_out['Cosine Distance, ML Model'].round(2)\n",
    "    print(\"Because You like the movie\",query_title,\"we'd recommend you to watch:\")\n",
    "    display(df_out.head(10))\n",
    "\n",
    "    #Results are automatically sorted as in the pivot table the indices are the movie ids"
   ]
  },
  {
   "cell_type": "markdown",
   "id": "20647ab8",
   "metadata": {},
   "source": [
    "### 5. Test "
   ]
  },
  {
   "cell_type": "code",
   "execution_count": null,
   "id": "b9b43ccb",
   "metadata": {
    "scrolled": true
   },
   "outputs": [],
   "source": [
    "input_movie=AskForUserInput_0()\n",
    "recommend_movie_by_rating(input_movie)"
   ]
  },
  {
   "cell_type": "markdown",
   "id": "c98a460b",
   "metadata": {},
   "source": [
    "### 6. Save Your Model"
   ]
  },
  {
   "cell_type": "code",
   "execution_count": null,
   "id": "6fad2e84",
   "metadata": {},
   "outputs": [],
   "source": [
    "import pickle\n",
    "filename = 'Model_1_NearestNeighbours_ratingbased.sav'\n",
    "pickle.dump(model_knn_rating, open(filename, 'wb'))"
   ]
  },
  {
   "cell_type": "markdown",
   "id": "5ec233e9",
   "metadata": {},
   "source": [
    "## 2. Model 2: Collaborative Filtering, item-item, K-means\n",
    "\n",
    "In this approach, CF models are developed using **machine learning algorithms** to predict user’s rating of unrated items. \n",
    "\n",
    "> We will use **Surprise**\n",
    ">> Surprise is a Python scikit for building and analyzing recommender systems that deal with explicit rating data.\n",
    "\n"
   ]
  },
  {
   "cell_type": "markdown",
   "id": "e0c61751",
   "metadata": {},
   "source": [
    "### 1. Load Surprise Data from DataFrame, Train-Test Split"
   ]
  },
  {
   "cell_type": "code",
   "execution_count": null,
   "id": "fbcb736f",
   "metadata": {},
   "outputs": [],
   "source": [
    "from surprise import accuracy\n",
    "from surprise.dataset import Dataset\n",
    "from surprise.reader import Reader\n",
    "from surprise.model_selection import train_test_split,cross_validate,RandomizedSearchCV\n",
    "from surprise import KNNWithMeans\n",
    "from surprise import KNNBasic\n",
    "reader = Reader()\n",
    "\n",
    "#delete unnecessary columns away\n",
    "df_imp=df.drop(['title','year','genres'],axis=1)\n",
    "\n",
    "surprise_data = Dataset.load_from_df(df_imp, reader)\n",
    "trainset, testset = train_test_split(surprise_data, test_size=.25,random_state=10)"
   ]
  },
  {
   "cell_type": "code",
   "execution_count": null,
   "id": "8ec4c732",
   "metadata": {},
   "outputs": [],
   "source": [
    "def find_best_model(model, parameters,data):\n",
    "    clf = RandomizedSearchCV(model, parameters, n_jobs=-1, measures=['rmse'])\n",
    "    clf.fit(data)             \n",
    "    print(clf.best_score)\n",
    "    print(clf.best_params)\n",
    "    print(clf.best_estimator)\n",
    "    return clf"
   ]
  },
  {
   "cell_type": "markdown",
   "id": "0c6fa04a",
   "metadata": {},
   "source": [
    "### 2. Find Optimal k using RandomizedSearchCV"
   ]
  },
  {
   "cell_type": "code",
   "execution_count": null,
   "id": "b3d822b2",
   "metadata": {},
   "outputs": [],
   "source": [
    "sim_options = {\n",
    "    \"name\": [\"cosine\", \"pearson\", \"pearson_baseline\"],\"user_based\": [False]\n",
    "}\n",
    "params = { 'k': range(2,25,1),'sim_options': sim_options}\n",
    "clf = find_best_model(KNNWithMeans, params, surprise_data)"
   ]
  },
  {
   "cell_type": "markdown",
   "id": "e11e5ef4",
   "metadata": {},
   "source": [
    "### 3. Build Model using best parameters"
   ]
  },
  {
   "cell_type": "code",
   "execution_count": null,
   "id": "23273eb2",
   "metadata": {},
   "outputs": [],
   "source": [
    "knnwithmeans = clf.best_estimator['rmse']"
   ]
  },
  {
   "cell_type": "markdown",
   "id": "f80d50a4",
   "metadata": {},
   "source": [
    "### Load Recommender System Class and other important Functions"
   ]
  },
  {
   "cell_type": "code",
   "execution_count": null,
   "id": "80688d4f",
   "metadata": {},
   "outputs": [],
   "source": [
    "%run Functions.ipynb "
   ]
  },
  {
   "cell_type": "markdown",
   "id": "a3df210f",
   "metadata": {},
   "source": [
    "### Recommendation Functions, only for this notebook"
   ]
  },
  {
   "cell_type": "markdown",
   "id": "ed4b7495",
   "metadata": {},
   "source": [
    "> Users and items have a raw id and an inner id. Some methods will use/return a raw id (e.g. the predict() method), while some other will use/return an inner id.\n",
    "\n",
    "> Raw ids are ids as defined in a rating file or in a pandas dataframe. They can be strings or numbers. Note though that if the ratings were read from a file which is the standard scenario, they are represented as strings. This is important to know if you’re using e.g. predict() or other methods that accept raw ids as parameters.\n",
    "\n",
    "> On trainset creation, each raw id is mapped to a unique integer called inner id, which is a lot more suitable for Surprise to manipulate. Conversions between raw and inner ids can be done using the to_inner_uid(), to_inner_iid(), to_raw_uid(), and to_raw_iid() methods of the trainset.\n"
   ]
  },
  {
   "cell_type": "code",
   "execution_count": null,
   "id": "e60b9d13",
   "metadata": {},
   "outputs": [],
   "source": [
    "def recommend_similar_items(movie_title, df, model, n=5):\n",
    "        movieId=df[df['title']==movie_title]['movieId'].unique()[0]\n",
    "        inner_movieId=model.trainset.to_inner_iid(movieId)\n",
    "        \n",
    "        movie_neighbours=model.get_neighbors(inner_movieId,n)\n",
    "        \n",
    "        df_out=df[df.movieId.isin([model.trainset.to_raw_iid(inner_id)\n",
    "                       for inner_id in movie_neighbours])]\n",
    "        \n",
    "        df_out=Process_Avg_Rating(df_out)\n",
    "        \n",
    "        return df_out "
   ]
  },
  {
   "cell_type": "code",
   "execution_count": null,
   "id": "05762247",
   "metadata": {},
   "outputs": [],
   "source": [
    "CF_knnwithmeans = collab_filtering_Kmeans_Model(knnwithmeans,trainset,testset)"
   ]
  },
  {
   "cell_type": "markdown",
   "id": "6cdce48a",
   "metadata": {},
   "source": [
    "### 5. Fit, predict and cross-validate"
   ]
  },
  {
   "cell_type": "code",
   "execution_count": null,
   "id": "4c3975b6",
   "metadata": {
    "scrolled": true
   },
   "outputs": [],
   "source": [
    "knnwithmeans_rmse,knnwithmeans_recommenddf =CF_knnwithmeans.fit_and_predict(df)"
   ]
  },
  {
   "cell_type": "code",
   "execution_count": null,
   "id": "dbd9d25d",
   "metadata": {},
   "outputs": [],
   "source": [
    "knnwithmeans_cv_rmse_cv = CF_knnwithmeans.cross_validate(surprise_data)\n",
    "mean_cv_RMSE_result = round(knnwithmeans_cv_rmse_cv['test_rmse'].mean(),3)\n",
    "print('**Mean CV RMSE is ' + str(mean_cv_RMSE_result)  + '**')"
   ]
  },
  {
   "cell_type": "markdown",
   "id": "f52e3d63",
   "metadata": {},
   "source": [
    "### Model Errors Plot"
   ]
  },
  {
   "cell_type": "code",
   "execution_count": null,
   "id": "8c930716",
   "metadata": {
    "scrolled": true
   },
   "outputs": [],
   "source": [
    "# Get data\n",
    "rmse = knnwithmeans_cv_rmse_cv['test_rmse']\n",
    "mae = knnwithmeans_cv_rmse_cv['test_mae']\n",
    "x = np.arange(len(rmse))\n",
    "\n",
    "# Set up the matplotlib figure\n",
    "fig, ax = plt.subplots(figsize = (10, 5))\n",
    "plt.xticks(np.arange(min(x), max(x) + 1, 1.0))\n",
    "plt.ylim(0.5, 1.3)\n",
    "ax.plot(x, rmse, marker='o', label=\"rmse\")\n",
    "ax.plot(x, mae, marker='o', label=\"mae\")\n",
    "\n",
    "# Chart setup\n",
    "plt.title(\"Model Errors\", fontsize = 12)\n",
    "plt.xlabel(\"CV\", fontsize = 10)\n",
    "plt.ylabel(\"Error\", fontsize = 10)\n",
    "plt.legend()\n",
    "plt.show()\n"
   ]
  },
  {
   "cell_type": "markdown",
   "id": "96f2b351",
   "metadata": {},
   "source": [
    "### 7. Recommend (Item Based)"
   ]
  },
  {
   "cell_type": "code",
   "execution_count": null,
   "id": "aaae091d",
   "metadata": {},
   "outputs": [],
   "source": [
    "inp_movie=AskForUserInput(df)"
   ]
  },
  {
   "cell_type": "code",
   "execution_count": null,
   "id": "94be42b7",
   "metadata": {
    "scrolled": false
   },
   "outputs": [],
   "source": [
    "inp_movie=AskForUserInput(df)\n",
    "df_out=recommend_similar_items(inp_movie,df,CF_knnwithmeans.model, n=10)\n",
    "print(\"Because You like the movie\",inp_movie,\"we'd recommend you to watch:\")\n",
    "display(df_out.head(10))"
   ]
  },
  {
   "cell_type": "markdown",
   "id": "72d8a6dd",
   "metadata": {},
   "source": [
    "### 7. Save Your Model"
   ]
  },
  {
   "cell_type": "code",
   "execution_count": null,
   "id": "e712f840",
   "metadata": {},
   "outputs": [],
   "source": [
    "import pickle\n",
    "filename = 'Model_2_KNN_Means_ratingbased.sav'\n",
    "pickle.dump(CF_knnwithmeans, open(filename, 'wb'))"
   ]
  },
  {
   "cell_type": "code",
   "execution_count": null,
   "id": "b7c770b0",
   "metadata": {},
   "outputs": [],
   "source": []
  },
  {
   "cell_type": "code",
   "execution_count": null,
   "id": "f3cccbf4",
   "metadata": {},
   "outputs": [],
   "source": []
  }
 ],
 "metadata": {
  "kernelspec": {
   "display_name": "Python 3 (ipykernel)",
   "language": "python",
   "name": "python3"
  },
  "language_info": {
   "codemirror_mode": {
    "name": "ipython",
    "version": 3
   },
   "file_extension": ".py",
   "mimetype": "text/x-python",
   "name": "python",
   "nbconvert_exporter": "python",
   "pygments_lexer": "ipython3",
   "version": "3.9.13"
  }
 },
 "nbformat": 4,
 "nbformat_minor": 5
}
