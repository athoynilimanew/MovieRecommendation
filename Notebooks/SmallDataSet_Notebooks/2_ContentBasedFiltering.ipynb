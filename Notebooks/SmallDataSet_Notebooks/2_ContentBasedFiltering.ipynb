{
 "cells": [
  {
   "cell_type": "markdown",
   "id": "1f5f9199",
   "metadata": {},
   "source": [
    "# Building a content-based recommender using tf-idf"
   ]
  },
  {
   "cell_type": "markdown",
   "id": "dcc5d92b",
   "metadata": {},
   "source": [
    "## Import libraries and data"
   ]
  },
  {
   "cell_type": "code",
   "execution_count": 1,
   "id": "66585ee0",
   "metadata": {},
   "outputs": [],
   "source": [
    "import pandas as pd\n",
    "import numpy as np\n",
    "from sklearn.feature_extraction.text import TfidfVectorizer #obtaining tdf vectors\n",
    "from itertools import combinations #finding combination of genres for a given movie\n",
    "from sklearn.metrics.pairwise import cosine_similarity #To compute the cosine similarities between all tf-idf vectors\n",
    "\n",
    "\n",
    "df = pd.read_csv(\"../../Data/ml-latest-small/PreprocessedData_ml_latest_year_small.csv\",index_col=0)\n"
   ]
  },
  {
   "cell_type": "markdown",
   "id": "6f294dd1",
   "metadata": {},
   "source": [
    "## drop duplicates and keep only movieId, title and genres"
   ]
  },
  {
   "cell_type": "code",
   "execution_count": 2,
   "id": "fc5b755a",
   "metadata": {},
   "outputs": [],
   "source": [
    "df['pasteIDandMovie'] = df['title']+str(df['movieId'])\n",
    "df = df.drop_duplicates(subset=['pasteIDandMovie'])\n",
    "\n",
    "movies = df[['movieId', 'title', 'genres']].sort_values(by=['movieId']).reset_index(drop=True)\n"
   ]
  },
  {
   "cell_type": "code",
   "execution_count": 3,
   "id": "492c30cb",
   "metadata": {},
   "outputs": [
    {
     "data": {
      "text/html": [
       "<div>\n",
       "<style scoped>\n",
       "    .dataframe tbody tr th:only-of-type {\n",
       "        vertical-align: middle;\n",
       "    }\n",
       "\n",
       "    .dataframe tbody tr th {\n",
       "        vertical-align: top;\n",
       "    }\n",
       "\n",
       "    .dataframe thead th {\n",
       "        text-align: right;\n",
       "    }\n",
       "</style>\n",
       "<table border=\"1\" class=\"dataframe\">\n",
       "  <thead>\n",
       "    <tr style=\"text-align: right;\">\n",
       "      <th></th>\n",
       "      <th>movieId</th>\n",
       "      <th>title</th>\n",
       "      <th>genres</th>\n",
       "    </tr>\n",
       "  </thead>\n",
       "  <tbody>\n",
       "    <tr>\n",
       "      <th>0</th>\n",
       "      <td>1</td>\n",
       "      <td>Toy Story (1995)</td>\n",
       "      <td>Adventure|Animation|Children|Comedy|Fantasy</td>\n",
       "    </tr>\n",
       "    <tr>\n",
       "      <th>1</th>\n",
       "      <td>2</td>\n",
       "      <td>Jumanji (1995)</td>\n",
       "      <td>Adventure|Children|Fantasy</td>\n",
       "    </tr>\n",
       "    <tr>\n",
       "      <th>2</th>\n",
       "      <td>3</td>\n",
       "      <td>Grumpier Old Men (1995)</td>\n",
       "      <td>Comedy|Romance</td>\n",
       "    </tr>\n",
       "    <tr>\n",
       "      <th>3</th>\n",
       "      <td>4</td>\n",
       "      <td>Waiting to Exhale (1995)</td>\n",
       "      <td>Comedy|Drama|Romance</td>\n",
       "    </tr>\n",
       "    <tr>\n",
       "      <th>4</th>\n",
       "      <td>5</td>\n",
       "      <td>Father of the Bride Part II (1995)</td>\n",
       "      <td>Comedy</td>\n",
       "    </tr>\n",
       "  </tbody>\n",
       "</table>\n",
       "</div>"
      ],
      "text/plain": [
       "   movieId                               title  \\\n",
       "0        1                    Toy Story (1995)   \n",
       "1        2                      Jumanji (1995)   \n",
       "2        3             Grumpier Old Men (1995)   \n",
       "3        4            Waiting to Exhale (1995)   \n",
       "4        5  Father of the Bride Part II (1995)   \n",
       "\n",
       "                                        genres  \n",
       "0  Adventure|Animation|Children|Comedy|Fantasy  \n",
       "1                   Adventure|Children|Fantasy  \n",
       "2                               Comedy|Romance  \n",
       "3                         Comedy|Drama|Romance  \n",
       "4                                       Comedy  "
      ]
     },
     "execution_count": 3,
     "metadata": {},
     "output_type": "execute_result"
    }
   ],
   "source": [
    "movies.head()"
   ]
  },
  {
   "cell_type": "markdown",
   "id": "1626de69",
   "metadata": {},
   "source": [
    "## Load the class"
   ]
  },
  {
   "cell_type": "code",
   "execution_count": 4,
   "id": "2b21e1bb",
   "metadata": {},
   "outputs": [],
   "source": [
    "%run -i CB_TFIDF_CosineSimilarity.py "
   ]
  },
  {
   "cell_type": "markdown",
   "id": "2fd64f19",
   "metadata": {},
   "source": [
    "## Transform the genres into a meaningful representation of numbers using TfidVectorizer"
   ]
  },
  {
   "cell_type": "code",
   "execution_count": 5,
   "id": "8ef2aaea",
   "metadata": {},
   "outputs": [],
   "source": [
    "tf = TfidfVectorizer(stop_words = 'english', analyzer = 'word')\n",
    "tfidf_matrix = tf.fit_transform(movies['genres'])"
   ]
  },
  {
   "cell_type": "code",
   "execution_count": 6,
   "id": "8c6d22a0",
   "metadata": {},
   "outputs": [],
   "source": [
    "##to get an impression of what the result looks like, uncomment the line below\n",
    "#pd.DataFrame(tfidf_matrix.todense(), columns=tf.get_feature_names(), index=movies.title).sample(10, axis=1).sample(10, axis=0)\n"
   ]
  },
  {
   "cell_type": "markdown",
   "id": "e34b8126",
   "metadata": {},
   "source": [
    "## Use cosine similarity to find similar vectors"
   ]
  },
  {
   "cell_type": "code",
   "execution_count": 7,
   "id": "11ad5f21",
   "metadata": {},
   "outputs": [
    {
     "name": "stdout",
     "output_type": "stream",
     "text": [
      "Shape: (9719, 9719)\n"
     ]
    },
    {
     "data": {
      "text/html": [
       "<div>\n",
       "<style scoped>\n",
       "    .dataframe tbody tr th:only-of-type {\n",
       "        vertical-align: middle;\n",
       "    }\n",
       "\n",
       "    .dataframe tbody tr th {\n",
       "        vertical-align: top;\n",
       "    }\n",
       "\n",
       "    .dataframe thead th {\n",
       "        text-align: right;\n",
       "    }\n",
       "</style>\n",
       "<table border=\"1\" class=\"dataframe\">\n",
       "  <thead>\n",
       "    <tr style=\"text-align: right;\">\n",
       "      <th>title</th>\n",
       "      <th>Firestarter (1984)</th>\n",
       "      <th>Frighteners, The (1996)</th>\n",
       "      <th>Transformers: Revenge of the Fallen (2009)</th>\n",
       "      <th>Signs (2002)</th>\n",
       "      <th>Date Night (2010)</th>\n",
       "    </tr>\n",
       "    <tr>\n",
       "      <th>title</th>\n",
       "      <th></th>\n",
       "      <th></th>\n",
       "      <th></th>\n",
       "      <th></th>\n",
       "      <th></th>\n",
       "    </tr>\n",
       "  </thead>\n",
       "  <tbody>\n",
       "    <tr>\n",
       "      <th>Toy Story (1995)</th>\n",
       "      <td>0.0</td>\n",
       "      <td>0.11</td>\n",
       "      <td>0.16</td>\n",
       "      <td>0.0</td>\n",
       "      <td>0.12</td>\n",
       "    </tr>\n",
       "    <tr>\n",
       "      <th>Jumanji (1995)</th>\n",
       "      <td>0.0</td>\n",
       "      <td>0.00</td>\n",
       "      <td>0.19</td>\n",
       "      <td>0.0</td>\n",
       "      <td>0.00</td>\n",
       "    </tr>\n",
       "    <tr>\n",
       "      <th>Grumpier Old Men (1995)</th>\n",
       "      <td>0.0</td>\n",
       "      <td>0.24</td>\n",
       "      <td>0.00</td>\n",
       "      <td>0.0</td>\n",
       "      <td>0.79</td>\n",
       "    </tr>\n",
       "    <tr>\n",
       "      <th>Waiting to Exhale (1995)</th>\n",
       "      <td>0.0</td>\n",
       "      <td>0.21</td>\n",
       "      <td>0.00</td>\n",
       "      <td>0.0</td>\n",
       "      <td>0.70</td>\n",
       "    </tr>\n",
       "    <tr>\n",
       "      <th>Father of the Bride Part II (1995)</th>\n",
       "      <td>0.0</td>\n",
       "      <td>0.42</td>\n",
       "      <td>0.00</td>\n",
       "      <td>0.0</td>\n",
       "      <td>0.45</td>\n",
       "    </tr>\n",
       "    <tr>\n",
       "      <th>...</th>\n",
       "      <td>...</td>\n",
       "      <td>...</td>\n",
       "      <td>...</td>\n",
       "      <td>...</td>\n",
       "      <td>...</td>\n",
       "    </tr>\n",
       "    <tr>\n",
       "      <th>Black Butler: Book of the Atlantic (2017)</th>\n",
       "      <td>0.0</td>\n",
       "      <td>0.13</td>\n",
       "      <td>0.15</td>\n",
       "      <td>0.0</td>\n",
       "      <td>0.41</td>\n",
       "    </tr>\n",
       "    <tr>\n",
       "      <th>No Game No Life: Zero (2017)</th>\n",
       "      <td>0.0</td>\n",
       "      <td>0.15</td>\n",
       "      <td>0.00</td>\n",
       "      <td>0.0</td>\n",
       "      <td>0.16</td>\n",
       "    </tr>\n",
       "    <tr>\n",
       "      <th>Flint (2017)</th>\n",
       "      <td>0.0</td>\n",
       "      <td>0.00</td>\n",
       "      <td>0.00</td>\n",
       "      <td>0.0</td>\n",
       "      <td>0.00</td>\n",
       "    </tr>\n",
       "    <tr>\n",
       "      <th>Bungo Stray Dogs: Dead Apple (2018)</th>\n",
       "      <td>0.0</td>\n",
       "      <td>0.00</td>\n",
       "      <td>0.19</td>\n",
       "      <td>0.0</td>\n",
       "      <td>0.36</td>\n",
       "    </tr>\n",
       "    <tr>\n",
       "      <th>Andrew Dice Clay: Dice Rules (1991)</th>\n",
       "      <td>0.0</td>\n",
       "      <td>0.42</td>\n",
       "      <td>0.00</td>\n",
       "      <td>0.0</td>\n",
       "      <td>0.45</td>\n",
       "    </tr>\n",
       "  </tbody>\n",
       "</table>\n",
       "<p>9719 rows × 5 columns</p>\n",
       "</div>"
      ],
      "text/plain": [
       "title                                      Firestarter (1984)  \\\n",
       "title                                                           \n",
       "Toy Story (1995)                                          0.0   \n",
       "Jumanji (1995)                                            0.0   \n",
       "Grumpier Old Men (1995)                                   0.0   \n",
       "Waiting to Exhale (1995)                                  0.0   \n",
       "Father of the Bride Part II (1995)                        0.0   \n",
       "...                                                       ...   \n",
       "Black Butler: Book of the Atlantic (2017)                 0.0   \n",
       "No Game No Life: Zero (2017)                              0.0   \n",
       "Flint (2017)                                              0.0   \n",
       "Bungo Stray Dogs: Dead Apple (2018)                       0.0   \n",
       "Andrew Dice Clay: Dice Rules (1991)                       0.0   \n",
       "\n",
       "title                                      Frighteners, The (1996)  \\\n",
       "title                                                                \n",
       "Toy Story (1995)                                              0.11   \n",
       "Jumanji (1995)                                                0.00   \n",
       "Grumpier Old Men (1995)                                       0.24   \n",
       "Waiting to Exhale (1995)                                      0.21   \n",
       "Father of the Bride Part II (1995)                            0.42   \n",
       "...                                                            ...   \n",
       "Black Butler: Book of the Atlantic (2017)                     0.13   \n",
       "No Game No Life: Zero (2017)                                  0.15   \n",
       "Flint (2017)                                                  0.00   \n",
       "Bungo Stray Dogs: Dead Apple (2018)                           0.00   \n",
       "Andrew Dice Clay: Dice Rules (1991)                           0.42   \n",
       "\n",
       "title                                      Transformers: Revenge of the Fallen (2009)  \\\n",
       "title                                                                                   \n",
       "Toy Story (1995)                                                                 0.16   \n",
       "Jumanji (1995)                                                                   0.19   \n",
       "Grumpier Old Men (1995)                                                          0.00   \n",
       "Waiting to Exhale (1995)                                                         0.00   \n",
       "Father of the Bride Part II (1995)                                               0.00   \n",
       "...                                                                               ...   \n",
       "Black Butler: Book of the Atlantic (2017)                                        0.15   \n",
       "No Game No Life: Zero (2017)                                                     0.00   \n",
       "Flint (2017)                                                                     0.00   \n",
       "Bungo Stray Dogs: Dead Apple (2018)                                              0.19   \n",
       "Andrew Dice Clay: Dice Rules (1991)                                              0.00   \n",
       "\n",
       "title                                      Signs (2002)  Date Night (2010)  \n",
       "title                                                                       \n",
       "Toy Story (1995)                                    0.0               0.12  \n",
       "Jumanji (1995)                                      0.0               0.00  \n",
       "Grumpier Old Men (1995)                             0.0               0.79  \n",
       "Waiting to Exhale (1995)                            0.0               0.70  \n",
       "Father of the Bride Part II (1995)                  0.0               0.45  \n",
       "...                                                 ...                ...  \n",
       "Black Butler: Book of the Atlantic (2017)           0.0               0.41  \n",
       "No Game No Life: Zero (2017)                        0.0               0.16  \n",
       "Flint (2017)                                        0.0               0.00  \n",
       "Bungo Stray Dogs: Dead Apple (2018)                 0.0               0.36  \n",
       "Andrew Dice Clay: Dice Rules (1991)                 0.0               0.45  \n",
       "\n",
       "[9719 rows x 5 columns]"
      ]
     },
     "execution_count": 7,
     "metadata": {},
     "output_type": "execute_result"
    }
   ],
   "source": [
    "#cosine_sim = cosine_similarity(tfidf_matrix)\n",
    "#cosine_sim_df = pd.DataFrame(cosine_sim, index=movies['title'], columns=movies['title'])\n",
    "\n",
    "model=tfidf_cosine_sim_model(tfidf_matrix)\n",
    "cosine_sim_df=pd.DataFrame(model.cosine_sim, index=movies['title'], columns=movies['title'])\n",
    "\n",
    "print('Shape:', cosine_sim_df.shape)\n",
    "#find a sample of the result below\n",
    "cosine_sim_df.sample(5, axis=1).round(2) "
   ]
  },
  {
   "cell_type": "markdown",
   "id": "148e0c3d",
   "metadata": {},
   "source": [
    "## find the highest tf-idf score for a given movie, function declaration\n"
   ]
  },
  {
   "cell_type": "markdown",
   "id": "4686f94b",
   "metadata": {},
   "source": [
    "Moved this function in the CB_TFIDF_CosineSimilarity.py script"
   ]
  },
  {
   "cell_type": "code",
   "execution_count": 8,
   "id": "6db5f4b2",
   "metadata": {},
   "outputs": [
    {
     "data": {
      "text/plain": [
       "'\\ndef genre_recommendation(query_title):\\n    \"\"\"\\n    Recommends movies based on a similarity dataframe\\n    Parameters\\n    ----------\\n    query_title : Movie title (string)\\n\\n    \"\"\"\\n    items= movies[[\\'title\\', \\'genres\\']]\\n    #select column with the input movie title, and change it to numpy array \\n    #resulting array of indices indicates the positions of the elements that would be in the first i positions\\n    sel = cosine_sim_df.loc[:,query_title].to_numpy().argpartition(range(-1,-10,-1)) \\n    #resulting subset of column names is ordered in descending order of the corresponding values in the title column. \\n    #This subset is then assigned to the variable ct    \\n    ct = cosine_sim_df.columns[sel[-1:-(10+2):-1]]\\n    #drop columns title from input and merge the df with the original dataframe. show only first i results. \\n    ct = ct.drop(query_title, errors=\\'ignore\\')\\n    \\n    xx = pd.DataFrame(ct).merge(items).head(10)\\n    \\n    #add similarity score to xx\\n    xx[\\'Similarity Score\\'] = cosine_sim_df.loc[query_title, xx[\\'title\\']].values\\n    \\n    return xx\\n\\n'"
      ]
     },
     "execution_count": 8,
     "metadata": {},
     "output_type": "execute_result"
    }
   ],
   "source": [
    "'''\n",
    "def genre_recommendation(query_title):\n",
    "    \"\"\"\n",
    "    Recommends movies based on a similarity dataframe\n",
    "    Parameters\n",
    "    ----------\n",
    "    query_title : Movie title (string)\n",
    "\n",
    "    \"\"\"\n",
    "    items= movies[['title', 'genres']]\n",
    "    #select column with the input movie title, and change it to numpy array \n",
    "    #resulting array of indices indicates the positions of the elements that would be in the first i positions\n",
    "    sel = cosine_sim_df.loc[:,query_title].to_numpy().argpartition(range(-1,-10,-1)) \n",
    "    #resulting subset of column names is ordered in descending order of the corresponding values in the title column. \n",
    "    #This subset is then assigned to the variable ct    \n",
    "    ct = cosine_sim_df.columns[sel[-1:-(10+2):-1]]\n",
    "    #drop columns title from input and merge the df with the original dataframe. show only first i results. \n",
    "    ct = ct.drop(query_title, errors='ignore')\n",
    "    \n",
    "    xx = pd.DataFrame(ct).merge(items).head(10)\n",
    "    \n",
    "    #add similarity score to xx\n",
    "    xx['Similarity Score'] = cosine_sim_df.loc[query_title, xx['title']].values\n",
    "    \n",
    "    return xx\n",
    "\n",
    "'''"
   ]
  },
  {
   "cell_type": "markdown",
   "id": "0d96560f",
   "metadata": {},
   "source": [
    "### find your movie on what the recommendation should be based on, and paste the name in the function below"
   ]
  },
  {
   "cell_type": "code",
   "execution_count": 9,
   "id": "d7f167b8",
   "metadata": {},
   "outputs": [],
   "source": [
    "# for example, find a harry potter movie\n",
    "#movies[movies[\"title\"].str.contains('Harry')]"
   ]
  },
  {
   "cell_type": "markdown",
   "id": "db6b0180",
   "metadata": {},
   "source": [
    "## Recommendation Example"
   ]
  },
  {
   "cell_type": "code",
   "execution_count": 10,
   "id": "65a41be9",
   "metadata": {},
   "outputs": [],
   "source": [
    "similar_movies=model.genre_recommendation('Harry Potter and the Order of the Phoenix (2007)',movies)"
   ]
  },
  {
   "cell_type": "code",
   "execution_count": 11,
   "id": "dd7e97b3",
   "metadata": {
    "scrolled": true
   },
   "outputs": [
    {
     "data": {
      "text/html": [
       "<div>\n",
       "<style scoped>\n",
       "    .dataframe tbody tr th:only-of-type {\n",
       "        vertical-align: middle;\n",
       "    }\n",
       "\n",
       "    .dataframe tbody tr th {\n",
       "        vertical-align: top;\n",
       "    }\n",
       "\n",
       "    .dataframe thead th {\n",
       "        text-align: right;\n",
       "    }\n",
       "</style>\n",
       "<table border=\"1\" class=\"dataframe\">\n",
       "  <thead>\n",
       "    <tr style=\"text-align: right;\">\n",
       "      <th></th>\n",
       "      <th>title</th>\n",
       "      <th>movieId</th>\n",
       "      <th>genres</th>\n",
       "      <th>Similarity Score</th>\n",
       "    </tr>\n",
       "  </thead>\n",
       "  <tbody>\n",
       "    <tr>\n",
       "      <th>0</th>\n",
       "      <td>Pete's Dragon (2016)</td>\n",
       "      <td>160573</td>\n",
       "      <td>Adventure|Children|Fantasy</td>\n",
       "      <td>1.0</td>\n",
       "    </tr>\n",
       "    <tr>\n",
       "      <th>1</th>\n",
       "      <td>NeverEnding Story, The (1984)</td>\n",
       "      <td>2161</td>\n",
       "      <td>Adventure|Children|Fantasy</td>\n",
       "      <td>1.0</td>\n",
       "    </tr>\n",
       "    <tr>\n",
       "      <th>2</th>\n",
       "      <td>Chronicles of Narnia: The Lion, the Witch and ...</td>\n",
       "      <td>41566</td>\n",
       "      <td>Adventure|Children|Fantasy</td>\n",
       "      <td>1.0</td>\n",
       "    </tr>\n",
       "    <tr>\n",
       "      <th>3</th>\n",
       "      <td>Seventh Son (2014)</td>\n",
       "      <td>119655</td>\n",
       "      <td>Adventure|Children|Fantasy</td>\n",
       "      <td>1.0</td>\n",
       "    </tr>\n",
       "    <tr>\n",
       "      <th>4</th>\n",
       "      <td>Chronicles of Narnia: Prince Caspian, The (2008)</td>\n",
       "      <td>59501</td>\n",
       "      <td>Adventure|Children|Fantasy</td>\n",
       "      <td>1.0</td>\n",
       "    </tr>\n",
       "    <tr>\n",
       "      <th>5</th>\n",
       "      <td>Bridge to Terabithia (2007)</td>\n",
       "      <td>50601</td>\n",
       "      <td>Adventure|Children|Fantasy</td>\n",
       "      <td>1.0</td>\n",
       "    </tr>\n",
       "    <tr>\n",
       "      <th>6</th>\n",
       "      <td>Return to Oz (1985)</td>\n",
       "      <td>2093</td>\n",
       "      <td>Adventure|Children|Fantasy</td>\n",
       "      <td>1.0</td>\n",
       "    </tr>\n",
       "    <tr>\n",
       "      <th>7</th>\n",
       "      <td>Chronicles of Narnia: The Voyage of the Dawn T...</td>\n",
       "      <td>82169</td>\n",
       "      <td>Adventure|Children|Fantasy</td>\n",
       "      <td>1.0</td>\n",
       "    </tr>\n",
       "    <tr>\n",
       "      <th>8</th>\n",
       "      <td>Alice Through the Looking Glass (2016)</td>\n",
       "      <td>158813</td>\n",
       "      <td>Adventure|Children|Fantasy</td>\n",
       "      <td>1.0</td>\n",
       "    </tr>\n",
       "    <tr>\n",
       "      <th>9</th>\n",
       "      <td>Alice in Wonderland (1933)</td>\n",
       "      <td>80748</td>\n",
       "      <td>Adventure|Children|Fantasy</td>\n",
       "      <td>1.0</td>\n",
       "    </tr>\n",
       "  </tbody>\n",
       "</table>\n",
       "</div>"
      ],
      "text/plain": [
       "                                               title  movieId  \\\n",
       "0                               Pete's Dragon (2016)   160573   \n",
       "1                      NeverEnding Story, The (1984)     2161   \n",
       "2  Chronicles of Narnia: The Lion, the Witch and ...    41566   \n",
       "3                                 Seventh Son (2014)   119655   \n",
       "4   Chronicles of Narnia: Prince Caspian, The (2008)    59501   \n",
       "5                        Bridge to Terabithia (2007)    50601   \n",
       "6                                Return to Oz (1985)     2093   \n",
       "7  Chronicles of Narnia: The Voyage of the Dawn T...    82169   \n",
       "8             Alice Through the Looking Glass (2016)   158813   \n",
       "9                         Alice in Wonderland (1933)    80748   \n",
       "\n",
       "                       genres  Similarity Score  \n",
       "0  Adventure|Children|Fantasy               1.0  \n",
       "1  Adventure|Children|Fantasy               1.0  \n",
       "2  Adventure|Children|Fantasy               1.0  \n",
       "3  Adventure|Children|Fantasy               1.0  \n",
       "4  Adventure|Children|Fantasy               1.0  \n",
       "5  Adventure|Children|Fantasy               1.0  \n",
       "6  Adventure|Children|Fantasy               1.0  \n",
       "7  Adventure|Children|Fantasy               1.0  \n",
       "8  Adventure|Children|Fantasy               1.0  \n",
       "9  Adventure|Children|Fantasy               1.0  "
      ]
     },
     "execution_count": 11,
     "metadata": {},
     "output_type": "execute_result"
    }
   ],
   "source": [
    "similar_movies"
   ]
  },
  {
   "cell_type": "markdown",
   "id": "8617b917",
   "metadata": {},
   "source": [
    "## Save your model"
   ]
  },
  {
   "cell_type": "code",
   "execution_count": 12,
   "id": "d166bddc",
   "metadata": {},
   "outputs": [],
   "source": [
    "import pickle\n",
    "filename = 'Model_tfidf_cosine_sim.sav'\n",
    "pickle.dump(model, open(filename, 'wb'))"
   ]
  },
  {
   "cell_type": "code",
   "execution_count": null,
   "id": "75e99dfe",
   "metadata": {},
   "outputs": [],
   "source": []
  }
 ],
 "metadata": {
  "kernelspec": {
   "display_name": "Python 3 (ipykernel)",
   "language": "python",
   "name": "python3"
  },
  "language_info": {
   "codemirror_mode": {
    "name": "ipython",
    "version": 3
   },
   "file_extension": ".py",
   "mimetype": "text/x-python",
   "name": "python",
   "nbconvert_exporter": "python",
   "pygments_lexer": "ipython3",
   "version": "3.9.13"
  }
 },
 "nbformat": 4,
 "nbformat_minor": 5
}
