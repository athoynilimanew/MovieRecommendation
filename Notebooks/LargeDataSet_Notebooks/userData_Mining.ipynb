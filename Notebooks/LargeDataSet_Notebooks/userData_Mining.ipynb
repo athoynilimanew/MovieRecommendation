{
 "cells": [
  {
   "cell_type": "markdown",
   "metadata": {
    "id": "qIhoIRFSEfmi"
   },
   "source": [
    "<hr style=\"border-width:2px;border-color:##75DFC1\">\n",
    "<center> <h1> Project </h1> </center> <br>\n",
    "<center> <h2> Movie recommendation system  </h2> </center> <br>\n",
    "<hr style=\"border-width:2px;border-color:##75DFC1\">\n",
    "\n"
   ]
  },
  {
   "cell_type": "markdown",
   "metadata": {
    "id": "tTrF2Ux4Mpia"
   },
   "source": [
    "*Description of the Project:*\n",
    "\n",
    "Creation of a recommendation system:\n",
    "\n",
    "*   collaborative filtering application\n",
    "*   consolidation of a dataset by web scraping\n",
    "*   application of Deep Learning algorithms.\n",
    "\n",
    "Data Resources:\n",
    "\n",
    "\n",
    "*   Notes available here: https://grouplens.org/datasets/movielens/20m/\n",
    "\n",
    "* Movie info available here: https://www.imdb.com/interfaces/\n",
    "\n",
    "* Possibility to scrape imdb, senscritique, rottentomatoes, …\n",
    "\n",
    "Project Members: (alphabetically w.r.t. surnames)\n",
    "\n",
    "*  Femke Lutz\n",
    "*  Athoy Nilima\n",
    "*  Clemens Schaab\n",
    "*  Elvid Srebric\n",
    "\n",
    "\n",
    "\n",
    "\n"
   ]
  },
  {
   "cell_type": "markdown",
   "metadata": {
    "id": "4oXD7-0FLFqe"
   },
   "source": [
    "**Step 1: Data mining- Movielens**\n"
   ]
  },
  {
   "cell_type": "markdown",
   "metadata": {
    "id": "DmQ-L__bOJKX"
   },
   "source": [
    "*Data Files in this google Drive:*\n",
    "\n",
    "*Movielens data*\n",
    "\n",
    "*   Data/ml-20m/genome-scores.csv\n",
    "*   Data/ml-20m/genome-tags.csv\n",
    "*   Data/ml-20m/links.csv\n",
    "*   Data/ml-20m/movies.csv\n",
    "*   Data/ml-20m/ratings.csv\n",
    "*   Data/ml-20m/tags.csv\n",
    "\n"
   ]
  },
  {
   "cell_type": "markdown",
   "metadata": {
    "id": "UT6cCp7zm3wI"
   },
   "source": [
    "# Preliminary tasks"
   ]
  },
  {
   "cell_type": "code",
   "execution_count": 1,
   "metadata": {
    "executionInfo": {
     "elapsed": 1401,
     "status": "ok",
     "timestamp": 1675262098625,
     "user": {
      "displayName": "Athoy Nilima",
      "userId": "04626793317912241226"
     },
     "user_tz": -60
    },
    "id": "0m96KgamLo1O"
   },
   "outputs": [
    {
     "data": {
      "text/plain": [
       "'/Users/Shared/Work/BootCamp/Project/MovieRecommendation/Notebooks'"
      ]
     },
     "execution_count": 1,
     "metadata": {},
     "output_type": "execute_result"
    }
   ],
   "source": [
    "#Import necessary libraries\n",
    "import pandas as pd\n",
    "import numpy as np\n",
    "import os\n",
    "%pwd"
   ]
  },
  {
   "cell_type": "code",
   "execution_count": 2,
   "metadata": {
    "colab": {
     "base_uri": "https://localhost:8080/"
    },
    "executionInfo": {
     "elapsed": 22198,
     "status": "ok",
     "timestamp": 1675262120818,
     "user": {
      "displayName": "Athoy Nilima",
      "userId": "04626793317912241226"
     },
     "user_tz": -60
    },
    "id": "xhRjNLlPhtnX",
    "outputId": "62c434da-b02e-41b0-96ab-917b2e63c004"
   },
   "outputs": [],
   "source": [
    "# For Google Collab only:\n",
    "# Define the path to file\n",
    "# First create a shortcut to the folder created by Elvid to your drive\n",
    "# Then mount google drive with the following set of commands\n",
    "\n",
    "#from google.colab import drive\n",
    "#drive.mount('/content/drive')\n",
    "#%cd /content/drive/MyDrive/DS_Bootcamp_Movie_Recommendation_System"
   ]
  },
  {
   "cell_type": "code",
   "execution_count": 3,
   "metadata": {
    "executionInfo": {
     "elapsed": 13139,
     "status": "ok",
     "timestamp": 1675262133951,
     "user": {
      "displayName": "Athoy Nilima",
      "userId": "04626793317912241226"
     },
     "user_tz": -60
    },
    "id": "T-hhTsrivMj7"
   },
   "outputs": [],
   "source": [
    "# Read Data Files into pandas dataframes\n",
    "df_ratings=pd.read_csv(\"../Data/ml-20m/ratings.csv\")\n",
    "df_tags=pd.read_csv(\"../Data/ml-20m/tags.csv\")"
   ]
  },
  {
   "cell_type": "markdown",
   "metadata": {
    "id": "yrTg_NFOSSwq"
   },
   "source": [
    "#User Data"
   ]
  },
  {
   "cell_type": "markdown",
   "metadata": {
    "id": "ydfD382HAiG-"
   },
   "source": [
    "\n",
    "##Check Data: tags"
   ]
  },
  {
   "cell_type": "code",
   "execution_count": 4,
   "metadata": {
    "colab": {
     "base_uri": "https://localhost:8080/",
     "height": 221
    },
    "executionInfo": {
     "elapsed": 229,
     "status": "ok",
     "timestamp": 1675262140022,
     "user": {
      "displayName": "Athoy Nilima",
      "userId": "04626793317912241226"
     },
     "user_tz": -60
    },
    "id": "74IL5gP7AxpB",
    "outputId": "c93377de-4dbb-4717-fec9-4ce817fe9b11"
   },
   "outputs": [
    {
     "data": {
      "text/html": [
       "<div>\n",
       "<style scoped>\n",
       "    .dataframe tbody tr th:only-of-type {\n",
       "        vertical-align: middle;\n",
       "    }\n",
       "\n",
       "    .dataframe tbody tr th {\n",
       "        vertical-align: top;\n",
       "    }\n",
       "\n",
       "    .dataframe thead th {\n",
       "        text-align: right;\n",
       "    }\n",
       "</style>\n",
       "<table border=\"1\" class=\"dataframe\">\n",
       "  <thead>\n",
       "    <tr style=\"text-align: right;\">\n",
       "      <th></th>\n",
       "      <th>userId</th>\n",
       "      <th>movieId</th>\n",
       "      <th>tag</th>\n",
       "      <th>timestamp</th>\n",
       "    </tr>\n",
       "  </thead>\n",
       "  <tbody>\n",
       "    <tr>\n",
       "      <th>0</th>\n",
       "      <td>18</td>\n",
       "      <td>4141</td>\n",
       "      <td>Mark Waters</td>\n",
       "      <td>1240597180</td>\n",
       "    </tr>\n",
       "    <tr>\n",
       "      <th>1</th>\n",
       "      <td>65</td>\n",
       "      <td>208</td>\n",
       "      <td>dark hero</td>\n",
       "      <td>1368150078</td>\n",
       "    </tr>\n",
       "    <tr>\n",
       "      <th>2</th>\n",
       "      <td>65</td>\n",
       "      <td>353</td>\n",
       "      <td>dark hero</td>\n",
       "      <td>1368150079</td>\n",
       "    </tr>\n",
       "    <tr>\n",
       "      <th>3</th>\n",
       "      <td>65</td>\n",
       "      <td>521</td>\n",
       "      <td>noir thriller</td>\n",
       "      <td>1368149983</td>\n",
       "    </tr>\n",
       "    <tr>\n",
       "      <th>4</th>\n",
       "      <td>65</td>\n",
       "      <td>592</td>\n",
       "      <td>dark hero</td>\n",
       "      <td>1368150078</td>\n",
       "    </tr>\n",
       "  </tbody>\n",
       "</table>\n",
       "</div>"
      ],
      "text/plain": [
       "   userId  movieId            tag   timestamp\n",
       "0      18     4141    Mark Waters  1240597180\n",
       "1      65      208      dark hero  1368150078\n",
       "2      65      353      dark hero  1368150079\n",
       "3      65      521  noir thriller  1368149983\n",
       "4      65      592      dark hero  1368150078"
      ]
     },
     "execution_count": 4,
     "metadata": {},
     "output_type": "execute_result"
    }
   ],
   "source": [
    "#see the data \n",
    "df_tags.head()"
   ]
  },
  {
   "cell_type": "code",
   "execution_count": 5,
   "metadata": {
    "colab": {
     "base_uri": "https://localhost:8080/"
    },
    "executionInfo": {
     "elapsed": 5,
     "status": "ok",
     "timestamp": 1675262141674,
     "user": {
      "displayName": "Athoy Nilima",
      "userId": "04626793317912241226"
     },
     "user_tz": -60
    },
    "id": "ogbZQBhDA5Zr",
    "outputId": "7423d13a-8ba0-4d11-beab-27631e3dbc93"
   },
   "outputs": [
    {
     "name": "stdout",
     "output_type": "stream",
     "text": [
      "<class 'pandas.core.frame.DataFrame'>\n",
      "RangeIndex: 465564 entries, 0 to 465563\n",
      "Data columns (total 4 columns):\n",
      " #   Column     Non-Null Count   Dtype \n",
      "---  ------     --------------   ----- \n",
      " 0   userId     465564 non-null  int64 \n",
      " 1   movieId    465564 non-null  int64 \n",
      " 2   tag        465548 non-null  object\n",
      " 3   timestamp  465564 non-null  int64 \n",
      "dtypes: int64(3), object(1)\n",
      "memory usage: 14.2+ MB\n"
     ]
    }
   ],
   "source": [
    "df_tags.info()"
   ]
  },
  {
   "cell_type": "code",
   "execution_count": 6,
   "metadata": {
    "colab": {
     "base_uri": "https://localhost:8080/"
    },
    "executionInfo": {
     "elapsed": 5,
     "status": "ok",
     "timestamp": 1675262142545,
     "user": {
      "displayName": "Athoy Nilima",
      "userId": "04626793317912241226"
     },
     "user_tz": -60
    },
    "id": "XBKtAH8GA6WE",
    "outputId": "94e67a5d-3cc6-4cac-e448-743d2576fb64"
   },
   "outputs": [
    {
     "data": {
      "text/plain": [
       "Index(['userId', 'movieId', 'tag', 'timestamp'], dtype='object')"
      ]
     },
     "execution_count": 6,
     "metadata": {},
     "output_type": "execute_result"
    }
   ],
   "source": [
    "df_tags.columns"
   ]
  },
  {
   "cell_type": "code",
   "execution_count": 7,
   "metadata": {
    "colab": {
     "base_uri": "https://localhost:8080/"
    },
    "executionInfo": {
     "elapsed": 6,
     "status": "ok",
     "timestamp": 1675262143819,
     "user": {
      "displayName": "Athoy Nilima",
      "userId": "04626793317912241226"
     },
     "user_tz": -60
    },
    "id": "D4TmYjQ7BHC4",
    "outputId": "e7cb3570-b9e6-4757-8508-f8ebcb6accea"
   },
   "outputs": [
    {
     "data": {
      "text/plain": [
       "array(['Mark Waters', 'dark hero', 'noir thriller', ..., 'circle k',\n",
       "       'This movie should have been called \"How Cocaine Ruined Disney\"',\n",
       "       'topless scene'], dtype=object)"
      ]
     },
     "execution_count": 7,
     "metadata": {},
     "output_type": "execute_result"
    }
   ],
   "source": [
    "# However, one movie can have multiple tags, separated by commas\n",
    "# Here, Each tag is typically a single word or short phrase. The meaning, value, and purpose of a particular tag is determined by each user.\n",
    "# Still, check\n",
    "df_tags.tag.unique()\n",
    "\n",
    "#I hope each movie has only one tag"
   ]
  },
  {
   "cell_type": "code",
   "execution_count": 8,
   "metadata": {
    "id": "wGRu_r58CEp-"
   },
   "outputs": [],
   "source": [
    "#df_genome_and_tag=df_tags.merge(df_genome,on=\"tag\",how=\"outer\")\n",
    "\n",
    "#df_genome_and_tag.head()\n",
    "\n"
   ]
  },
  {
   "cell_type": "markdown",
   "metadata": {
    "id": "ZvvnHwhoCA3w"
   },
   "source": [
    "If you try to Merge with Genome df, session might crash\n",
    "\n"
   ]
  },
  {
   "cell_type": "markdown",
   "metadata": {
    "id": "0qwPT_iOnVxe"
   },
   "source": [
    "##Check Data: ratings"
   ]
  },
  {
   "cell_type": "code",
   "execution_count": 9,
   "metadata": {
    "colab": {
     "base_uri": "https://localhost:8080/",
     "height": 221
    },
    "executionInfo": {
     "elapsed": 1187,
     "status": "ok",
     "timestamp": 1675262148188,
     "user": {
      "displayName": "Athoy Nilima",
      "userId": "04626793317912241226"
     },
     "user_tz": -60
    },
    "id": "WnP5gHtFnZbr",
    "outputId": "0b22290f-2a2a-4cb7-bfa2-0b660ec50198"
   },
   "outputs": [
    {
     "data": {
      "text/html": [
       "<div>\n",
       "<style scoped>\n",
       "    .dataframe tbody tr th:only-of-type {\n",
       "        vertical-align: middle;\n",
       "    }\n",
       "\n",
       "    .dataframe tbody tr th {\n",
       "        vertical-align: top;\n",
       "    }\n",
       "\n",
       "    .dataframe thead th {\n",
       "        text-align: right;\n",
       "    }\n",
       "</style>\n",
       "<table border=\"1\" class=\"dataframe\">\n",
       "  <thead>\n",
       "    <tr style=\"text-align: right;\">\n",
       "      <th></th>\n",
       "      <th>userId</th>\n",
       "      <th>movieId</th>\n",
       "      <th>rating</th>\n",
       "      <th>timestamp</th>\n",
       "    </tr>\n",
       "  </thead>\n",
       "  <tbody>\n",
       "    <tr>\n",
       "      <th>0</th>\n",
       "      <td>1</td>\n",
       "      <td>2</td>\n",
       "      <td>3.5</td>\n",
       "      <td>1112486027</td>\n",
       "    </tr>\n",
       "    <tr>\n",
       "      <th>1</th>\n",
       "      <td>1</td>\n",
       "      <td>29</td>\n",
       "      <td>3.5</td>\n",
       "      <td>1112484676</td>\n",
       "    </tr>\n",
       "    <tr>\n",
       "      <th>2</th>\n",
       "      <td>1</td>\n",
       "      <td>32</td>\n",
       "      <td>3.5</td>\n",
       "      <td>1112484819</td>\n",
       "    </tr>\n",
       "    <tr>\n",
       "      <th>3</th>\n",
       "      <td>1</td>\n",
       "      <td>47</td>\n",
       "      <td>3.5</td>\n",
       "      <td>1112484727</td>\n",
       "    </tr>\n",
       "    <tr>\n",
       "      <th>4</th>\n",
       "      <td>1</td>\n",
       "      <td>50</td>\n",
       "      <td>3.5</td>\n",
       "      <td>1112484580</td>\n",
       "    </tr>\n",
       "  </tbody>\n",
       "</table>\n",
       "</div>"
      ],
      "text/plain": [
       "   userId  movieId  rating   timestamp\n",
       "0       1        2     3.5  1112486027\n",
       "1       1       29     3.5  1112484676\n",
       "2       1       32     3.5  1112484819\n",
       "3       1       47     3.5  1112484727\n",
       "4       1       50     3.5  1112484580"
      ]
     },
     "execution_count": 9,
     "metadata": {},
     "output_type": "execute_result"
    }
   ],
   "source": [
    "df_ratings.head()"
   ]
  },
  {
   "cell_type": "code",
   "execution_count": 10,
   "metadata": {
    "colab": {
     "base_uri": "https://localhost:8080/"
    },
    "executionInfo": {
     "elapsed": 7,
     "status": "ok",
     "timestamp": 1675262149000,
     "user": {
      "displayName": "Athoy Nilima",
      "userId": "04626793317912241226"
     },
     "user_tz": -60
    },
    "id": "Pm0Crb-2ncCh",
    "outputId": "6baec31b-355b-431c-ae8e-17130bfda2c3"
   },
   "outputs": [
    {
     "name": "stdout",
     "output_type": "stream",
     "text": [
      "<class 'pandas.core.frame.DataFrame'>\n",
      "RangeIndex: 20000263 entries, 0 to 20000262\n",
      "Data columns (total 4 columns):\n",
      " #   Column     Dtype  \n",
      "---  ------     -----  \n",
      " 0   userId     int64  \n",
      " 1   movieId    int64  \n",
      " 2   rating     float64\n",
      " 3   timestamp  int64  \n",
      "dtypes: float64(1), int64(3)\n",
      "memory usage: 610.4 MB\n"
     ]
    }
   ],
   "source": [
    "df_ratings.info()"
   ]
  },
  {
   "cell_type": "code",
   "execution_count": 11,
   "metadata": {
    "colab": {
     "base_uri": "https://localhost:8080/"
    },
    "executionInfo": {
     "elapsed": 5,
     "status": "ok",
     "timestamp": 1675262153007,
     "user": {
      "displayName": "Athoy Nilima",
      "userId": "04626793317912241226"
     },
     "user_tz": -60
    },
    "id": "KfR5dbmsFPxp",
    "outputId": "40e58b0c-51e3-4af4-b256-1c12d1385e49"
   },
   "outputs": [
    {
     "data": {
      "text/plain": [
       "Index(['userId', 'movieId', 'rating', 'timestamp'], dtype='object')"
      ]
     },
     "execution_count": 11,
     "metadata": {},
     "output_type": "execute_result"
    }
   ],
   "source": [
    "df_ratings.columns"
   ]
  },
  {
   "cell_type": "markdown",
   "metadata": {
    "id": "iTxZQNOjVegr"
   },
   "source": [
    "## Merge"
   ]
  },
  {
   "cell_type": "code",
   "execution_count": 12,
   "metadata": {
    "colab": {
     "base_uri": "https://localhost:8080/",
     "height": 248
    },
    "executionInfo": {
     "elapsed": 10,
     "status": "error",
     "timestamp": 1675262206146,
     "user": {
      "displayName": "Athoy Nilima",
      "userId": "04626793317912241226"
     },
     "user_tz": -60
    },
    "id": "Lpwc2QzgVoQ0",
    "outputId": "08261bb5-6b70-4bbd-92a6-4dc7c70589b4"
   },
   "outputs": [
    {
     "data": {
      "text/html": [
       "<div>\n",
       "<style scoped>\n",
       "    .dataframe tbody tr th:only-of-type {\n",
       "        vertical-align: middle;\n",
       "    }\n",
       "\n",
       "    .dataframe tbody tr th {\n",
       "        vertical-align: top;\n",
       "    }\n",
       "\n",
       "    .dataframe thead th {\n",
       "        text-align: right;\n",
       "    }\n",
       "</style>\n",
       "<table border=\"1\" class=\"dataframe\">\n",
       "  <thead>\n",
       "    <tr style=\"text-align: right;\">\n",
       "      <th></th>\n",
       "      <th>userId</th>\n",
       "      <th>movieId_x</th>\n",
       "      <th>tag</th>\n",
       "      <th>timestamp_x</th>\n",
       "      <th>movieId_y</th>\n",
       "      <th>rating</th>\n",
       "      <th>timestamp_y</th>\n",
       "    </tr>\n",
       "  </thead>\n",
       "  <tbody>\n",
       "    <tr>\n",
       "      <th>0</th>\n",
       "      <td>18</td>\n",
       "      <td>4141</td>\n",
       "      <td>Mark Waters</td>\n",
       "      <td>1240597180</td>\n",
       "      <td>186</td>\n",
       "      <td>4.0</td>\n",
       "      <td>1267347706</td>\n",
       "    </tr>\n",
       "    <tr>\n",
       "      <th>1</th>\n",
       "      <td>18</td>\n",
       "      <td>4141</td>\n",
       "      <td>Mark Waters</td>\n",
       "      <td>1240597180</td>\n",
       "      <td>260</td>\n",
       "      <td>1.0</td>\n",
       "      <td>1195573695</td>\n",
       "    </tr>\n",
       "    <tr>\n",
       "      <th>2</th>\n",
       "      <td>18</td>\n",
       "      <td>4141</td>\n",
       "      <td>Mark Waters</td>\n",
       "      <td>1240597180</td>\n",
       "      <td>296</td>\n",
       "      <td>4.0</td>\n",
       "      <td>1195573677</td>\n",
       "    </tr>\n",
       "    <tr>\n",
       "      <th>3</th>\n",
       "      <td>18</td>\n",
       "      <td>4141</td>\n",
       "      <td>Mark Waters</td>\n",
       "      <td>1240597180</td>\n",
       "      <td>318</td>\n",
       "      <td>4.5</td>\n",
       "      <td>1195573672</td>\n",
       "    </tr>\n",
       "    <tr>\n",
       "      <th>4</th>\n",
       "      <td>18</td>\n",
       "      <td>4141</td>\n",
       "      <td>Mark Waters</td>\n",
       "      <td>1240597180</td>\n",
       "      <td>356</td>\n",
       "      <td>4.0</td>\n",
       "      <td>1195573680</td>\n",
       "    </tr>\n",
       "  </tbody>\n",
       "</table>\n",
       "</div>"
      ],
      "text/plain": [
       "   userId  movieId_x          tag  timestamp_x  movieId_y  rating  timestamp_y\n",
       "0      18       4141  Mark Waters   1240597180        186     4.0   1267347706\n",
       "1      18       4141  Mark Waters   1240597180        260     1.0   1195573695\n",
       "2      18       4141  Mark Waters   1240597180        296     4.0   1195573677\n",
       "3      18       4141  Mark Waters   1240597180        318     4.5   1195573672\n",
       "4      18       4141  Mark Waters   1240597180        356     4.0   1195573680"
      ]
     },
     "execution_count": 12,
     "metadata": {},
     "output_type": "execute_result"
    }
   ],
   "source": [
    "# We have two dataframes with user information so far: df_tags, df_ratings\n",
    "# These dataframes have one column common: userId\n",
    "\n",
    "lists_userData=[df_tags, df_ratings]\n",
    "import functools as ft\n",
    "userData= ft.reduce(lambda left, right: pd.merge(left, right, on='userId'), lists_userData)\n",
    "\n",
    "userData.head()"
   ]
  },
  {
   "cell_type": "markdown",
   "metadata": {
    "id": "u2DgDyouZKGq"
   },
   "source": [
    "##Save data in a separate file for future correspondence"
   ]
  },
  {
   "cell_type": "code",
   "execution_count": 13,
   "metadata": {
    "id": "1JdAKCvQZKy7"
   },
   "outputs": [],
   "source": [
    "%mkdir -p ../CombinedData\n",
    "userData.to_csv(\"../CombinedData/userData_ml_20m.csv\")"
   ]
  },
  {
   "cell_type": "code",
   "execution_count": null,
   "metadata": {},
   "outputs": [],
   "source": []
  },
  {
   "cell_type": "code",
   "execution_count": null,
   "metadata": {},
   "outputs": [],
   "source": []
  }
 ],
 "metadata": {
  "colab": {
   "collapsed_sections": [
    "UT6cCp7zm3wI"
   ],
   "provenance": [
    {
     "file_id": "1aIy3xP8bzbkCOTWAf-j6Ds5NqLtRQQI1",
     "timestamp": 1675247059138
    }
   ],
   "toc_visible": true
  },
  "kernelspec": {
   "display_name": "Python 3 (ipykernel)",
   "language": "python",
   "name": "python3"
  },
  "language_info": {
   "codemirror_mode": {
    "name": "ipython",
    "version": 3
   },
   "file_extension": ".py",
   "mimetype": "text/x-python",
   "name": "python",
   "nbconvert_exporter": "python",
   "pygments_lexer": "ipython3",
   "version": "3.9.13"
  }
 },
 "nbformat": 4,
 "nbformat_minor": 1
}
