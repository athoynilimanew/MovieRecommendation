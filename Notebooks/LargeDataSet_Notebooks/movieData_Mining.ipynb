{
 "cells": [
  {
   "cell_type": "markdown",
   "metadata": {
    "id": "qIhoIRFSEfmi"
   },
   "source": [
    "<hr style=\"border-width:2px;border-color:##75DFC1\">\n",
    "<center> <h1> Project </h1> </center> <br>\n",
    "<center> <h2> Movie recommendation system  </h2> </center> <br>\n",
    "<hr style=\"border-width:2px;border-color:##75DFC1\">\n",
    "\n"
   ]
  },
  {
   "cell_type": "markdown",
   "metadata": {
    "id": "tTrF2Ux4Mpia"
   },
   "source": [
    "*Description of the Project:*\n",
    "\n",
    "Creation of a recommendation system:\n",
    "\n",
    "*   collaborative filtering application\n",
    "*   consolidation of a dataset by web scraping\n",
    "*   application of Deep Learning algorithms.\n",
    "\n",
    "Data Resources:\n",
    "\n",
    "\n",
    "*   Notes available here: https://grouplens.org/datasets/movielens/20m/\n",
    "\n",
    "* Movie info available here: https://www.imdb.com/interfaces/\n",
    "\n",
    "* Possibility to scrape imdb, senscritique, rottentomatoes, …\n",
    "\n",
    "Project Members: (alphabetically w.r.t. surnames)\n",
    "\n",
    "*  Femke Lutz\n",
    "*  Athoy Nilima\n",
    "*  Clemens Schaab\n",
    "*  Elvid Srebric\n",
    "\n",
    "\n",
    "\n",
    "\n"
   ]
  },
  {
   "cell_type": "markdown",
   "metadata": {
    "id": "4oXD7-0FLFqe"
   },
   "source": [
    "**Step 1: Data mining- Movielens**\n"
   ]
  },
  {
   "cell_type": "markdown",
   "metadata": {
    "id": "DmQ-L__bOJKX"
   },
   "source": [
    "*Data Files in this google Drive:*\n",
    "\n",
    "*Movielens data*\n",
    "\n",
    "*   Data/ml-20m/genome-scores.csv\n",
    "*   Data/ml-20m/genome-tags.csv\n",
    "*   Data/ml-20m/links.csv\n",
    "*   Data/ml-20m/movies.csv\n",
    "*   Data/ml-20m/ratings.csv\n",
    "*   Data/ml-20m/tags.csv\n",
    "\n"
   ]
  },
  {
   "cell_type": "markdown",
   "metadata": {
    "id": "UT6cCp7zm3wI"
   },
   "source": [
    "# Preliminary tasks"
   ]
  },
  {
   "cell_type": "code",
   "execution_count": 1,
   "metadata": {
    "executionInfo": {
     "elapsed": 219,
     "status": "ok",
     "timestamp": 1675261615328,
     "user": {
      "displayName": "Athoy Nilima",
      "userId": "04626793317912241226"
     },
     "user_tz": -60
    },
    "id": "0m96KgamLo1O"
   },
   "outputs": [
    {
     "data": {
      "text/plain": [
       "'/Users/Shared/Work/BootCamp/Project/MovieRecommendation/Notebooks'"
      ]
     },
     "execution_count": 1,
     "metadata": {},
     "output_type": "execute_result"
    }
   ],
   "source": [
    "#Import necessary libraries\n",
    "import pandas as pd\n",
    "import numpy as np\n",
    "import os\n",
    "%pwd"
   ]
  },
  {
   "cell_type": "code",
   "execution_count": 2,
   "metadata": {
    "colab": {
     "base_uri": "https://localhost:8080/"
    },
    "executionInfo": {
     "elapsed": 22365,
     "status": "ok",
     "timestamp": 1675261637950,
     "user": {
      "displayName": "Athoy Nilima",
      "userId": "04626793317912241226"
     },
     "user_tz": -60
    },
    "id": "xhRjNLlPhtnX",
    "outputId": "b68b1836-d384-4147-f173-fe4d4cb19510"
   },
   "outputs": [],
   "source": [
    "# For Google Collab only:\n",
    "# Define the path to file\n",
    "# First create a shortcut to the folder created by Elvid to your drive\n",
    "# Then mount google drive with the following set of commands\n",
    "\n",
    "#from google.colab import drive\n",
    "#drive.mount('/content/drive')\n",
    "#%cd /content/drive/MyDrive/DS_Bootcamp_Movie_Recommendation_System"
   ]
  },
  {
   "cell_type": "code",
   "execution_count": 3,
   "metadata": {
    "executionInfo": {
     "elapsed": 7589,
     "status": "ok",
     "timestamp": 1675261645533,
     "user": {
      "displayName": "Athoy Nilima",
      "userId": "04626793317912241226"
     },
     "user_tz": -60
    },
    "id": "T-hhTsrivMj7"
   },
   "outputs": [],
   "source": [
    "# Read Data Files into pandas dataframes\n",
    "df_genome_scores=pd.read_csv(\"../Data/ml-20m/genome-scores.csv\")\n",
    "df_genome_tags=pd.read_csv(\"../Data/ml-20m/genome-tags.csv\")\n",
    "df_links=pd.read_csv(\"../Data/ml-20m/links.csv\")\n",
    "df_movies=pd.read_csv(\"../Data/ml-20m/movies.csv\")"
   ]
  },
  {
   "cell_type": "markdown",
   "metadata": {
    "id": "r4rHUe10mmwT"
   },
   "source": [
    "#Movie Data"
   ]
  },
  {
   "cell_type": "markdown",
   "metadata": {
    "id": "W-UUGXvVR5h8"
   },
   "source": [
    "##Check Data: Tag Genome"
   ]
  },
  {
   "cell_type": "markdown",
   "metadata": {
    "id": "N4cD5EWIrII7"
   },
   "source": [
    "***Tag Genome***\n",
    "\n",
    "[genome-paper]: http://files.grouplens.org/papers/tag_genome.pdf\n",
    "\n",
    "The tag genome is a data structure that contains tag relevance scores for movies.  The structure is a dense matrix: each movie in the genome has a value for *every* tag in the genome.\n",
    "\n",
    "As described in [this article][genome-paper], the tag genome encodes how strongly movies exhibit particular properties represented by tags (atmospheric, thought-provoking, realistic, etc.). The tag genome was computed using a machine learning algorithm on user-contributed content including tags, ratings, and textual reviews.\n"
   ]
  },
  {
   "cell_type": "markdown",
   "metadata": {
    "id": "hsRAf4aMrk61"
   },
   "source": [
    "### Genome Scores\n",
    "\n",
    "The file `genome-scores.csv` contains movie-tag relevance data in the following format:\n",
    "\n",
    "    movieId,tagId,relevance\n"
   ]
  },
  {
   "cell_type": "code",
   "execution_count": 4,
   "metadata": {
    "colab": {
     "base_uri": "https://localhost:8080/",
     "height": 266
    },
    "executionInfo": {
     "elapsed": 220,
     "status": "ok",
     "timestamp": 1675261649344,
     "user": {
      "displayName": "Athoy Nilima",
      "userId": "04626793317912241226"
     },
     "user_tz": -60
    },
    "id": "CMZZdz_pms_R",
    "outputId": "63dcc87d-9e1d-4112-fac8-a41833a6c5a0"
   },
   "outputs": [
    {
     "data": {
      "text/html": [
       "<div>\n",
       "<style scoped>\n",
       "    .dataframe tbody tr th:only-of-type {\n",
       "        vertical-align: middle;\n",
       "    }\n",
       "\n",
       "    .dataframe tbody tr th {\n",
       "        vertical-align: top;\n",
       "    }\n",
       "\n",
       "    .dataframe thead th {\n",
       "        text-align: right;\n",
       "    }\n",
       "</style>\n",
       "<table border=\"1\" class=\"dataframe\">\n",
       "  <thead>\n",
       "    <tr style=\"text-align: right;\">\n",
       "      <th></th>\n",
       "      <th>movieId</th>\n",
       "      <th>tagId</th>\n",
       "      <th>relevance</th>\n",
       "    </tr>\n",
       "  </thead>\n",
       "  <tbody>\n",
       "    <tr>\n",
       "      <th>0</th>\n",
       "      <td>1</td>\n",
       "      <td>1</td>\n",
       "      <td>0.02500</td>\n",
       "    </tr>\n",
       "    <tr>\n",
       "      <th>1</th>\n",
       "      <td>1</td>\n",
       "      <td>2</td>\n",
       "      <td>0.02500</td>\n",
       "    </tr>\n",
       "    <tr>\n",
       "      <th>2</th>\n",
       "      <td>1</td>\n",
       "      <td>3</td>\n",
       "      <td>0.05775</td>\n",
       "    </tr>\n",
       "    <tr>\n",
       "      <th>3</th>\n",
       "      <td>1</td>\n",
       "      <td>4</td>\n",
       "      <td>0.09675</td>\n",
       "    </tr>\n",
       "    <tr>\n",
       "      <th>4</th>\n",
       "      <td>1</td>\n",
       "      <td>5</td>\n",
       "      <td>0.14675</td>\n",
       "    </tr>\n",
       "  </tbody>\n",
       "</table>\n",
       "</div>"
      ],
      "text/plain": [
       "   movieId  tagId  relevance\n",
       "0        1      1    0.02500\n",
       "1        1      2    0.02500\n",
       "2        1      3    0.05775\n",
       "3        1      4    0.09675\n",
       "4        1      5    0.14675"
      ]
     },
     "execution_count": 4,
     "metadata": {},
     "output_type": "execute_result"
    }
   ],
   "source": [
    "# Check the data- head method\n",
    "df_genome_scores.head()"
   ]
  },
  {
   "cell_type": "code",
   "execution_count": 5,
   "metadata": {
    "colab": {
     "base_uri": "https://localhost:8080/"
    },
    "executionInfo": {
     "elapsed": 5,
     "status": "ok",
     "timestamp": 1675261649579,
     "user": {
      "displayName": "Athoy Nilima",
      "userId": "04626793317912241226"
     },
     "user_tz": -60
    },
    "id": "6820DqQfp9k6",
    "outputId": "39627897-e11e-4ed9-b563-fe5a221fca2c"
   },
   "outputs": [
    {
     "name": "stdout",
     "output_type": "stream",
     "text": [
      "<class 'pandas.core.frame.DataFrame'>\n",
      "RangeIndex: 11709768 entries, 0 to 11709767\n",
      "Data columns (total 3 columns):\n",
      " #   Column     Dtype  \n",
      "---  ------     -----  \n",
      " 0   movieId    int64  \n",
      " 1   tagId      int64  \n",
      " 2   relevance  float64\n",
      "dtypes: float64(1), int64(2)\n",
      "memory usage: 268.0 MB\n"
     ]
    }
   ],
   "source": [
    "# Check the data- info\n",
    "df_genome_scores.info()"
   ]
  },
  {
   "cell_type": "markdown",
   "metadata": {
    "id": "98_3DocNnFdj"
   },
   "source": [
    "###Genome tags\n",
    "`genome-tags.csv`, provides the tag descriptions for the tag IDs in the genome file, in the following format:\n",
    "\n",
    "    tagId,tag\n",
    "\n",
    "The `tagId` values are generated when the data set is exported, so they may vary from version to version of the MovieLens data sets."
   ]
  },
  {
   "cell_type": "code",
   "execution_count": 6,
   "metadata": {
    "colab": {
     "base_uri": "https://localhost:8080/",
     "height": 299
    },
    "executionInfo": {
     "elapsed": 461,
     "status": "ok",
     "timestamp": 1675261650037,
     "user": {
      "displayName": "Athoy Nilima",
      "userId": "04626793317912241226"
     },
     "user_tz": -60
    },
    "id": "1qndO5CwnOdA",
    "outputId": "bdb61de8-c95c-4010-d079-32fbb68007d6"
   },
   "outputs": [
    {
     "data": {
      "text/html": [
       "<div>\n",
       "<style scoped>\n",
       "    .dataframe tbody tr th:only-of-type {\n",
       "        vertical-align: middle;\n",
       "    }\n",
       "\n",
       "    .dataframe tbody tr th {\n",
       "        vertical-align: top;\n",
       "    }\n",
       "\n",
       "    .dataframe thead th {\n",
       "        text-align: right;\n",
       "    }\n",
       "</style>\n",
       "<table border=\"1\" class=\"dataframe\">\n",
       "  <thead>\n",
       "    <tr style=\"text-align: right;\">\n",
       "      <th></th>\n",
       "      <th>tagId</th>\n",
       "      <th>tag</th>\n",
       "    </tr>\n",
       "  </thead>\n",
       "  <tbody>\n",
       "    <tr>\n",
       "      <th>0</th>\n",
       "      <td>1</td>\n",
       "      <td>007</td>\n",
       "    </tr>\n",
       "    <tr>\n",
       "      <th>1</th>\n",
       "      <td>2</td>\n",
       "      <td>007 (series)</td>\n",
       "    </tr>\n",
       "    <tr>\n",
       "      <th>2</th>\n",
       "      <td>3</td>\n",
       "      <td>18th century</td>\n",
       "    </tr>\n",
       "    <tr>\n",
       "      <th>3</th>\n",
       "      <td>4</td>\n",
       "      <td>1920s</td>\n",
       "    </tr>\n",
       "    <tr>\n",
       "      <th>4</th>\n",
       "      <td>5</td>\n",
       "      <td>1930s</td>\n",
       "    </tr>\n",
       "  </tbody>\n",
       "</table>\n",
       "</div>"
      ],
      "text/plain": [
       "   tagId           tag\n",
       "0      1           007\n",
       "1      2  007 (series)\n",
       "2      3  18th century\n",
       "3      4         1920s\n",
       "4      5         1930s"
      ]
     },
     "execution_count": 6,
     "metadata": {},
     "output_type": "execute_result"
    }
   ],
   "source": [
    "# Check the data- head method\n",
    "df_genome_tags.head()"
   ]
  },
  {
   "cell_type": "code",
   "execution_count": 7,
   "metadata": {
    "colab": {
     "base_uri": "https://localhost:8080/"
    },
    "executionInfo": {
     "elapsed": 12,
     "status": "ok",
     "timestamp": 1675261650038,
     "user": {
      "displayName": "Athoy Nilima",
      "userId": "04626793317912241226"
     },
     "user_tz": -60
    },
    "id": "-5frfdhts1gK",
    "outputId": "fb2ac11b-ae15-4b47-fed5-f7db60eb554c"
   },
   "outputs": [
    {
     "name": "stdout",
     "output_type": "stream",
     "text": [
      "<class 'pandas.core.frame.DataFrame'>\n",
      "RangeIndex: 1128 entries, 0 to 1127\n",
      "Data columns (total 2 columns):\n",
      " #   Column  Non-Null Count  Dtype \n",
      "---  ------  --------------  ----- \n",
      " 0   tagId   1128 non-null   int64 \n",
      " 1   tag     1128 non-null   object\n",
      "dtypes: int64(1), object(1)\n",
      "memory usage: 17.8+ KB\n"
     ]
    }
   ],
   "source": [
    "# Check the data- info\n",
    "df_genome_tags.info()"
   ]
  },
  {
   "cell_type": "markdown",
   "metadata": {
    "id": "FliuMWbutVy_"
   },
   "source": [
    "###Merging these two data sets for a complete Genome data file"
   ]
  },
  {
   "cell_type": "code",
   "execution_count": 8,
   "metadata": {
    "colab": {
     "base_uri": "https://localhost:8080/",
     "height": 266
    },
    "executionInfo": {
     "elapsed": 1867,
     "status": "ok",
     "timestamp": 1675261651898,
     "user": {
      "displayName": "Athoy Nilima",
      "userId": "04626793317912241226"
     },
     "user_tz": -60
    },
    "id": "-XftwVRnte_c",
    "outputId": "92a8f721-3465-4c89-84d6-9a34e07649a5"
   },
   "outputs": [
    {
     "data": {
      "text/html": [
       "<div>\n",
       "<style scoped>\n",
       "    .dataframe tbody tr th:only-of-type {\n",
       "        vertical-align: middle;\n",
       "    }\n",
       "\n",
       "    .dataframe tbody tr th {\n",
       "        vertical-align: top;\n",
       "    }\n",
       "\n",
       "    .dataframe thead th {\n",
       "        text-align: right;\n",
       "    }\n",
       "</style>\n",
       "<table border=\"1\" class=\"dataframe\">\n",
       "  <thead>\n",
       "    <tr style=\"text-align: right;\">\n",
       "      <th></th>\n",
       "      <th>movieId</th>\n",
       "      <th>tagId</th>\n",
       "      <th>relevance</th>\n",
       "      <th>tag</th>\n",
       "    </tr>\n",
       "  </thead>\n",
       "  <tbody>\n",
       "    <tr>\n",
       "      <th>0</th>\n",
       "      <td>1</td>\n",
       "      <td>1</td>\n",
       "      <td>0.02500</td>\n",
       "      <td>007</td>\n",
       "    </tr>\n",
       "    <tr>\n",
       "      <th>1</th>\n",
       "      <td>2</td>\n",
       "      <td>1</td>\n",
       "      <td>0.03975</td>\n",
       "      <td>007</td>\n",
       "    </tr>\n",
       "    <tr>\n",
       "      <th>2</th>\n",
       "      <td>3</td>\n",
       "      <td>1</td>\n",
       "      <td>0.04350</td>\n",
       "      <td>007</td>\n",
       "    </tr>\n",
       "    <tr>\n",
       "      <th>3</th>\n",
       "      <td>4</td>\n",
       "      <td>1</td>\n",
       "      <td>0.03725</td>\n",
       "      <td>007</td>\n",
       "    </tr>\n",
       "    <tr>\n",
       "      <th>4</th>\n",
       "      <td>5</td>\n",
       "      <td>1</td>\n",
       "      <td>0.04200</td>\n",
       "      <td>007</td>\n",
       "    </tr>\n",
       "  </tbody>\n",
       "</table>\n",
       "</div>"
      ],
      "text/plain": [
       "   movieId  tagId  relevance  tag\n",
       "0        1      1    0.02500  007\n",
       "1        2      1    0.03975  007\n",
       "2        3      1    0.04350  007\n",
       "3        4      1    0.03725  007\n",
       "4        5      1    0.04200  007"
      ]
     },
     "execution_count": 8,
     "metadata": {},
     "output_type": "execute_result"
    }
   ],
   "source": [
    "# Merge dataframes\n",
    "df_genome=df_genome_scores.merge(df_genome_tags,on=\"tagId\",how=\"outer\")\n",
    "\n",
    "df_genome.head()"
   ]
  },
  {
   "cell_type": "code",
   "execution_count": 9,
   "metadata": {
    "colab": {
     "base_uri": "https://localhost:8080/"
    },
    "executionInfo": {
     "elapsed": 21,
     "status": "ok",
     "timestamp": 1675261651899,
     "user": {
      "displayName": "Athoy Nilima",
      "userId": "04626793317912241226"
     },
     "user_tz": -60
    },
    "id": "Hul9i5VSvedX",
    "outputId": "98ececee-f291-4f85-c53c-a62b9af48f77"
   },
   "outputs": [
    {
     "name": "stdout",
     "output_type": "stream",
     "text": [
      "<class 'pandas.core.frame.DataFrame'>\n",
      "Int64Index: 11709768 entries, 0 to 11709767\n",
      "Data columns (total 4 columns):\n",
      " #   Column     Dtype  \n",
      "---  ------     -----  \n",
      " 0   movieId    int64  \n",
      " 1   tagId      int64  \n",
      " 2   relevance  float64\n",
      " 3   tag        object \n",
      "dtypes: float64(1), int64(2), object(1)\n",
      "memory usage: 446.7+ MB\n"
     ]
    }
   ],
   "source": [
    "df_genome.info()"
   ]
  },
  {
   "cell_type": "code",
   "execution_count": 10,
   "metadata": {
    "colab": {
     "base_uri": "https://localhost:8080/"
    },
    "executionInfo": {
     "elapsed": 17,
     "status": "ok",
     "timestamp": 1675261651899,
     "user": {
      "displayName": "Athoy Nilima",
      "userId": "04626793317912241226"
     },
     "user_tz": -60
    },
    "id": "QkzvgfXAvduH",
    "outputId": "7bbe1278-cef6-4035-d212-c6b7a692bb98"
   },
   "outputs": [
    {
     "data": {
      "text/plain": [
       "Index(['movieId', 'tagId', 'relevance', 'tag'], dtype='object')"
      ]
     },
     "execution_count": 10,
     "metadata": {},
     "output_type": "execute_result"
    }
   ],
   "source": [
    "df_genome.columns"
   ]
  },
  {
   "cell_type": "markdown",
   "metadata": {
    "id": "yIlCmIEenSYi"
   },
   "source": [
    "##Check Data:  Movies\n"
   ]
  },
  {
   "cell_type": "code",
   "execution_count": 11,
   "metadata": {
    "colab": {
     "base_uri": "https://localhost:8080/",
     "height": 431
    },
    "executionInfo": {
     "elapsed": 16,
     "status": "ok",
     "timestamp": 1675261651899,
     "user": {
      "displayName": "Athoy Nilima",
      "userId": "04626793317912241226"
     },
     "user_tz": -60
    },
    "id": "fxAI5E5PnVZv",
    "outputId": "b4d8b771-7292-4737-eb55-e4a116c04874"
   },
   "outputs": [
    {
     "data": {
      "text/html": [
       "<div>\n",
       "<style scoped>\n",
       "    .dataframe tbody tr th:only-of-type {\n",
       "        vertical-align: middle;\n",
       "    }\n",
       "\n",
       "    .dataframe tbody tr th {\n",
       "        vertical-align: top;\n",
       "    }\n",
       "\n",
       "    .dataframe thead th {\n",
       "        text-align: right;\n",
       "    }\n",
       "</style>\n",
       "<table border=\"1\" class=\"dataframe\">\n",
       "  <thead>\n",
       "    <tr style=\"text-align: right;\">\n",
       "      <th></th>\n",
       "      <th>movieId</th>\n",
       "      <th>title</th>\n",
       "      <th>genres</th>\n",
       "    </tr>\n",
       "  </thead>\n",
       "  <tbody>\n",
       "    <tr>\n",
       "      <th>0</th>\n",
       "      <td>1</td>\n",
       "      <td>Toy Story (1995)</td>\n",
       "      <td>Adventure|Animation|Children|Comedy|Fantasy</td>\n",
       "    </tr>\n",
       "    <tr>\n",
       "      <th>1</th>\n",
       "      <td>2</td>\n",
       "      <td>Jumanji (1995)</td>\n",
       "      <td>Adventure|Children|Fantasy</td>\n",
       "    </tr>\n",
       "    <tr>\n",
       "      <th>2</th>\n",
       "      <td>3</td>\n",
       "      <td>Grumpier Old Men (1995)</td>\n",
       "      <td>Comedy|Romance</td>\n",
       "    </tr>\n",
       "    <tr>\n",
       "      <th>3</th>\n",
       "      <td>4</td>\n",
       "      <td>Waiting to Exhale (1995)</td>\n",
       "      <td>Comedy|Drama|Romance</td>\n",
       "    </tr>\n",
       "    <tr>\n",
       "      <th>4</th>\n",
       "      <td>5</td>\n",
       "      <td>Father of the Bride Part II (1995)</td>\n",
       "      <td>Comedy</td>\n",
       "    </tr>\n",
       "  </tbody>\n",
       "</table>\n",
       "</div>"
      ],
      "text/plain": [
       "   movieId                               title  \\\n",
       "0        1                    Toy Story (1995)   \n",
       "1        2                      Jumanji (1995)   \n",
       "2        3             Grumpier Old Men (1995)   \n",
       "3        4            Waiting to Exhale (1995)   \n",
       "4        5  Father of the Bride Part II (1995)   \n",
       "\n",
       "                                        genres  \n",
       "0  Adventure|Animation|Children|Comedy|Fantasy  \n",
       "1                   Adventure|Children|Fantasy  \n",
       "2                               Comedy|Romance  \n",
       "3                         Comedy|Drama|Romance  \n",
       "4                                       Comedy  "
      ]
     },
     "execution_count": 11,
     "metadata": {},
     "output_type": "execute_result"
    }
   ],
   "source": [
    "df_movies.head()"
   ]
  },
  {
   "cell_type": "code",
   "execution_count": 12,
   "metadata": {
    "colab": {
     "base_uri": "https://localhost:8080/"
    },
    "executionInfo": {
     "elapsed": 15,
     "status": "ok",
     "timestamp": 1675261651899,
     "user": {
      "displayName": "Athoy Nilima",
      "userId": "04626793317912241226"
     },
     "user_tz": -60
    },
    "id": "mPnAV1YSnXpz",
    "outputId": "abaa2ad9-992f-45fa-fbdf-36963f81fdfa"
   },
   "outputs": [
    {
     "name": "stdout",
     "output_type": "stream",
     "text": [
      "<class 'pandas.core.frame.DataFrame'>\n",
      "RangeIndex: 27278 entries, 0 to 27277\n",
      "Data columns (total 3 columns):\n",
      " #   Column   Non-Null Count  Dtype \n",
      "---  ------   --------------  ----- \n",
      " 0   movieId  27278 non-null  int64 \n",
      " 1   title    27278 non-null  object\n",
      " 2   genres   27278 non-null  object\n",
      "dtypes: int64(1), object(2)\n",
      "memory usage: 639.5+ KB\n"
     ]
    }
   ],
   "source": [
    "df_movies.info()"
   ]
  },
  {
   "cell_type": "code",
   "execution_count": 13,
   "metadata": {
    "colab": {
     "base_uri": "https://localhost:8080/"
    },
    "executionInfo": {
     "elapsed": 15,
     "status": "ok",
     "timestamp": 1675261651900,
     "user": {
      "displayName": "Athoy Nilima",
      "userId": "04626793317912241226"
     },
     "user_tz": -60
    },
    "id": "HuwvasrGAOE7",
    "outputId": "ead10b42-0019-4447-cd4d-0e43bf46809d"
   },
   "outputs": [
    {
     "data": {
      "text/plain": [
       "Index(['movieId', 'title', 'genres'], dtype='object')"
      ]
     },
     "execution_count": 13,
     "metadata": {},
     "output_type": "execute_result"
    }
   ],
   "source": [
    "df_movies.columns"
   ]
  },
  {
   "cell_type": "code",
   "execution_count": null,
   "metadata": {
    "executionInfo": {
     "elapsed": 14,
     "status": "ok",
     "timestamp": 1675261651900,
     "user": {
      "displayName": "Athoy Nilima",
      "userId": "04626793317912241226"
     },
     "user_tz": -60
    },
    "id": "ryRKG6pKSsI_"
   },
   "outputs": [],
   "source": []
  },
  {
   "cell_type": "markdown",
   "metadata": {
    "id": "VRTBFkqynOuE"
   },
   "source": [
    "\n",
    "##Check Data: Links"
   ]
  },
  {
   "cell_type": "code",
   "execution_count": 14,
   "metadata": {
    "colab": {
     "base_uri": "https://localhost:8080/",
     "height": 266
    },
    "executionInfo": {
     "elapsed": 13,
     "status": "ok",
     "timestamp": 1675261651900,
     "user": {
      "displayName": "Athoy Nilima",
      "userId": "04626793317912241226"
     },
     "user_tz": -60
    },
    "id": "G8dt2P8mnR_u",
    "outputId": "f472f076-0174-4cfd-8884-dc5752255c3b"
   },
   "outputs": [
    {
     "data": {
      "text/html": [
       "<div>\n",
       "<style scoped>\n",
       "    .dataframe tbody tr th:only-of-type {\n",
       "        vertical-align: middle;\n",
       "    }\n",
       "\n",
       "    .dataframe tbody tr th {\n",
       "        vertical-align: top;\n",
       "    }\n",
       "\n",
       "    .dataframe thead th {\n",
       "        text-align: right;\n",
       "    }\n",
       "</style>\n",
       "<table border=\"1\" class=\"dataframe\">\n",
       "  <thead>\n",
       "    <tr style=\"text-align: right;\">\n",
       "      <th></th>\n",
       "      <th>movieId</th>\n",
       "      <th>imdbId</th>\n",
       "      <th>tmdbId</th>\n",
       "    </tr>\n",
       "  </thead>\n",
       "  <tbody>\n",
       "    <tr>\n",
       "      <th>0</th>\n",
       "      <td>1</td>\n",
       "      <td>114709</td>\n",
       "      <td>862.0</td>\n",
       "    </tr>\n",
       "    <tr>\n",
       "      <th>1</th>\n",
       "      <td>2</td>\n",
       "      <td>113497</td>\n",
       "      <td>8844.0</td>\n",
       "    </tr>\n",
       "    <tr>\n",
       "      <th>2</th>\n",
       "      <td>3</td>\n",
       "      <td>113228</td>\n",
       "      <td>15602.0</td>\n",
       "    </tr>\n",
       "    <tr>\n",
       "      <th>3</th>\n",
       "      <td>4</td>\n",
       "      <td>114885</td>\n",
       "      <td>31357.0</td>\n",
       "    </tr>\n",
       "    <tr>\n",
       "      <th>4</th>\n",
       "      <td>5</td>\n",
       "      <td>113041</td>\n",
       "      <td>11862.0</td>\n",
       "    </tr>\n",
       "  </tbody>\n",
       "</table>\n",
       "</div>"
      ],
      "text/plain": [
       "   movieId  imdbId   tmdbId\n",
       "0        1  114709    862.0\n",
       "1        2  113497   8844.0\n",
       "2        3  113228  15602.0\n",
       "3        4  114885  31357.0\n",
       "4        5  113041  11862.0"
      ]
     },
     "execution_count": 14,
     "metadata": {},
     "output_type": "execute_result"
    }
   ],
   "source": [
    "# Check the data- head method\n",
    "df_links.head()"
   ]
  },
  {
   "cell_type": "code",
   "execution_count": 15,
   "metadata": {
    "colab": {
     "base_uri": "https://localhost:8080/"
    },
    "executionInfo": {
     "elapsed": 13,
     "status": "ok",
     "timestamp": 1675261651901,
     "user": {
      "displayName": "Athoy Nilima",
      "userId": "04626793317912241226"
     },
     "user_tz": -60
    },
    "id": "0xtc4xXv-ztO",
    "outputId": "0d3156e2-dda5-4566-f684-7eb46ccf6bb4"
   },
   "outputs": [
    {
     "name": "stdout",
     "output_type": "stream",
     "text": [
      "<class 'pandas.core.frame.DataFrame'>\n",
      "RangeIndex: 27278 entries, 0 to 27277\n",
      "Data columns (total 3 columns):\n",
      " #   Column   Non-Null Count  Dtype  \n",
      "---  ------   --------------  -----  \n",
      " 0   movieId  27278 non-null  int64  \n",
      " 1   imdbId   27278 non-null  int64  \n",
      " 2   tmdbId   27026 non-null  float64\n",
      "dtypes: float64(1), int64(2)\n",
      "memory usage: 639.5 KB\n"
     ]
    }
   ],
   "source": [
    "#info\n",
    "df_links.info()"
   ]
  },
  {
   "cell_type": "code",
   "execution_count": 16,
   "metadata": {
    "colab": {
     "base_uri": "https://localhost:8080/"
    },
    "executionInfo": {
     "elapsed": 12,
     "status": "ok",
     "timestamp": 1675261651901,
     "user": {
      "displayName": "Athoy Nilima",
      "userId": "04626793317912241226"
     },
     "user_tz": -60
    },
    "id": "bUPNIE-v_Jiw",
    "outputId": "19d34719-6d85-4994-d1a4-e6ec245e6f44"
   },
   "outputs": [
    {
     "name": "stdout",
     "output_type": "stream",
     "text": [
      "<class 'pandas.core.frame.DataFrame'>\n",
      "RangeIndex: 27278 entries, 0 to 27277\n",
      "Data columns (total 3 columns):\n",
      " #   Column   Non-Null Count  Dtype  \n",
      "---  ------   --------------  -----  \n",
      " 0   movieId  27278 non-null  int64  \n",
      " 1   imdbId   27278 non-null  int64  \n",
      " 2   tmdbId   27026 non-null  float64\n",
      "dtypes: float64(1), int64(2)\n",
      "memory usage: 639.5 KB\n"
     ]
    }
   ],
   "source": [
    "#columns\n",
    "df_links.info()"
   ]
  },
  {
   "cell_type": "markdown",
   "metadata": {
    "id": "h8QIiLQb_oyI"
   },
   "source": [
    "** Merging this file with previous ones would be based on the \n",
    "movieID column**"
   ]
  },
  {
   "cell_type": "markdown",
   "metadata": {
    "id": "YHDxWXpDSssf"
   },
   "source": [
    "##Merge"
   ]
  },
  {
   "cell_type": "code",
   "execution_count": 17,
   "metadata": {
    "colab": {
     "base_uri": "https://localhost:8080/",
     "height": 431
    },
    "executionInfo": {
     "elapsed": 3611,
     "status": "ok",
     "timestamp": 1675261655501,
     "user": {
      "displayName": "Athoy Nilima",
      "userId": "04626793317912241226"
     },
     "user_tz": -60
    },
    "id": "F8DWWtToFPGq",
    "outputId": "088b6025-f910-420a-97e8-1ba628599c1b",
    "scrolled": true
   },
   "outputs": [
    {
     "data": {
      "text/html": [
       "<div>\n",
       "<style scoped>\n",
       "    .dataframe tbody tr th:only-of-type {\n",
       "        vertical-align: middle;\n",
       "    }\n",
       "\n",
       "    .dataframe tbody tr th {\n",
       "        vertical-align: top;\n",
       "    }\n",
       "\n",
       "    .dataframe thead th {\n",
       "        text-align: right;\n",
       "    }\n",
       "</style>\n",
       "<table border=\"1\" class=\"dataframe\">\n",
       "  <thead>\n",
       "    <tr style=\"text-align: right;\">\n",
       "      <th></th>\n",
       "      <th>movieId</th>\n",
       "      <th>tagId</th>\n",
       "      <th>relevance</th>\n",
       "      <th>tag</th>\n",
       "      <th>title</th>\n",
       "      <th>genres</th>\n",
       "      <th>imdbId</th>\n",
       "      <th>tmdbId</th>\n",
       "    </tr>\n",
       "  </thead>\n",
       "  <tbody>\n",
       "    <tr>\n",
       "      <th>0</th>\n",
       "      <td>1</td>\n",
       "      <td>1</td>\n",
       "      <td>0.02500</td>\n",
       "      <td>007</td>\n",
       "      <td>Toy Story (1995)</td>\n",
       "      <td>Adventure|Animation|Children|Comedy|Fantasy</td>\n",
       "      <td>114709</td>\n",
       "      <td>862.0</td>\n",
       "    </tr>\n",
       "    <tr>\n",
       "      <th>1</th>\n",
       "      <td>1</td>\n",
       "      <td>2</td>\n",
       "      <td>0.02500</td>\n",
       "      <td>007 (series)</td>\n",
       "      <td>Toy Story (1995)</td>\n",
       "      <td>Adventure|Animation|Children|Comedy|Fantasy</td>\n",
       "      <td>114709</td>\n",
       "      <td>862.0</td>\n",
       "    </tr>\n",
       "    <tr>\n",
       "      <th>2</th>\n",
       "      <td>1</td>\n",
       "      <td>3</td>\n",
       "      <td>0.05775</td>\n",
       "      <td>18th century</td>\n",
       "      <td>Toy Story (1995)</td>\n",
       "      <td>Adventure|Animation|Children|Comedy|Fantasy</td>\n",
       "      <td>114709</td>\n",
       "      <td>862.0</td>\n",
       "    </tr>\n",
       "    <tr>\n",
       "      <th>3</th>\n",
       "      <td>1</td>\n",
       "      <td>4</td>\n",
       "      <td>0.09675</td>\n",
       "      <td>1920s</td>\n",
       "      <td>Toy Story (1995)</td>\n",
       "      <td>Adventure|Animation|Children|Comedy|Fantasy</td>\n",
       "      <td>114709</td>\n",
       "      <td>862.0</td>\n",
       "    </tr>\n",
       "    <tr>\n",
       "      <th>4</th>\n",
       "      <td>1</td>\n",
       "      <td>5</td>\n",
       "      <td>0.14675</td>\n",
       "      <td>1930s</td>\n",
       "      <td>Toy Story (1995)</td>\n",
       "      <td>Adventure|Animation|Children|Comedy|Fantasy</td>\n",
       "      <td>114709</td>\n",
       "      <td>862.0</td>\n",
       "    </tr>\n",
       "  </tbody>\n",
       "</table>\n",
       "</div>"
      ],
      "text/plain": [
       "   movieId  tagId  relevance           tag             title  \\\n",
       "0        1      1    0.02500           007  Toy Story (1995)   \n",
       "1        1      2    0.02500  007 (series)  Toy Story (1995)   \n",
       "2        1      3    0.05775  18th century  Toy Story (1995)   \n",
       "3        1      4    0.09675         1920s  Toy Story (1995)   \n",
       "4        1      5    0.14675         1930s  Toy Story (1995)   \n",
       "\n",
       "                                        genres  imdbId  tmdbId  \n",
       "0  Adventure|Animation|Children|Comedy|Fantasy  114709   862.0  \n",
       "1  Adventure|Animation|Children|Comedy|Fantasy  114709   862.0  \n",
       "2  Adventure|Animation|Children|Comedy|Fantasy  114709   862.0  \n",
       "3  Adventure|Animation|Children|Comedy|Fantasy  114709   862.0  \n",
       "4  Adventure|Animation|Children|Comedy|Fantasy  114709   862.0  "
      ]
     },
     "execution_count": 17,
     "metadata": {},
     "output_type": "execute_result"
    }
   ],
   "source": [
    "# We have three dataframes so far: df_genome, df_movies, df_links\n",
    "# These dataframes have one column common: movieId\n",
    "# independent of individual users\n",
    "\n",
    "lists_movieData=[df_genome, df_movies, df_links]\n",
    "import functools as ft\n",
    "movieData= ft.reduce(lambda left, right: pd.merge(left, right, on='movieId'), lists_movieData)\n",
    "\n",
    "movieData.head()"
   ]
  },
  {
   "cell_type": "markdown",
   "metadata": {
    "id": "qdIThF80XHv9"
   },
   "source": [
    "##Save data in a separate file for future correspondence\n"
   ]
  },
  {
   "cell_type": "code",
   "execution_count": 18,
   "metadata": {
    "executionInfo": {
     "elapsed": 62119,
     "status": "ok",
     "timestamp": 1675261717614,
     "user": {
      "displayName": "Athoy Nilima",
      "userId": "04626793317912241226"
     },
     "user_tz": -60
    },
    "id": "oh65efNUXRm2"
   },
   "outputs": [],
   "source": [
    "%mkdir -p \"../CombinedData\"\n",
    "movieData.to_csv(\"../CombinedData/movieData_ml_20m.csv\")"
   ]
  },
  {
   "cell_type": "code",
   "execution_count": 19,
   "metadata": {},
   "outputs": [
    {
     "data": {
      "text/plain": [
       "Index(['movieId', 'tagId', 'relevance', 'tag', 'title', 'genres', 'imdbId',\n",
       "       'tmdbId'],\n",
       "      dtype='object')"
      ]
     },
     "execution_count": 19,
     "metadata": {},
     "output_type": "execute_result"
    }
   ],
   "source": [
    "movieData.columns"
   ]
  },
  {
   "cell_type": "code",
   "execution_count": null,
   "metadata": {},
   "outputs": [],
   "source": []
  }
 ],
 "metadata": {
  "colab": {
   "collapsed_sections": [
    "UT6cCp7zm3wI"
   ],
   "provenance": [
    {
     "file_id": "1aIy3xP8bzbkCOTWAf-j6Ds5NqLtRQQI1",
     "timestamp": 1675247059138
    }
   ],
   "toc_visible": true
  },
  "kernelspec": {
   "display_name": "Python 3 (ipykernel)",
   "language": "python",
   "name": "python3"
  },
  "language_info": {
   "codemirror_mode": {
    "name": "ipython",
    "version": 3
   },
   "file_extension": ".py",
   "mimetype": "text/x-python",
   "name": "python",
   "nbconvert_exporter": "python",
   "pygments_lexer": "ipython3",
   "version": "3.9.13"
  }
 },
 "nbformat": 4,
 "nbformat_minor": 1
}
