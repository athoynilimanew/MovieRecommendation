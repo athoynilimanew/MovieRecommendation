{
 "cells": [
  {
   "cell_type": "markdown",
   "id": "7e60a64c",
   "metadata": {
    "id": "qIhoIRFSEfmi"
   },
   "source": [
    "<hr style=\"border-width:2px;border-color:##75DFC1\">\n",
    "<center> <h1> Project </h1> </center> <br>\n",
    "<center> <h2> Movie recommendation system  </h2> </center> <br>\n",
    "<hr style=\"border-width:2px;border-color:##75DFC1\">\n",
    "\n"
   ]
  },
  {
   "cell_type": "markdown",
   "id": "287e7235",
   "metadata": {},
   "source": [
    "*Description of the Project:*\n",
    "\n",
    "Creation of a recommendation system:\n",
    "\n",
    "*   collaborative filtering application\n",
    "*   consolidation of a dataset by web scraping\n",
    "*   application of Deep Learning algorithms.\n",
    "\n",
    "Data Resources:\n",
    "\n",
    "\n",
    "*   Notes available here: https://grouplens.org/datasets/movielens/20m/\n",
    "\n",
    "* Movie info available here: https://www.imdb.com/interfaces/\n",
    "\n",
    "* Possibility to scrape imdb, senscritique, rottentomatoes, …\n",
    "\n",
    "Project Members: (alphabetically w.r.t. surnames)\n",
    "\n",
    "*  Femke Lutz\n",
    "*  Athoy Nilima\n",
    "*  Clemens Schaab\n",
    "*  Elvid Srebric\n",
    "\n",
    "\n",
    "\n",
    "\n"
   ]
  },
  {
   "cell_type": "markdown",
   "id": "3ba0faa1",
   "metadata": {},
   "source": [
    "*Data Files in csv:*\n",
    "\n",
    "*Movielens data*\n",
    "\n",
    "*   Data/ml-20m/genome-scores.csv\n",
    "*   Data/ml-20m/genome-tags.csv\n",
    "*   Data/ml-20m/links.csv\n",
    "*   Data/ml-20m/movies.csv\n",
    "*   Data/ml-20m/ratings.csv\n",
    "*   Data/ml-20m/tags.csv\n",
    "\n"
   ]
  },
  {
   "cell_type": "markdown",
   "id": "99091719",
   "metadata": {},
   "source": [
    "<hr style=\"border-width:2px;border-color:##75DFC1\">\n",
    "<center> <h1> Run Only Once! </h1> </center> <br>\n",
    "<hr style=\"border-width:2px;border-color:##75DFC1\">\n",
    "\n"
   ]
  },
  {
   "cell_type": "code",
   "execution_count": 1,
   "id": "dfb9203e",
   "metadata": {},
   "outputs": [],
   "source": [
    "#Import pandas and save the names of the csv files (without the .csv extension)\n",
    "import pandas as pd\n",
    "\n",
    "df_names_list=[\"genome-scores\",\"genome-tags\",\"links\",\"movies\",\"ratings\",\"tags\"]\n",
    "\n"
   ]
  },
  {
   "cell_type": "code",
   "execution_count": 2,
   "id": "69dfadc9",
   "metadata": {},
   "outputs": [],
   "source": [
    "import sqlite3\n",
    "#Create a connection to the database ml-20m_database\n",
    "#if the db does not exist, this creates the .db file\n",
    "conn = sqlite3.connect(\"../data/ml-20m/ml-20m_database.db\") "
   ]
  },
  {
   "cell_type": "code",
   "execution_count": 3,
   "id": "ade90573",
   "metadata": {},
   "outputs": [],
   "source": [
    "#Store your pandas dataframes in the database in a loop\n",
    "\n",
    "for df_name in df_names_list:\n",
    "    csv_path=\"../Data/ml-20m/\"+df_name+\".csv\"\n",
    "    df=pd.read_csv(csv_path)\n",
    "    df.to_sql(df_name,conn)\n"
   ]
  },
  {
   "cell_type": "code",
   "execution_count": 4,
   "id": "b4598a83",
   "metadata": {},
   "outputs": [],
   "source": [
    "#done!"
   ]
  }
 ],
 "metadata": {
  "kernelspec": {
   "display_name": "Python 3 (ipykernel)",
   "language": "python",
   "name": "python3"
  },
  "language_info": {
   "codemirror_mode": {
    "name": "ipython",
    "version": 3
   },
   "file_extension": ".py",
   "mimetype": "text/x-python",
   "name": "python",
   "nbconvert_exporter": "python",
   "pygments_lexer": "ipython3",
   "version": "3.9.13"
  }
 },
 "nbformat": 4,
 "nbformat_minor": 5
}
